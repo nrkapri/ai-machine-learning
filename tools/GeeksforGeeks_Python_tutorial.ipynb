{
 "cells": [
  {
   "cell_type": "markdown",
   "metadata": {},
   "source": [
    "#### Writing our first program:"
   ]
  },
  {
   "cell_type": "code",
   "execution_count": 1,
   "metadata": {},
   "outputs": [
    {
     "name": "stdout",
     "output_type": "stream",
     "text": [
      "GeeksQuiz\n"
     ]
    }
   ],
   "source": [
    "print(\"GeeksQuiz\") "
   ]
  },
  {
   "cell_type": "markdown",
   "metadata": {},
   "source": [
    "#### Variables and Data Structures:\n",
    "In other programming languages like C, C++, and Java, you will need to declare the type of variables but in Python you don’t need to do that. Just type in the variable and when values will be given to it, then it will automatically know whether the value given would be an int, float, or char or even a String."
   ]
  },
  {
   "cell_type": "code",
   "execution_count": 2,
   "metadata": {},
   "outputs": [
    {
     "name": "stdout",
     "output_type": "stream",
     "text": [
      "3\n",
      "4.5\n",
      "helloworld\n"
     ]
    }
   ],
   "source": [
    "myNumber = 3\n",
    "print(myNumber) \n",
    "  \n",
    "myNumber2 = 4.5\n",
    "print(myNumber2) \n",
    "  \n",
    "myNumber =\"helloworld\"\n",
    "print(myNumber) "
   ]
  },
  {
   "cell_type": "markdown",
   "metadata": {},
   "source": [
    "Python have 4 types of built in Data Structures namely List, Dictionary, Tuple and Set.\n",
    "List is a mutable data structure i.e items can be added to list later after the list creation."
   ]
  },
  {
   "cell_type": "code",
   "execution_count": 3,
   "metadata": {},
   "outputs": [
    {
     "name": "stdout",
     "output_type": "stream",
     "text": [
      "[21, 40.5, 'String']\n"
     ]
    }
   ],
   "source": [
    "# Python program to illustrate a list  \n",
    "  \n",
    "# creates a empty list \n",
    "nums = []  \n",
    "  \n",
    "# appending data in list \n",
    "nums.append(21) \n",
    "nums.append(40.5) \n",
    "nums.append(\"String\") \n",
    "  \n",
    "print(nums) "
   ]
  },
  {
   "cell_type": "markdown",
   "metadata": {},
   "source": [
    "#### Input and Output"
   ]
  },
  {
   "cell_type": "code",
   "execution_count": 4,
   "metadata": {},
   "outputs": [
    {
     "name": "stdout",
     "output_type": "stream",
     "text": [
      "Enter your name: Nayan\n",
      "hello Nayan\n"
     ]
    }
   ],
   "source": [
    "# Python program to illustrate \n",
    "# getting input from user \n",
    "name = input(\"Enter your name: \")  \n",
    "  \n",
    "# user entered the name 'harssh' \n",
    "print(\"hello\", name) "
   ]
  },
  {
   "cell_type": "code",
   "execution_count": 5,
   "metadata": {},
   "outputs": [
    {
     "name": "stdout",
     "output_type": "stream",
     "text": [
      "Enter num1: 3\n",
      "Enter num2: 4\n",
      "Product is:  12\n"
     ]
    }
   ],
   "source": [
    "# Python3 program to get input from user \n",
    "  \n",
    "# accepting integer from the user \n",
    "# the return type of input() function is string , \n",
    "# so we need to convert the input to integer \n",
    "num1 = int(input(\"Enter num1: \")) \n",
    "num2 = int(input(\"Enter num2: \")) \n",
    "  \n",
    "num3 = num1 * num2 \n",
    "print(\"Product is: \", num3) "
   ]
  },
  {
   "cell_type": "markdown",
   "metadata": {},
   "source": [
    "#### Selection"
   ]
  },
  {
   "cell_type": "code",
   "execution_count": null,
   "metadata": {},
   "outputs": [],
   "source": [
    "# Python program to illustrate \n",
    "# selection statement \n",
    "  \n",
    "num1 = 34\n",
    "if(num1>12): \n",
    "    print(\"Num1 is good\") \n",
    "elif(num1>35): \n",
    "    print(\"Num2 is not gooooo....\") \n",
    "else: \n",
    "    print(\"Num2 is great\") "
   ]
  },
  {
   "cell_type": "markdown",
   "metadata": {},
   "source": [
    "***Functions\n",
    "def function-name(arguments):\n",
    "            #function body"
   ]
  },
  {
   "cell_type": "code",
   "execution_count": 7,
   "metadata": {},
   "outputs": [
    {
     "name": "stdout",
     "output_type": "stream",
     "text": [
      "hello\n",
      "hello again\n",
      "hello\n",
      "hello again\n"
     ]
    }
   ],
   "source": [
    "# Python program to illustrate \n",
    "# functions \n",
    "def hello(): \n",
    "    print(\"hello\") \n",
    "    print(\"hello again\") \n",
    "hello() \n",
    "  \n",
    "# calling function \n",
    "hello()   "
   ]
  },
  {
   "cell_type": "markdown",
   "metadata": {},
   "source": [
    "**Main function"
   ]
  },
  {
   "cell_type": "code",
   "execution_count": 8,
   "metadata": {},
   "outputs": [
    {
     "name": "stdout",
     "output_type": "stream",
     "text": [
      "Started\n",
      "Enter integer: 9\n",
      "9\n"
     ]
    }
   ],
   "source": [
    "# Python program to illustrate  \n",
    "# function with main \n",
    "def getInteger(): \n",
    "    result = int(input(\"Enter integer: \")) \n",
    "    return result \n",
    "  \n",
    "def Main(): \n",
    "    print(\"Started\") \n",
    "  \n",
    "    # calling the getInteger function and  \n",
    "    # storing its returned value in the output variable \n",
    "    output = getInteger()      \n",
    "    print(output) \n",
    "  \n",
    "# now we are required to tell Python  \n",
    "# for 'Main' function existence \n",
    "if __name__==\"__main__\": \n",
    "    Main()"
   ]
  },
  {
   "cell_type": "markdown",
   "metadata": {},
   "source": [
    "***Iteration (Looping)"
   ]
  },
  {
   "cell_type": "code",
   "execution_count": 9,
   "metadata": {},
   "outputs": [
    {
     "name": "stdout",
     "output_type": "stream",
     "text": [
      "0\n",
      "1\n",
      "2\n",
      "3\n",
      "4\n"
     ]
    }
   ],
   "source": [
    "# Python program to illustrate \n",
    "# a simple for loop \n",
    "  \n",
    "for step in range(5):     \n",
    "    print(step) "
   ]
  },
  {
   "cell_type": "markdown",
   "metadata": {},
   "source": [
    "## Keywords in Python"
   ]
  },
  {
   "cell_type": "markdown",
   "metadata": {},
   "source": [
    "1. True : This keyword is used to represent a boolean true. If a statement is true, “True” is printed.\n",
    "2. False : This keyword is used to represent a boolean false. If a statement is false, “False” is printed.\n",
    "True and False in python are same as 1 and 0. Example:"
   ]
  },
  {
   "cell_type": "code",
   "execution_count": 13,
   "metadata": {},
   "outputs": [
    {
     "name": "stdout",
     "output_type": "stream",
     "text": [
      "True\n",
      "True\n",
      "3\n",
      "1\n"
     ]
    }
   ],
   "source": [
    "print (False == 0)\n",
    "print (True == 1)\n",
    "\n",
    "print (True + True + True)\n",
    "print (True + False + False)"
   ]
  },
  {
   "cell_type": "markdown",
   "metadata": {},
   "source": [
    "3. None : This is a special constant used to denote a null value or a void. Its important to remember, 0, any empty container(e.g empty list) do not compute to None.\n",
    "It is an object of its datatype – NoneType. It is not possible to create multiple None objects and can assign them to variables."
   ]
  },
  {
   "cell_type": "markdown",
   "metadata": {},
   "source": [
    "4. and : This a logical operator in python. “and” Return the first false value .if not found return last. The truth table for “and” is depicted below.\n",
    "5. or : This a logical operator in python. “or” Return the first True value.if not found return last.The truth table for “or” is depicted below."
   ]
  },
  {
   "cell_type": "code",
   "execution_count": 14,
   "metadata": {},
   "outputs": [
    {
     "name": "stdout",
     "output_type": "stream",
     "text": [
      "False\n",
      "True\n",
      "True\n",
      "False\n",
      "False\n"
     ]
    }
   ],
   "source": [
    "# Python code to demonstrate \n",
    "# True, False, None, and, or , not \n",
    "\n",
    "# showing that None is not equal to 0 \n",
    "# prints False as its false. \n",
    "print (None == 0) \n",
    "\n",
    "# showing objective of None \n",
    "# two None value equated to None \n",
    "# here x and y both are null \n",
    "# hence true \n",
    "x = None\n",
    "y = None\n",
    "print (x == y) \n",
    "\n",
    "# showing logical operation \n",
    "# or (returns True) \n",
    "print (True or False) \n",
    "\n",
    "# showing logical operation \n",
    "# and (returns False) \n",
    "print (False and True) \n",
    "\n",
    "# showing logical operation \n",
    "# not (returns False) \n",
    "print (not True) \n"
   ]
  },
  {
   "cell_type": "markdown",
   "metadata": {},
   "source": [
    "7. assert : This function is used for debugging purposes. Usually used to check the correctness of code. If a statement evaluated to true, nothing happens, but when it is false, “AssertionError” is raised . One can also print a message with the error, separated by a comma."
   ]
  },
  {
   "cell_type": "markdown",
   "metadata": {},
   "source": [
    "8. break : “break” is used to control the flow of the loop. The statement is used to break out of the loop and passes the control to the statement following immediately after loop.\n",
    "\n",
    "9. continue : “continue” is also used to control the flow of code. The keyword skips the current iteration of the loop, but does not end the loop.\n"
   ]
  },
  {
   "cell_type": "markdown",
   "metadata": {},
   "source": [
    "10. class : This keyword is used to declare user defined classes. For more info.\n",
    "\n",
    "11. def : This keyword is used to declare user defined functions. For more info\n",
    "\n",
    "\n"
   ]
  },
  {
   "cell_type": "markdown",
   "metadata": {},
   "source": [
    "12. if : It is a control statement for decision making. Truth expression forces control to go in “if” statement block.\n",
    "\n",
    "13. else : It is a control statement for decision making. False expression forces control to go in “else” statement block.\n",
    "\n",
    "14. elif : It is a control statement for decision making. It is short for “else if”\n",
    "\n",
    "if, else and elif conditional statements are explained in detail here article."
   ]
  },
  {
   "cell_type": "markdown",
   "metadata": {},
   "source": [
    "15. del : del is used to delete a reference to an object. Any variable or list value can be deleted using del."
   ]
  },
  {
   "cell_type": "code",
   "execution_count": 15,
   "metadata": {},
   "outputs": [
    {
     "name": "stdout",
     "output_type": "stream",
     "text": [
      "The list before deleting any value\n",
      "[1, 2, 3]\n",
      "The list after deleting 2nd element\n",
      "[1, 3]\n"
     ]
    },
    {
     "ename": "AssertionError",
     "evalue": "5 is not smaller than 3",
     "output_type": "error",
     "traceback": [
      "\u001b[0;31m---------------------------------------------------------------------------\u001b[0m",
      "\u001b[0;31mAssertionError\u001b[0m                            Traceback (most recent call last)",
      "\u001b[0;32m<ipython-input-15-24fdcbcabfac>\u001b[0m in \u001b[0;36m<module>\u001b[0;34m\u001b[0m\n\u001b[1;32m     18\u001b[0m \u001b[0;31m# demonstrating use of assert\u001b[0m\u001b[0;34m\u001b[0m\u001b[0;34m\u001b[0m\u001b[0;34m\u001b[0m\u001b[0m\n\u001b[1;32m     19\u001b[0m \u001b[0;31m# prints AssertionError\u001b[0m\u001b[0;34m\u001b[0m\u001b[0;34m\u001b[0m\u001b[0;34m\u001b[0m\u001b[0m\n\u001b[0;32m---> 20\u001b[0;31m \u001b[0;32massert\u001b[0m \u001b[0;36m5\u001b[0m \u001b[0;34m<\u001b[0m \u001b[0;36m3\u001b[0m\u001b[0;34m,\u001b[0m \u001b[0;34m\"5 is not smaller than 3\"\u001b[0m\u001b[0;34m\u001b[0m\u001b[0;34m\u001b[0m\u001b[0m\n\u001b[0m",
      "\u001b[0;31mAssertionError\u001b[0m: 5 is not smaller than 3"
     ]
    }
   ],
   "source": [
    "# Python code to demonstrate \n",
    "# del and assert \n",
    "\n",
    "# initialising list \n",
    "a = [1, 2, 3] \n",
    "\n",
    "# printing list before deleting any value \n",
    "print (\"The list before deleting any value\") \n",
    "print (a) \n",
    "\n",
    "# using del to delete 2nd element of list \n",
    "del a[1] \n",
    "\n",
    "# printing list after deleting 2nd element \n",
    "print (\"The list after deleting 2nd element\") \n",
    "print (a) \n",
    "\n",
    "# demonstrating use of assert \n",
    "# prints AssertionError \n",
    "assert 5 < 3, \"5 is not smaller than 3\"\n"
   ]
  },
  {
   "cell_type": "markdown",
   "metadata": {},
   "source": [
    "16. try : This keyword is used for exception handling, used to catch the errors in the code using the keyword except. Code in “try” block is checked, if there is any type of error, except block is executed.\n",
    "\n",
    "17. except : As explained above, this works together with “try” to catch exceptions.\n",
    "\n",
    "18. raise : Also used for exception handling to explicitly raise exceptions.\n",
    "\n",
    "19. finally : No matter what is result of the “try” block, block termed “finally” is always executed.\n"
   ]
  },
  {
   "cell_type": "markdown",
   "metadata": {},
   "source": [
    "20. for : This keyword is used to control flow and for looping.\n",
    "\n",
    "21. while : Has a similar working like “for” , used to control flow and for looping."
   ]
  },
  {
   "cell_type": "markdown",
   "metadata": {},
   "source": [
    "22. pass : It is the null statement in python. Nothing happens when this is encountered. This is used to prevent indentation errors and used as a placeholder"
   ]
  },
  {
   "cell_type": "markdown",
   "metadata": {},
   "source": [
    "23. import : This statement is used to include a particular module into current program.\n",
    "\n",
    "24. from : Generally used with import, from is used to import particular functionality from the module imported.\n",
    "\n",
    "25. as : This keyword is used to create the alias for the module imported. i.e giving a new name to the imported module.. E.g import math as mymath.\n"
   ]
  },
  {
   "cell_type": "markdown",
   "metadata": {},
   "source": [
    "26. lambda : This keyword is used to make inline returning functions with no statements allowed internally. "
   ]
  },
  {
   "cell_type": "markdown",
   "metadata": {},
   "source": [
    "27. return : This keyword is used to return from the function."
   ]
  },
  {
   "cell_type": "markdown",
   "metadata": {},
   "source": [
    "28. yield : This keyword is used like return statement but is used to return a generator. "
   ]
  },
  {
   "cell_type": "markdown",
   "metadata": {},
   "source": [
    "29. with : This keyword is used to wrap the execution of block of code within methods defined by context manager.This keyword is not used much in day to day programming.\n",
    "\n",
    "30. in : This keyword is used to check if a container contains a value. This keyword is also used to loop through the container."
   ]
  },
  {
   "cell_type": "markdown",
   "metadata": {},
   "source": [
    "31. is : This keyword is used to test object identity, i.e to check if both the objects take same memory location or not."
   ]
  },
  {
   "cell_type": "code",
   "execution_count": 16,
   "metadata": {},
   "outputs": [
    {
     "name": "stdout",
     "output_type": "stream",
     "text": [
      "s is part of geeksforgeeks\n",
      "g e e k s f o r g e e k s \r\n",
      "True\n",
      "False\n"
     ]
    }
   ],
   "source": [
    "# Python code to demonstrate working of \n",
    "# in and is \n",
    "\n",
    "# using \"in\" to check \n",
    "if 's' in 'geeksforgeeks': \n",
    "\tprint (\"s is part of geeksforgeeks\") \n",
    "else : print (\"s is not part of geeksforgeeks\") \n",
    "\n",
    "# using \"in\" to loop through \n",
    "for i in 'geeksforgeeks': \n",
    "\tprint (i,end=\" \") \n",
    "\n",
    "print (\"\\r\") \n",
    "\t\n",
    "# using is to check object identity \n",
    "# string is immutable( cannot be changed once alloted) \n",
    "# hence occupy same memory location \n",
    "print (' ' is ' ') \n",
    "\n",
    "# using is to check object identity \n",
    "# dictionary is mutable( can be changed once alloted) \n",
    "# hence occupy different memory location \n",
    "print ({} is {}) \n"
   ]
  },
  {
   "cell_type": "markdown",
   "metadata": {},
   "source": [
    "32. global : This keyword is used to define a variable inside the function to be of a global scope."
   ]
  },
  {
   "cell_type": "markdown",
   "metadata": {},
   "source": [
    "33. non-local : This keyword works similar to the global, but rather than global, this keyword declares a variable to point to variable of outside enclosing function, in case of nested functions."
   ]
  },
  {
   "cell_type": "code",
   "execution_count": 17,
   "metadata": {},
   "outputs": [
    {
     "name": "stdout",
     "output_type": "stream",
     "text": [
      "10\n",
      "5\n",
      "5\n",
      "Value of a using nonlocal is : 10\n",
      "Value of a without using nonlocal is : 5\n"
     ]
    }
   ],
   "source": [
    "# Python code to demonstrate working of \n",
    "# global and non local \n",
    "\n",
    "#initializing variable globally \n",
    "a = 10\n",
    "\n",
    "# used to read the variable \n",
    "def read(): \n",
    "\tprint (a) \n",
    "\n",
    "# changing the value of globally defined variable \n",
    "def mod1(): \n",
    "\tglobal a \n",
    "\ta = 5\n",
    "\n",
    "# changing value of only local variable \n",
    "def mod2(): \n",
    "\ta = 15\n",
    "\n",
    "# reading initial value of a \n",
    "# prints 10 \n",
    "read() \n",
    "\n",
    "# calling mod 1 function to modify value \n",
    "# modifies value of global a to 5 \n",
    "mod1() \n",
    "\n",
    "# reading modified value \n",
    "# prints 5 \n",
    "read() \n",
    "\n",
    "# calling mod 2 function to modify value \n",
    "# modifies value of local a to 15, doesn't effect global value \n",
    "mod2() \n",
    "\n",
    "# reading modified value \n",
    "# again prints 5 \n",
    "read() \n",
    "\n",
    "# demonstrating non local \n",
    "# inner loop changing the value of outer a \n",
    "# prints 10 \n",
    "print (\"Value of a using nonlocal is : \",end=\"\") \n",
    "def outer(): \n",
    "\ta = 5\n",
    "\tdef inner(): \n",
    "\t\tnonlocal a \n",
    "\t\ta = 10\n",
    "\tinner() \n",
    "\tprint (a) \n",
    "\n",
    "outer() \n",
    "\n",
    "# demonstrating without non local \n",
    "# inner loop not changing the value of outer a \n",
    "# prints 5 \n",
    "print (\"Value of a without using nonlocal is : \",end=\"\") \n",
    "def outer(): \n",
    "\ta = 5\n",
    "\tdef inner(): \n",
    "\t\ta = 10\n",
    "\tinner() \n",
    "\tprint (a) \n",
    "\n",
    "outer() \n"
   ]
  },
  {
   "cell_type": "markdown",
   "metadata": {},
   "source": [
    "## namespaces\n",
    "\n"
   ]
  },
  {
   "cell_type": "markdown",
   "metadata": {},
   "source": [
    "#### types of namespaces\n",
    "\n",
    "When Python interpreter runs solely without and user-defined modules, methods, classes, etc. Some functions like print(), id() are always present, these are built in namespaces. When a user creates a module, a global namespace gets created, later creation of local functions creates the local namespace. The built-in namespace encompasses global namespace and global namespace encompasses local namespace.\n",
    "\n",
    "https://media.geeksforgeeks.org/wp-content/uploads/types_namespace-1.png"
   ]
  },
  {
   "cell_type": "markdown",
   "metadata": {},
   "source": [
    "#### Lifetime of a namespace :\n",
    "\n",
    "A lifetime of a namespace depends upon the scope of objects, if the scope of an object ends, the lifetime of that namespace comes to an end. Hence, it is not possible to access inner namespace’s objects from an outer namespace."
   ]
  },
  {
   "cell_type": "code",
   "execution_count": 18,
   "metadata": {},
   "outputs": [],
   "source": [
    "# var1 is in the global namespace \n",
    "var1 = 5\n",
    "def some_func(): \n",
    "\n",
    "\t# var2 is in the local namespace \n",
    "\tvar2 = 6\n",
    "\tdef some_inner_func(): \n",
    "\n",
    "\t\t# var3 is in the nested local \n",
    "\t\t# namespace \n",
    "\t\tvar3 = 7\n"
   ]
  },
  {
   "cell_type": "markdown",
   "metadata": {},
   "source": [
    "same object name can be present in multiple namespaces as isolation between the same name is maintained by their namespace.\n",
    "\n",
    "https://media.geeksforgeeks.org/wp-content/uploads/namespaces.png\n",
    "\n",
    "But in some cases, one might be interested in updating or processing global variable only, as shown in the following example, one should mark it explicitly as global and the update or process."
   ]
  },
  {
   "cell_type": "code",
   "execution_count": 19,
   "metadata": {},
   "outputs": [
    {
     "name": "stdout",
     "output_type": "stream",
     "text": [
      "6\n"
     ]
    }
   ],
   "source": [
    "# Python program processing \n",
    "# global variable \n",
    "\n",
    "count = 5\n",
    "def some_method(): \n",
    "\tglobal count \n",
    "\tcount = count + 1\n",
    "\tprint(count) \n",
    "some_method() \n"
   ]
  },
  {
   "cell_type": "markdown",
   "metadata": {},
   "source": [
    "#### Scope of Objects in Python :\n",
    "\n",
    "Scope refers to the coding region from which particular Python object is accessible. Hence one cannot access any particular object from anywhere from the code, the accessing has to be allowed by the scope of the object."
   ]
  },
  {
   "cell_type": "code",
   "execution_count": 20,
   "metadata": {},
   "outputs": [
    {
     "name": "stdout",
     "output_type": "stream",
     "text": [
      "Inside some_func\n",
      "Inside inner function, value of var: 10\n"
     ]
    },
    {
     "ename": "NameError",
     "evalue": "name 'var' is not defined",
     "output_type": "error",
     "traceback": [
      "\u001b[0;31m---------------------------------------------------------------------------\u001b[0m",
      "\u001b[0;31mNameError\u001b[0m                                 Traceback (most recent call last)",
      "\u001b[0;32m<ipython-input-20-b2ffdf325303>\u001b[0m in \u001b[0;36m<module>\u001b[0;34m\u001b[0m\n\u001b[1;32m      9\u001b[0m         \u001b[0msome_inner_func\u001b[0m\u001b[0;34m(\u001b[0m\u001b[0;34m)\u001b[0m\u001b[0;34m\u001b[0m\u001b[0;34m\u001b[0m\u001b[0m\n\u001b[1;32m     10\u001b[0m         \u001b[0mprint\u001b[0m\u001b[0;34m(\u001b[0m\u001b[0;34m\"Try printing var from outer function: \"\u001b[0m\u001b[0;34m,\u001b[0m\u001b[0mvar\u001b[0m\u001b[0;34m)\u001b[0m\u001b[0;34m\u001b[0m\u001b[0;34m\u001b[0m\u001b[0m\n\u001b[0;32m---> 11\u001b[0;31m \u001b[0msome_func\u001b[0m\u001b[0;34m(\u001b[0m\u001b[0;34m)\u001b[0m\u001b[0;34m\u001b[0m\u001b[0;34m\u001b[0m\u001b[0m\n\u001b[0m",
      "\u001b[0;32m<ipython-input-20-b2ffdf325303>\u001b[0m in \u001b[0;36msome_func\u001b[0;34m()\u001b[0m\n\u001b[1;32m      8\u001b[0m                 \u001b[0mprint\u001b[0m\u001b[0;34m(\u001b[0m\u001b[0;34m\"Inside inner function, value of var:\"\u001b[0m\u001b[0;34m,\u001b[0m\u001b[0mvar\u001b[0m\u001b[0;34m)\u001b[0m\u001b[0;34m\u001b[0m\u001b[0;34m\u001b[0m\u001b[0m\n\u001b[1;32m      9\u001b[0m         \u001b[0msome_inner_func\u001b[0m\u001b[0;34m(\u001b[0m\u001b[0;34m)\u001b[0m\u001b[0;34m\u001b[0m\u001b[0;34m\u001b[0m\u001b[0m\n\u001b[0;32m---> 10\u001b[0;31m         \u001b[0mprint\u001b[0m\u001b[0;34m(\u001b[0m\u001b[0;34m\"Try printing var from outer function: \"\u001b[0m\u001b[0;34m,\u001b[0m\u001b[0mvar\u001b[0m\u001b[0;34m)\u001b[0m\u001b[0;34m\u001b[0m\u001b[0;34m\u001b[0m\u001b[0m\n\u001b[0m\u001b[1;32m     11\u001b[0m \u001b[0msome_func\u001b[0m\u001b[0;34m(\u001b[0m\u001b[0;34m)\u001b[0m\u001b[0;34m\u001b[0m\u001b[0;34m\u001b[0m\u001b[0m\n",
      "\u001b[0;31mNameError\u001b[0m: name 'var' is not defined"
     ]
    }
   ],
   "source": [
    "# Python program showing \n",
    "# a scope of object \n",
    "\n",
    "def some_func(): \n",
    "\tprint(\"Inside some_func\") \n",
    "\tdef some_inner_func(): \n",
    "\t\tvar = 10\n",
    "\t\tprint(\"Inside inner function, value of var:\",var) \n",
    "\tsome_inner_func() \n",
    "\tprint(\"Try printing var from outer function: \",var) \n",
    "some_func() \n"
   ]
  },
  {
   "cell_type": "markdown",
   "metadata": {},
   "source": [
    "## Statement, Indentation and Comment in Python"
   ]
  },
  {
   "cell_type": "markdown",
   "metadata": {},
   "source": [
    "#### Statements\n",
    "\n",
    "Instructions written in the source code for execution are called statements. \n",
    "Multi-Line Statements:\n",
    "\n",
    "Declared using Continuation Character (\\):\n",
    "s = 1 + 2 + 3 + \\\n",
    "    4 + 5 + 6 + \\\n",
    "    7 + 8 + 9\n",
    "\n",
    "Declared using parentheses () :\n",
    "n = (1 * 2 * 3 + 7 + 8 + 9)\n",
    "\n",
    "Declared using square brackets [] :\n",
    "footballer = ['MESSI',\n",
    "          'NEYMAR',\n",
    "          'SUAREZ']\n",
    "\n",
    "Declared using braces {} :\n",
    "x = {1 + 2 + 3 + 4 + 5 + 6 +\n",
    "     7 + 8 + 9}\n",
    "\n",
    "Declared using semicolons(;) :\n",
    "flag = 2; ropes = 3; pole = 4\n",
    "\n",
    "#### Indentation\n",
    "\n",
    "All statements with the same distance to the right belong to the same block of code. If a block has to be more deeply nested, it is simply indented further to the right. \n",
    "\n",
    "#### Comments\n",
    "\n",
    "Single line comments : "
   ]
  },
  {
   "cell_type": "code",
   "execution_count": null,
   "metadata": {},
   "outputs": [],
   "source": [
    "# This is a comment \n",
    "# Print “GeeksforGeeks !” to console \n",
    "print(\"GeeksforGeeks\") "
   ]
  },
  {
   "cell_type": "markdown",
   "metadata": {},
   "source": [
    "Multi-line string as comment : "
   ]
  },
  {
   "cell_type": "code",
   "execution_count": null,
   "metadata": {},
   "outputs": [],
   "source": [
    "'''This article on geeksforgeeks gives you a \n",
    "perfect example of \n",
    "multi-line comments'''\n",
    "\n",
    "print(\"GeeksForGeeks\") "
   ]
  },
  {
   "cell_type": "markdown",
   "metadata": {},
   "source": [
    "##### Whitespace is mostly ignored, and mostly not required, by the Python interpreter. "
   ]
  },
  {
   "cell_type": "code",
   "execution_count": 22,
   "metadata": {},
   "outputs": [
    {
     "name": "stdout",
     "output_type": "stream",
     "text": [
      "-1\n"
     ]
    }
   ],
   "source": [
    "# Example 1 \n",
    "\n",
    "# This is correct but whitespace can improve readability \n",
    "\n",
    "a = 1-2 # Better way is a = 1 - 2 \n",
    "\n",
    "print(a) \n"
   ]
  },
  {
   "cell_type": "code",
   "execution_count": 32,
   "metadata": {},
   "outputs": [
    {
     "name": "stdout",
     "output_type": "stream",
     "text": [
      "True\n"
     ]
    },
    {
     "data": {
      "text/plain": [
       "' Readable form could be as follows \\nx = 10 \\nflag = (x == 10) and (x < 12) \\nprint(flag) \\n'"
      ]
     },
     "execution_count": 32,
     "metadata": {},
     "output_type": "execute_result"
    }
   ],
   "source": [
    "# Example 2 \n",
    "\n",
    "# This is correct \n",
    "# Whitespace here can improve readability. \n",
    "x = 10\n",
    "flag =(x == 10)and(x<12) \n",
    "print(flag)\n",
    "\n",
    "\"\"\" Readable form could be as follows \n",
    "x = 10 \n",
    "flag = (x == 10) and (x < 12) \n",
    "print(flag) \n",
    "\"\"\"\n",
    "\n",
    "# Try the more readable code yourself \n"
   ]
  },
  {
   "cell_type": "code",
   "execution_count": 33,
   "metadata": {},
   "outputs": [
    {
     "name": "stdout",
     "output_type": "stream",
     "text": [
      "True\n"
     ]
    }
   ],
   "source": [
    "# Example \n",
    "\n",
    "x = [1, 2, 3] \n",
    "y = 2\n",
    "\n",
    "\"\"\" Following is incorrect, and will generate syntax error \n",
    "a = yin x \n",
    "\"\"\"\n",
    "\n",
    "# Corrected version is written as \n",
    "a = y in x \n",
    "print(a) \n"
   ]
  },
  {
   "cell_type": "markdown",
   "metadata": {},
   "source": [
    "#### Whitespaces as Indentation\n",
    "\n",
    "Python’s syntax is quite easy, but still you have to take some care in writing the code. Indentation is used in writing python codes.\n",
    "        Whitespaces before a statement have significant role and are used in indentation. Whitespace before a statement can have a different meaning. Let’s try an example."
   ]
  },
  {
   "cell_type": "code",
   "execution_count": 35,
   "metadata": {},
   "outputs": [
    {
     "ename": "IndentationError",
     "evalue": "unexpected indent (<ipython-input-35-fac477e199c6>, line 5)",
     "output_type": "error",
     "traceback": [
      "\u001b[0;36m  File \u001b[0;32m\"<ipython-input-35-fac477e199c6>\"\u001b[0;36m, line \u001b[0;32m5\u001b[0m\n\u001b[0;31m    print('foo') # This will generate an error\u001b[0m\n\u001b[0m    ^\u001b[0m\n\u001b[0;31mIndentationError\u001b[0m\u001b[0;31m:\u001b[0m unexpected indent\n"
     ]
    }
   ],
   "source": [
    "# Example \n",
    "\n",
    "print('foo') # Correct \n",
    "\n",
    "    print('foo') # This will generate an error \n",
    "\n",
    "# The error would be somewhat 'unexpected indent' \n"
   ]
  },
  {
   "cell_type": "markdown",
   "metadata": {},
   "source": [
    "##### One liner if-else instead of Conditional Operator (?:) in Python"
   ]
  },
  {
   "cell_type": "code",
   "execution_count": 36,
   "metadata": {},
   "outputs": [
    {
     "name": "stdout",
     "output_type": "stream",
     "text": [
      "The value of a is: 1\n"
     ]
    }
   ],
   "source": [
    "# Python 3 code to demonstrate variable assignment \n",
    "# upon condition using One liner if-else \n",
    "\n",
    "# initialising variable using Conditional Operator \n",
    "# a = 20 > 10 ? 1 : 0 is not possible in Python \n",
    "# Instead there is one liner if-else \n",
    "a = 1 if 20 > 10 else 0\n",
    "\n",
    "# printing value of a \n",
    "print (\"The value of a is: \" + str(a)) \n"
   ]
  },
  {
   "cell_type": "markdown",
   "metadata": {},
   "source": [
    "## Decision making"
   ]
  },
  {
   "cell_type": "markdown",
   "metadata": {},
   "source": [
    "#### if-else statement"
   ]
  },
  {
   "cell_type": "code",
   "execution_count": 38,
   "metadata": {},
   "outputs": [
    {
     "name": "stdout",
     "output_type": "stream",
     "text": [
      "I am Not in if\n"
     ]
    }
   ],
   "source": [
    "# python program to illustrate If statement \n",
    "\n",
    "i = 10\n",
    "if (i > 15): \n",
    "    print (\"10 is less than 15\") \n",
    "print (\"I am Not in if\") \n"
   ]
  },
  {
   "cell_type": "code",
   "execution_count": 39,
   "metadata": {},
   "outputs": [
    {
     "name": "stdout",
     "output_type": "stream",
     "text": [
      "i is greater than 15\n",
      "i'm in else Block\n",
      "i'm not in if and not in else Block\n"
     ]
    }
   ],
   "source": [
    "# python program to illustrate If else statement \n",
    "#!/usr/bin/python \n",
    "\n",
    "i = 20; \n",
    "if (i < 15): \n",
    "\tprint (\"i is smaller than 15\") \n",
    "\tprint (\"i'm in if Block\") \n",
    "else: \n",
    "\tprint (\"i is greater than 15\") \n",
    "\tprint (\"i'm in else Block\") \n",
    "print (\"i'm not in if and not in else Block\") \n"
   ]
  },
  {
   "cell_type": "code",
   "execution_count": 40,
   "metadata": {},
   "outputs": [
    {
     "name": "stdout",
     "output_type": "stream",
     "text": [
      "i is 20\n"
     ]
    }
   ],
   "source": [
    "# Python program to illustrate if-elif-else ladder \n",
    "#!/usr/bin/python \n",
    "\n",
    "i = 20\n",
    "if (i == 10): \n",
    "\tprint (\"i is 10\") \n",
    "elif (i == 15): \n",
    "\tprint (\"i is 15\") \n",
    "elif (i == 20): \n",
    "\tprint (\"i is 20\") \n",
    "else: \n",
    "\tprint (\"i is not present\") \n"
   ]
  },
  {
   "cell_type": "markdown",
   "metadata": {},
   "source": [
    "### Basic calculator program "
   ]
  },
  {
   "cell_type": "code",
   "execution_count": 43,
   "metadata": {},
   "outputs": [
    {
     "name": "stdout",
     "output_type": "stream",
     "text": [
      "Please select operation -\n",
      "1. Add\n",
      "2. Subtract\n",
      "3. Multiply\n",
      "4. Divide\n",
      "\n",
      "Select operations form 1, 2, 3, 4 :1\n",
      "Enter first number: 2\n",
      "Enter second number: 3\n",
      "2 + 3 = 5\n"
     ]
    }
   ],
   "source": [
    "# Python program for simple calculator \n",
    "\n",
    "# Function to add two numbers \n",
    "def add(num1, num2): \n",
    "\treturn num1 + num2 \n",
    "\n",
    "# Function to subtract two numbers \n",
    "def subtract(num1, num2): \n",
    "\treturn num1 - num2 \n",
    "\n",
    "# Function to multiply two numbers \n",
    "def multiply(num1, num2): \n",
    "\treturn num1 * num2 \n",
    "\n",
    "# Function to divide two numbers \n",
    "def divide(num1, num2): \n",
    "\treturn num1 / num2 \n",
    "\n",
    "print(\"Please select operation -\\n\" \n",
    "\t\t\"1. Add\\n\" \n",
    "\t\t\"2. Subtract\\n\" \n",
    "\t\t\"3. Multiply\\n\"  \n",
    "\t\t\"4. Divide\\n\") \n",
    "\n",
    "\n",
    "\n",
    "# Take input from the user \n",
    "select = int(input(\"Select operations form 1, 2, 3, 4 :\")) \n",
    "\n",
    "number_1 = int(input(\"Enter first number: \")) \n",
    "number_2 = int(input(\"Enter second number: \")) \n",
    "\n",
    "if select == 1: \n",
    "\tprint(number_1, \"+\", number_2, \"=\", \n",
    "\t\t\t\t\tadd(number_1, number_2)) \n",
    "\n",
    "elif select == 2: \n",
    "\tprint(number_1, \"-\", number_2, \"=\", \n",
    "\t\t\t\t\tsubtract(number_1, number_2)) \n",
    "\n",
    "elif select == 3: \n",
    "\tprint(number_1, \"*\", number_2, \"=\", \n",
    "\t\t\t\t\tmultiply(number_1, number_2)) \n",
    "\n",
    "elif select == 4: \n",
    "\tprint(number_1, \"/\", number_2, \"=\", \n",
    "\t\t\t\t\tdivide(number_1, number_2)) \n",
    "else: \n",
    "\tprint(\"Invalid input\") \n"
   ]
  },
  {
   "cell_type": "markdown",
   "metadata": {},
   "source": [
    "## Input/Output"
   ]
  },
  {
   "cell_type": "markdown",
   "metadata": {},
   "source": [
    "Whatever you enter as input, input function convert it into a string. if you enter an integer value still input() function convert it into a string. You need to explicitly convert it into an integer in your code using typecasting."
   ]
  },
  {
   "cell_type": "code",
   "execution_count": 44,
   "metadata": {},
   "outputs": [
    {
     "name": "stdout",
     "output_type": "stream",
     "text": [
      "Enter number :5\n",
      "5\n",
      "Enter name : nayan\n",
      "nayan\n",
      "type of number <class 'str'>\n",
      "type of name <class 'str'>\n"
     ]
    }
   ],
   "source": [
    "# Program to check input \n",
    "# type in Python \n",
    "\n",
    "num = input (\"Enter number :\") \n",
    "print(num) \n",
    "name1 = input(\"Enter name : \") \n",
    "print(name1) \n",
    "\n",
    "# Printing type of input value \n",
    "print (\"type of number\", type(num)) \n",
    "print (\"type of name\", type(name1)) \n"
   ]
  },
  {
   "cell_type": "code",
   "execution_count": 45,
   "metadata": {},
   "outputs": [
    {
     "name": "stdout",
     "output_type": "stream",
     "text": [
      "2\n",
      "4\n",
      "6\n"
     ]
    }
   ],
   "source": [
    "# input \n",
    "num1 = int(input()) \n",
    "num2 = int(input()) \n",
    "\n",
    "# printing the sum in integer \n",
    "print(num1 + num2) \n"
   ]
  },
  {
   "cell_type": "code",
   "execution_count": 47,
   "metadata": {},
   "outputs": [
    {
     "name": "stdout",
     "output_type": "stream",
     "text": [
      "2\n",
      "4\n",
      "6.0\n"
     ]
    }
   ],
   "source": [
    "# input \n",
    "num1 = float(input()) \n",
    "num2 = float(input()) \n",
    "\n",
    "# printing the sum in float \n",
    "print(num1 + num2) \n"
   ]
  },
  {
   "cell_type": "code",
   "execution_count": 48,
   "metadata": {},
   "outputs": [
    {
     "name": "stdout",
     "output_type": "stream",
     "text": [
      "34\n",
      "34\n"
     ]
    }
   ],
   "source": [
    "# input \n",
    "string = str(input()) \n",
    "\n",
    "# output \n",
    "print(string) \n"
   ]
  },
  {
   "cell_type": "markdown",
   "metadata": {},
   "source": [
    "#### Taking multiple inputs from user in Python"
   ]
  },
  {
   "cell_type": "markdown",
   "metadata": {},
   "source": [
    "#### Using split() method :\n",
    "This function helps in getting a multiple inputs from user . It breaks the given input by the specified separator. If separator is not provided then any white space is a separator. Generally, user use a split() method to split a Python string but one can used it in taking multiple input."
   ]
  },
  {
   "cell_type": "code",
   "execution_count": 50,
   "metadata": {},
   "outputs": [
    {
     "name": "stdout",
     "output_type": "stream",
     "text": [
      "Enter a two value: 2 2 \n",
      "Number of boys:  2\n",
      "Number of girls:  2\n",
      "\n",
      "Enter a three value: 2 3 4\n",
      "Total number of students:  2\n",
      "Number of boys is :  3\n",
      "Number of girls is :  4\n",
      "\n",
      "Enter a two value: 2 3 \n",
      "First number is 2 and second number is 3\n",
      "\n",
      "Enter a multiple value: 2 2 2 2 2 2 2 2\n",
      "List of students:  [2, 2, 2, 2, 2, 2, 2, 2]\n"
     ]
    }
   ],
   "source": [
    "# Python program showing how to \n",
    "# multiple input using split \n",
    "\n",
    "# taking two inputs at a time \n",
    "x, y = input(\"Enter a two value: \").split() \n",
    "print(\"Number of boys: \", x) \n",
    "print(\"Number of girls: \", y) \n",
    "print() \n",
    "\n",
    "# taking three inputs at a time \n",
    "x, y, z = input(\"Enter a three value: \").split() \n",
    "print(\"Total number of students: \", x) \n",
    "print(\"Number of boys is : \", y) \n",
    "print(\"Number of girls is : \", z) \n",
    "print() \n",
    "\n",
    "# taking two inputs at a time \n",
    "a, b = input(\"Enter a two value: \").split() \n",
    "print(\"First number is {} and second number is {}\".format(a, b)) \n",
    "print() \n",
    "\n",
    "# taking multiple inputs at a time \n",
    "# and type casting using list() function \n",
    "x = list(map(int, input(\"Enter a multiple value: \").split())) \n",
    "print(\"List of students: \", x) \n"
   ]
  },
  {
   "cell_type": "markdown",
   "metadata": {},
   "source": [
    "#### Using List comprehension :"
   ]
  },
  {
   "cell_type": "code",
   "execution_count": 51,
   "metadata": {},
   "outputs": [
    {
     "name": "stdout",
     "output_type": "stream",
     "text": [
      "Enter two value: 2 2 \n",
      "First Number is:  2\n",
      "Second Number is:  2\n",
      "\n",
      "Enter three value: 2 3 4\n",
      "First Number is:  2\n",
      "Second Number is:  3\n",
      "Third Number is:  4\n",
      "\n",
      "Enter two value: 2 3 \n",
      "First number is 2 and second number is 3\n",
      "\n",
      "Enter multiple value: 2 2 2 2 2 2\n",
      "Number of list is:  [2, 2, 2, 2, 2, 2]\n"
     ]
    }
   ],
   "source": [
    "# Python program showing \n",
    "# how to take multiple input \n",
    "# using List comprehension \n",
    "\n",
    "# taking two input at a time \n",
    "x, y = [int(x) for x in input(\"Enter two value: \").split()] \n",
    "print(\"First Number is: \", x) \n",
    "print(\"Second Number is: \", y) \n",
    "print() \n",
    "\n",
    "# taking three input at a time \n",
    "x, y, z = [int(x) for x in input(\"Enter three value: \").split()] \n",
    "print(\"First Number is: \", x) \n",
    "print(\"Second Number is: \", y) \n",
    "print(\"Third Number is: \", z) \n",
    "print() \n",
    "\n",
    "# taking two inputs at a time \n",
    "x, y = [int(x) for x in input(\"Enter two value: \").split()] \n",
    "print(\"First number is {} and second number is {}\".format(x, y)) \n",
    "print() \n",
    "\n",
    "# taking multiple inputs at a time \n",
    "x = [int(x) for x in input(\"Enter multiple value: \").split()] \n",
    "print(\"Number of list is: \", x) \n"
   ]
  },
  {
   "cell_type": "markdown",
   "metadata": {},
   "source": [
    "#### Print\n"
   ]
  },
  {
   "cell_type": "code",
   "execution_count": 52,
   "metadata": {},
   "outputs": [
    {
     "name": "stdout",
     "output_type": "stream",
     "text": [
      "GeeksForGeeks\n",
      "x = 5\n",
      "GFG\n",
      "Python@GeeksforGeeks\n"
     ]
    }
   ],
   "source": [
    "# Python 3.x program showing \n",
    "# how to print data on \n",
    "# a screen \n",
    "\n",
    "# One object is passed \n",
    "print(\"GeeksForGeeks\") \n",
    "\n",
    "x = 5\n",
    "# Two objects are passed \n",
    "print(\"x =\", x) \n",
    "\n",
    "# code for disabling the softspace feature \n",
    "print('G', 'F', 'G', sep ='') \n",
    "\n",
    "# using end argument \n",
    "print(\"Python\", end = '@') \n",
    "print(\"GeeksforGeeks\") \n"
   ]
  },
  {
   "cell_type": "markdown",
   "metadata": {},
   "source": [
    "#### Formatting output using String modulo operator(%) :"
   ]
  },
  {
   "cell_type": "code",
   "execution_count": 54,
   "metadata": {},
   "outputs": [
    {
     "name": "stdout",
     "output_type": "stream",
     "text": [
      "Geeks :  1, Portal :  5.33\n",
      "Total students :  240, Boys :  120\n",
      "    031\n",
      " 3.561E+02\n"
     ]
    }
   ],
   "source": [
    "# Python program showing how to use \n",
    "# string modulo operator(%) to print \n",
    "# fancier output \n",
    "\n",
    "# print integer and float value \n",
    "print(\"Geeks : % 2d, Portal : % 5.2f\" %(1, 05.333)) \n",
    "\n",
    "# print integer value \n",
    "print(\"Total students : % 3d, Boys : % 2d\" %(240, 120)) \n",
    "\n",
    "# print octal value \n",
    "print(\"% 7.3o\"% (25)) \n",
    "\n",
    "# print exponential value \n",
    "print(\"% 10.3E\"% (356.08977)) \n"
   ]
  },
  {
   "cell_type": "markdown",
   "metadata": {},
   "source": [
    "#### Formatting output using format method :"
   ]
  },
  {
   "cell_type": "code",
   "execution_count": 55,
   "metadata": {},
   "outputs": [
    {
     "name": "stdout",
     "output_type": "stream",
     "text": [
      "I love Geeks for \"Geeks!\"\n",
      "Geeks and Portal\n",
      "Portal and Geeks\n"
     ]
    }
   ],
   "source": [
    "# Python program showing \n",
    "# use of format() method \n",
    "\n",
    "# using format() method \n",
    "print('I love {} for \"{}!\"'.format('Geeks', 'Geeks')) \n",
    "\n",
    "# using format() method and refering \n",
    "# a position of the object \n",
    "print('{0} and {1}'.format('Geeks', 'Portal')) \n",
    "\n",
    "print('{1} and {0}'.format('Geeks', 'Portal')) \n"
   ]
  },
  {
   "cell_type": "code",
   "execution_count": 56,
   "metadata": {},
   "outputs": [
    {
     "name": "stdout",
     "output_type": "stream",
     "text": [
      "Number one portal is Geeks, For, and Geeks.\n",
      "Geeks :12, Portal :    0.55\n",
      "Second argument:  11, first one:   47.42\n",
      "Geeks:   453, Portal:    59.06\n"
     ]
    }
   ],
   "source": [
    "# Python program showing \n",
    "# a use of format() method \n",
    "\n",
    "# combining positional and keyword arguments \n",
    "print('Number one portal is {0}, {1}, and {other}.'\n",
    "\t.format('Geeks', 'For', other ='Geeks')) \n",
    "\n",
    "# using format() method with number \n",
    "print(\"Geeks :{0:2d}, Portal :{1:8.2f}\". \n",
    "\tformat(12, 00.546)) \n",
    "\n",
    "# Changing positional argument \n",
    "print(\"Second argument: {1:3d}, first one: {0:7.2f}\". \n",
    "\tformat(47.42, 11)) \n",
    "\n",
    "print(\"Geeks: {a:5d}, Portal: {p:8.2f}\". \n",
    "\tformat(a = 453, p = 59.058)) \n"
   ]
  },
  {
   "cell_type": "code",
   "execution_count": 57,
   "metadata": {},
   "outputs": [
    {
     "name": "stdout",
     "output_type": "stream",
     "text": [
      "Geeks: 4127; For: 4098; Geeks: 8637678\n",
      "I love GeeksForGeeks computer Portal\n"
     ]
    }
   ],
   "source": [
    "# Python program to \n",
    "# show format () is \n",
    "# used in dictionary \n",
    "\n",
    "tab = {'geeks': 4127, 'for': 4098, 'geek': 8637678} \n",
    "\n",
    "# using format() in dictionary \n",
    "print('Geeks: {0[geeks]:d}; For: {0[for]:d}; '\n",
    "\t'Geeks: {0[geek]:d}'.format(tab)) \n",
    "\n",
    "data = dict(fun =\"GeeksForGeeks\", adj =\"Portal\") \n",
    "\n",
    "# using format() in dictionary \n",
    "print(\"I love {fun} computer {adj}\".format(**data)) \n"
   ]
  },
  {
   "cell_type": "code",
   "execution_count": 58,
   "metadata": {},
   "outputs": [
    {
     "name": "stdout",
     "output_type": "stream",
     "text": [
      "Center aligned string with fillchr: \n",
      "##########I love geeksforgeeks##########\n",
      "The left aligned string is : \n",
      "I love geeksforgeeks--------------------\n",
      "The right aligned string is : \n",
      "--------------------I love geeksforgeeks\n"
     ]
    }
   ],
   "source": [
    "# Python program to \n",
    "# format a output using \n",
    "# string() method \n",
    "\n",
    "cstr = \"I love geeksforgeeks\"\n",
    "\t\n",
    "# Printing the center aligned \n",
    "# string with fillchr \n",
    "print (\"Center aligned string with fillchr: \") \n",
    "print (cstr.center(40, '#')) \n",
    "\n",
    "# Printing the left aligned \n",
    "# string with \"-\" padding \n",
    "print (\"The left aligned string is : \") \n",
    "print (cstr.ljust(40, '-')) \n",
    "\n",
    "# Printing the right aligned string \n",
    "# with \"-\" padding \n",
    "print (\"The right aligned string is : \") \n",
    "print (cstr.rjust(40, '-')) \n"
   ]
  },
  {
   "cell_type": "markdown",
   "metadata": {},
   "source": [
    "# Data Types"
   ]
  },
  {
   "cell_type": "markdown",
   "metadata": {},
   "source": [
    "#### String\n",
    "\n",
    "Strings in Python can be created using single quotes or double quotes or even triple quotes."
   ]
  },
  {
   "cell_type": "code",
   "execution_count": 60,
   "metadata": {},
   "outputs": [
    {
     "name": "stdout",
     "output_type": "stream",
     "text": [
      "String with the use of Single Quotes: \n",
      "Welcome to the Geeks World\n",
      "\n",
      "String with the use of Double Quotes: \n",
      "I'm a Geek\n",
      "\n",
      "String with the use of Triple Quotes: \n",
      "I'm a Geek and I live in a world of \"Geeks\"\n",
      "\n",
      "Creating a multiline String: \n",
      "Geeks \n",
      "\t\t\tFor \n",
      "\t\t\tLife\n"
     ]
    }
   ],
   "source": [
    "# Python Program for \n",
    "# Creation of String \n",
    "\n",
    "# Creating a String \n",
    "# with single Quotes \n",
    "String1 = 'Welcome to the Geeks World'\n",
    "print(\"String with the use of Single Quotes: \") \n",
    "print(String1) \n",
    "\n",
    "# Creating a String \n",
    "# with double Quotes \n",
    "String1 = \"I'm a Geek\"\n",
    "print(\"\\nString with the use of Double Quotes: \") \n",
    "print(String1) \n",
    "\n",
    "# Creating a String \n",
    "# with triple Quotes \n",
    "String1 = '''I'm a Geek and I live in a world of \"Geeks\"'''\n",
    "print(\"\\nString with the use of Triple Quotes: \") \n",
    "print(String1) \n",
    "\n",
    "# Creating String with triple \n",
    "# Quotes allows multiple lines \n",
    "String1 = '''Geeks \n",
    "\t\t\tFor \n",
    "\t\t\tLife'''\n",
    "print(\"\\nCreating a multiline String: \") \n",
    "print(String1) \n"
   ]
  },
  {
   "cell_type": "markdown",
   "metadata": {},
   "source": [
    "###### Accessing characters in Python"
   ]
  },
  {
   "cell_type": "code",
   "execution_count": 62,
   "metadata": {},
   "outputs": [
    {
     "name": "stdout",
     "output_type": "stream",
     "text": [
      "Initial String: \n",
      "GeeksForGeeks\n",
      "\n",
      "First character of String is: \n",
      "G\n",
      "\n",
      "Last character of String is: \n",
      "s\n"
     ]
    }
   ],
   "source": [
    "# Python Program to Access \n",
    "# characters of String \n",
    "\n",
    "String1 = \"GeeksForGeeks\"\n",
    "print(\"Initial String: \") \n",
    "print(String1) \n",
    "\n",
    "# Printing First character \n",
    "print(\"\\nFirst character of String is: \") \n",
    "print(String1[0]) \n",
    "\n",
    "# Printing Last character \n",
    "print(\"\\nLast character of String is: \") \n",
    "print(String1[-1]) \n"
   ]
  },
  {
   "cell_type": "markdown",
   "metadata": {},
   "source": [
    "#### String Slicing"
   ]
  },
  {
   "cell_type": "code",
   "execution_count": 63,
   "metadata": {},
   "outputs": [
    {
     "name": "stdout",
     "output_type": "stream",
     "text": [
      "Initial String: \n",
      "GeeksForGeeks\n",
      "\n",
      "Slicing characters from 3-12: \n",
      "ksForGeek\n",
      "\n",
      "Slicing characters between 3rd and 2nd last character: \n",
      "ksForGee\n"
     ]
    }
   ],
   "source": [
    "# Python Program to \n",
    "# demonstrate String slicing \n",
    "\n",
    "# Creating a String \n",
    "String1 = \"GeeksForGeeks\"\n",
    "print(\"Initial String: \") \n",
    "print(String1) \n",
    "\n",
    "# Printing 3rd to 12th character \n",
    "print(\"\\nSlicing characters from 3-12: \") \n",
    "print(String1[3:12]) \n",
    "\n",
    "# Printing characters between \n",
    "# 3rd and 2nd last character \n",
    "print(\"\\nSlicing characters between \" +\n",
    "\t\"3rd and 2nd last character: \") \n",
    "print(String1[3:-2]) \n"
   ]
  },
  {
   "cell_type": "markdown",
   "metadata": {},
   "source": [
    "#### Deleting/Updating from a String\n",
    "\n",
    "Strings are immutable, hence elements of a String cannot be changed once it has been assigned. Only new strings can be reassigned to the same name."
   ]
  },
  {
   "cell_type": "code",
   "execution_count": 64,
   "metadata": {},
   "outputs": [
    {
     "name": "stdout",
     "output_type": "stream",
     "text": [
      "Initial String: \n",
      "Hello, I'm a Geek\n"
     ]
    },
    {
     "ename": "TypeError",
     "evalue": "'str' object does not support item assignment",
     "output_type": "error",
     "traceback": [
      "\u001b[0;31m---------------------------------------------------------------------------\u001b[0m",
      "\u001b[0;31mTypeError\u001b[0m                                 Traceback (most recent call last)",
      "\u001b[0;32m<ipython-input-64-7a6be4877d59>\u001b[0m in \u001b[0;36m<module>\u001b[0;34m\u001b[0m\n\u001b[1;32m      8\u001b[0m \u001b[0;31m# Updating a character\u001b[0m\u001b[0;34m\u001b[0m\u001b[0;34m\u001b[0m\u001b[0;34m\u001b[0m\u001b[0m\n\u001b[1;32m      9\u001b[0m \u001b[0;31m# of the String\u001b[0m\u001b[0;34m\u001b[0m\u001b[0;34m\u001b[0m\u001b[0;34m\u001b[0m\u001b[0m\n\u001b[0;32m---> 10\u001b[0;31m \u001b[0mString1\u001b[0m\u001b[0;34m[\u001b[0m\u001b[0;36m2\u001b[0m\u001b[0;34m]\u001b[0m \u001b[0;34m=\u001b[0m \u001b[0;34m'p'\u001b[0m\u001b[0;34m\u001b[0m\u001b[0;34m\u001b[0m\u001b[0m\n\u001b[0m\u001b[1;32m     11\u001b[0m \u001b[0mprint\u001b[0m\u001b[0;34m(\u001b[0m\u001b[0;34m\"\\nUpdating character at 2nd Index: \"\u001b[0m\u001b[0;34m)\u001b[0m\u001b[0;34m\u001b[0m\u001b[0;34m\u001b[0m\u001b[0m\n\u001b[1;32m     12\u001b[0m \u001b[0mprint\u001b[0m\u001b[0;34m(\u001b[0m\u001b[0mString1\u001b[0m\u001b[0;34m)\u001b[0m\u001b[0;34m\u001b[0m\u001b[0;34m\u001b[0m\u001b[0m\n",
      "\u001b[0;31mTypeError\u001b[0m: 'str' object does not support item assignment"
     ]
    }
   ],
   "source": [
    "# Python Program to Update \n",
    "# character of a String \n",
    "\n",
    "String1 = \"Hello, I'm a Geek\"\n",
    "print(\"Initial String: \") \n",
    "print(String1) \n",
    "\n",
    "# Updating a character \n",
    "# of the String \n",
    "String1[2] = 'p'\n",
    "print(\"\\nUpdating character at 2nd Index: \") \n",
    "print(String1) \n"
   ]
  },
  {
   "cell_type": "code",
   "execution_count": 65,
   "metadata": {},
   "outputs": [
    {
     "name": "stdout",
     "output_type": "stream",
     "text": [
      "Initial String: \n",
      "Hello, I'm a Geek\n",
      "\n",
      "Updated String: \n",
      "Welcome to the Geek World\n"
     ]
    }
   ],
   "source": [
    "# Python Program to Update \n",
    "# entire String \n",
    "\n",
    "String1 = \"Hello, I'm a Geek\"\n",
    "print(\"Initial String: \") \n",
    "print(String1) \n",
    "\n",
    "# Updating a String \n",
    "String1 = \"Welcome to the Geek World\"\n",
    "print(\"\\nUpdated String: \") \n",
    "print(String1) \n"
   ]
  },
  {
   "cell_type": "markdown",
   "metadata": {},
   "source": [
    "#### Escape Sequencing in Python"
   ]
  },
  {
   "cell_type": "code",
   "execution_count": 66,
   "metadata": {},
   "outputs": [
    {
     "name": "stdout",
     "output_type": "stream",
     "text": [
      "Initial String with use of Triple Quotes: \n",
      "I'm a \"Geek\"\n",
      "\n",
      "Escaping Single Quote: \n",
      "I'm a \"Geek\"\n",
      "\n",
      "Escaping Double Quotes: \n",
      "I'm a \"Geek\"\n",
      "\n",
      "Escaping Backslashes: \n",
      "C:\\Python\\Geeks\\\n"
     ]
    }
   ],
   "source": [
    "# Python Program for \n",
    "# Escape Sequencing \n",
    "# of String \n",
    "\n",
    "# Initial String \n",
    "String1 = '''I'm a \"Geek\"'''\n",
    "print(\"Initial String with use of Triple Quotes: \") \n",
    "print(String1) \n",
    "\n",
    "# Escaping Single Quote \n",
    "String1 = 'I\\'m a \"Geek\"'\n",
    "print(\"\\nEscaping Single Quote: \") \n",
    "print(String1) \n",
    "\n",
    "# Escaping Doule Quotes \n",
    "String1 = \"I'm a \\\"Geek\\\"\"\n",
    "print(\"\\nEscaping Double Quotes: \") \n",
    "print(String1) \n",
    "\n",
    "# Printing Paths with the \n",
    "# use of Escape Sequences \n",
    "String1 = \"C:\\\\Python\\\\Geeks\\\\\"\n",
    "print(\"\\nEscaping Backslashes: \") \n",
    "print(String1) \n"
   ]
  },
  {
   "cell_type": "markdown",
   "metadata": {},
   "source": [
    "#### Formatting of Strings"
   ]
  },
  {
   "cell_type": "code",
   "execution_count": 67,
   "metadata": {},
   "outputs": [
    {
     "name": "stdout",
     "output_type": "stream",
     "text": [
      "Print String in default order: \n",
      "Geeks For Life\n",
      "\n",
      "Print String in Positional order: \n",
      "For Geeks Life\n",
      "\n",
      "Print String in order of Keywords: \n",
      "Life For Geeks\n"
     ]
    }
   ],
   "source": [
    "# Python Program for \n",
    "# Formatting of Strings \n",
    "\n",
    "# Default order \n",
    "String1 = \"{} {} {}\".format('Geeks', 'For', 'Life') \n",
    "print(\"Print String in default order: \") \n",
    "print(String1) \n",
    "\n",
    "# Positional Formatting \n",
    "String1 = \"{1} {0} {2}\".format('Geeks', 'For', 'Life') \n",
    "print(\"\\nPrint String in Positional order: \") \n",
    "print(String1) \n",
    "\n",
    "# Keyword Formatting \n",
    "String1 = \"{l} {f} {g}\".format(g = 'Geeks', f = 'For', l = 'Life') \n",
    "print(\"\\nPrint String in order of Keywords: \") \n",
    "print(String1) \n"
   ]
  },
  {
   "cell_type": "code",
   "execution_count": 68,
   "metadata": {},
   "outputs": [
    {
     "name": "stdout",
     "output_type": "stream",
     "text": [
      "\n",
      "Binary representation of 16 is \n",
      "10000\n",
      "\n",
      "Exponent representation of 165.6458 is \n",
      "1.656458e+02\n",
      "\n",
      "one-sixth is : \n",
      "0.17\n"
     ]
    }
   ],
   "source": [
    "# Formatting of Integers \n",
    "String1 = \"{0:b}\".format(16) \n",
    "print(\"\\nBinary representation of 16 is \") \n",
    "print(String1) \n",
    "\n",
    "# Formatting of Floats \n",
    "String1 = \"{0:e}\".format(165.6458) \n",
    "print(\"\\nExponent representation of 165.6458 is \") \n",
    "print(String1) \n",
    "\n",
    "# Rounding off Integers \n",
    "String1 = \"{0:.2f}\".format(1/6) \n",
    "print(\"\\none-sixth is : \") \n",
    "print(String1) \n"
   ]
  },
  {
   "cell_type": "markdown",
   "metadata": {},
   "source": [
    "# Python List"
   ]
  },
  {
   "cell_type": "markdown",
   "metadata": {},
   "source": [
    "Lists are just like dynamic sized arrays, declared in other languages (vector in C++ and ArrayList in Java).\n",
    "A single list may contain DataTypes like Integers, Strings, as well as Objects. \n",
    "Lists are mutable, and hence, they can be altered even after their creation.\n",
    "\n",
    "List in Python are ordered and have a definite count. \n",
    "The elements in a list are indexed according to a definite sequence and the indexing of a list is done with 0 being the first index. \n",
    "Each element in the list has its definite place in the list, which allows duplicating of elements in the list, with each element having its own distinct place and credibility.\n",
    "\n"
   ]
  },
  {
   "cell_type": "code",
   "execution_count": 70,
   "metadata": {},
   "outputs": [
    {
     "name": "stdout",
     "output_type": "stream",
     "text": [
      "Blank List: \n",
      "[]\n",
      "\n",
      "List of numbers: \n",
      "[10, 20, 14]\n",
      "\n",
      "List Items: \n",
      "Geeks\n",
      "Geeks\n",
      "\n",
      "Multi-Dimensional List: \n",
      "[['Geeks', 'For'], ['Geeks']]\n"
     ]
    }
   ],
   "source": [
    "# Python program to demonstrate \n",
    "# Creation of List \n",
    "\n",
    "# Creating a List \n",
    "List = [] \n",
    "print(\"Blank List: \") \n",
    "print(List) \n",
    "\n",
    "# Creating a List of numbers \n",
    "List = [10, 20, 14] \n",
    "print(\"\\nList of numbers: \") \n",
    "print(List) \n",
    "\n",
    "# Creating a List of strings and accessing \n",
    "# using index \n",
    "List = [\"Geeks\", \"For\", \"Geeks\"] \n",
    "print(\"\\nList Items: \") \n",
    "print(List[0]) \n",
    "print(List[2]) \n",
    "\n",
    "# Creating a Multi-Dimensional List \n",
    "# (By Nesting a list inside a List) \n",
    "List = [['Geeks', 'For'] , ['Geeks']] \n",
    "print(\"\\nMulti-Dimensional List: \") \n",
    "print(List) \n"
   ]
  },
  {
   "cell_type": "code",
   "execution_count": 71,
   "metadata": {},
   "outputs": [
    {
     "name": "stdout",
     "output_type": "stream",
     "text": [
      "\n",
      "List with the use of Numbers: \n",
      "[1, 2, 4, 4, 3, 3, 3, 6, 5]\n",
      "\n",
      "List with the use of Mixed Values: \n",
      "[1, 2, 'Geeks', 4, 'For', 6, 'Geeks']\n"
     ]
    }
   ],
   "source": [
    "# Creating a List with \n",
    "# the use of Numbers \n",
    "# (Having duplicate values) \n",
    "List = [1, 2, 4, 4, 3, 3, 3, 6, 5] \n",
    "print(\"\\nList with the use of Numbers: \") \n",
    "print(List) \n",
    "\n",
    "# Creating a List with \n",
    "# mixed type of values \n",
    "# (Having numbers and strings) \n",
    "List = [1, 2, 'Geeks', 4, 'For', 6, 'Geeks'] \n",
    "print(\"\\nList with the use of Mixed Values: \") \n",
    "print(List) \n"
   ]
  },
  {
   "cell_type": "code",
   "execution_count": 72,
   "metadata": {},
   "outputs": [
    {
     "name": "stdout",
     "output_type": "stream",
     "text": [
      "0\n",
      "3\n"
     ]
    }
   ],
   "source": [
    "# Creating a List \n",
    "List1 = [] \n",
    "print(len(List1)) \n",
    "\n",
    "# Creating a List of numbers \n",
    "List2 = [10, 20, 14] \n",
    "print(len(List2)) \n"
   ]
  },
  {
   "cell_type": "code",
   "execution_count": 73,
   "metadata": {},
   "outputs": [
    {
     "name": "stdout",
     "output_type": "stream",
     "text": [
      "Initial blank List: \n",
      "[]\n",
      "\n",
      "List after Addition of Three elements: \n",
      "[1, 2, 4]\n",
      "\n",
      "List after Addition of elements from 1-3: \n",
      "[1, 2, 4, 1, 2, 3]\n",
      "\n",
      "List after Addition of a Tuple: \n",
      "[1, 2, 4, 1, 2, 3, (5, 6)]\n",
      "\n",
      "List after Addition of a List: \n",
      "[1, 2, 4, 1, 2, 3, (5, 6), ['For', 'Geeks']]\n"
     ]
    }
   ],
   "source": [
    "# Python program to demonstrate \n",
    "# Addition of elements in a List \n",
    "\n",
    "# Creating a List \n",
    "List = [] \n",
    "print(\"Initial blank List: \") \n",
    "print(List) \n",
    "\n",
    "# Addition of Elements \n",
    "# in the List \n",
    "List.append(1) \n",
    "List.append(2) \n",
    "List.append(4) \n",
    "print(\"\\nList after Addition of Three elements: \") \n",
    "print(List) \n",
    "\n",
    "# Adding elements to the List \n",
    "# using Iterator \n",
    "for i in range(1, 4): \n",
    "\tList.append(i) \n",
    "print(\"\\nList after Addition of elements from 1-3: \") \n",
    "print(List) \n",
    "\n",
    "# Adding Tuples to the List \n",
    "List.append((5, 6)) \n",
    "print(\"\\nList after Addition of a Tuple: \") \n",
    "print(List) \n",
    "\n",
    "# Addition of List to a List \n",
    "List2 = ['For', 'Geeks'] \n",
    "List.append(List2) \n",
    "print(\"\\nList after Addition of a List: \") \n",
    "print(List) \n"
   ]
  },
  {
   "cell_type": "code",
   "execution_count": 74,
   "metadata": {},
   "outputs": [
    {
     "name": "stdout",
     "output_type": "stream",
     "text": [
      "Initial List: \n",
      "[1, 2, 3, 4]\n",
      "\n",
      "List after performing Insert Operation: \n",
      "['Geeks', 1, 2, 3, 12, 4]\n"
     ]
    }
   ],
   "source": [
    "# Python program to demonstrate \n",
    "# Addition of elements in a List \n",
    "\n",
    "# Creating a List \n",
    "List = [1,2,3,4] \n",
    "print(\"Initial List: \") \n",
    "print(List) \n",
    "\n",
    "# Addition of Element at \n",
    "# specific Position \n",
    "# (using Insert Method) \n",
    "List.insert(3, 12) \n",
    "List.insert(0, 'Geeks') \n",
    "print(\"\\nList after performing Insert Operation: \") \n",
    "print(List) \n"
   ]
  },
  {
   "cell_type": "code",
   "execution_count": 75,
   "metadata": {},
   "outputs": [
    {
     "name": "stdout",
     "output_type": "stream",
     "text": [
      "Initial List: \n",
      "[1, 2, 3, 4]\n",
      "\n",
      "List after performing Extend Operation: \n",
      "[1, 2, 3, 4, 8, 'Geeks', 'Always']\n"
     ]
    }
   ],
   "source": [
    "# Python program to demonstrate \n",
    "# Addition of elements in a List \n",
    "\t\n",
    "# Creating a List \n",
    "List = [1,2,3,4] \n",
    "print(\"Initial List: \") \n",
    "print(List) \n",
    "\n",
    "# Addition of multiple elements \n",
    "# to the List at the end \n",
    "# (using Extend Method) \n",
    "List.extend([8, 'Geeks', 'Always']) \n",
    "print(\"\\nList after performing Extend Operation: \") \n",
    "print(List) \n"
   ]
  },
  {
   "cell_type": "code",
   "execution_count": 76,
   "metadata": {},
   "outputs": [
    {
     "name": "stdout",
     "output_type": "stream",
     "text": [
      "Accessing a element from the list\n",
      "Geeks\n",
      "Geeks\n",
      "Acessing a element from a Multi-Dimensional list\n",
      "For\n",
      "Geeks\n"
     ]
    }
   ],
   "source": [
    "# Python program to demonstrate \n",
    "# accessing of element from list \n",
    "\n",
    "# Creating a List with \n",
    "# the use of multiple values \n",
    "List = [\"Geeks\", \"For\", \"Geeks\"] \n",
    "\n",
    "# accessing a element from the \n",
    "# list using index number \n",
    "print(\"Accessing a element from the list\") \n",
    "print(List[0]) \n",
    "print(List[2]) \n",
    "\n",
    "# Creating a Multi-Dimensional List \n",
    "# (By Nesting a list inside a List) \n",
    "List = [['Geeks', 'For'] , ['Geeks']] \n",
    "\n",
    "# accessing a element from the \n",
    "# Multi-Dimensional List using \n",
    "# index number \n",
    "print(\"Acessing a element from a Multi-Dimensional list\") \n",
    "print(List[0][1]) \n",
    "print(List[1][0]) \n"
   ]
  },
  {
   "cell_type": "code",
   "execution_count": 77,
   "metadata": {},
   "outputs": [
    {
     "name": "stdout",
     "output_type": "stream",
     "text": [
      "Acessing element using negative indexing\n",
      "Geeks\n",
      "For\n"
     ]
    }
   ],
   "source": [
    "List = [1, 2, 'Geeks', 4, 'For', 6, 'Geeks'] \n",
    "\n",
    "# accessing a element using \n",
    "# negative indexing \n",
    "print(\"Acessing element using negative indexing\") \n",
    "\n",
    "# print the last element of list \n",
    "print(List[-1]) \n",
    "\n",
    "# print the third last element of list \n",
    "print(List[-3]) \n"
   ]
  },
  {
   "cell_type": "code",
   "execution_count": 78,
   "metadata": {},
   "outputs": [
    {
     "name": "stdout",
     "output_type": "stream",
     "text": [
      "Intial List: \n",
      "[1, 2, 3, 4, 5, 6, 7, 8, 9, 10, 11, 12]\n",
      "\n",
      "List after Removal of two elements: \n",
      "[1, 2, 3, 4, 7, 8, 9, 10, 11, 12]\n",
      "\n",
      "List after Removing a range of elements: \n",
      "[7, 8, 9, 10, 11, 12]\n"
     ]
    }
   ],
   "source": [
    "# Python program to demonstrate \n",
    "# Removal of elements in a List \n",
    "\n",
    "# Creating a List \n",
    "List = [1, 2, 3, 4, 5, 6, \n",
    "\t\t7, 8, 9, 10, 11, 12] \n",
    "print(\"Intial List: \") \n",
    "print(List) \n",
    "\n",
    "# Removing elements from List \n",
    "# using Remove() method \n",
    "List.remove(5) \n",
    "List.remove(6) \n",
    "print(\"\\nList after Removal of two elements: \") \n",
    "print(List) \n",
    "\n",
    "# Removing elements from List \n",
    "# using iterator method \n",
    "for i in range(1, 5): \n",
    "\tList.remove(i) \n",
    "print(\"\\nList after Removing a range of elements: \") \n",
    "print(List) \n"
   ]
  },
  {
   "cell_type": "code",
   "execution_count": 79,
   "metadata": {},
   "outputs": [
    {
     "name": "stdout",
     "output_type": "stream",
     "text": [
      "\n",
      "List after popping an element: \n",
      "[1, 2, 3, 4]\n",
      "\n",
      "List after popping a specific element: \n",
      "[1, 2, 4]\n"
     ]
    }
   ],
   "source": [
    "List = [1,2,3,4,5] \n",
    "\n",
    "# Removing element from the \n",
    "# Set using the pop() method \n",
    "List.pop() \n",
    "print(\"\\nList after popping an element: \") \n",
    "print(List) \n",
    "\n",
    "# Removing element at a \n",
    "# specific location from the end\n",
    "# Set using the pop() method \n",
    "List.pop(2) \n",
    "print(\"\\nList after popping a specific element: \") \n",
    "print(List) \n"
   ]
  },
  {
   "cell_type": "code",
   "execution_count": 80,
   "metadata": {},
   "outputs": [
    {
     "name": "stdout",
     "output_type": "stream",
     "text": [
      "Intial List: \n",
      "['G', 'E', 'E', 'K', 'S', 'F', 'O', 'R', 'G', 'E', 'E', 'K', 'S']\n",
      "\n",
      "Slicing elements in a range 3-8: \n",
      "['K', 'S', 'F', 'O', 'R']\n",
      "\n",
      "Elements sliced from 5th element till the end: \n",
      "['F', 'O', 'R', 'G', 'E', 'E', 'K', 'S']\n",
      "\n",
      "Printing all elements using slice operation: \n",
      "['G', 'E', 'E', 'K', 'S', 'F', 'O', 'R', 'G', 'E', 'E', 'K', 'S']\n"
     ]
    }
   ],
   "source": [
    "# Python program to demonstrate \n",
    "# Removal of elements in a List \n",
    "\n",
    "# Creating a List \n",
    "List = ['G','E','E','K','S','F', \n",
    "\t\t'O','R','G','E','E','K','S'] \n",
    "print(\"Intial List: \") \n",
    "print(List) \n",
    "\n",
    "# Print elements of a range \n",
    "# using Slice operation \n",
    "Sliced_List = List[3:8] \n",
    "print(\"\\nSlicing elements in a range 3-8: \") \n",
    "print(Sliced_List) \n",
    "\n",
    "# Print elements from a \n",
    "# pre-defined point to end \n",
    "Sliced_List = List[5:] \n",
    "print(\"\\nElements sliced from 5th \"\n",
    "\t\"element till the end: \") \n",
    "print(Sliced_List) \n",
    "\n",
    "# Printing elements from \n",
    "# beginning till end \n",
    "Sliced_List = List[:] \n",
    "print(\"\\nPrinting all elements using slice operation: \") \n",
    "print(Sliced_List) \n"
   ]
  },
  {
   "cell_type": "code",
   "execution_count": 81,
   "metadata": {},
   "outputs": [
    {
     "name": "stdout",
     "output_type": "stream",
     "text": [
      "Initial List: \n",
      "['G', 'E', 'E', 'K', 'S', 'F', 'O', 'R', 'G', 'E', 'E', 'K', 'S']\n",
      "\n",
      "Elements sliced till 6th element from last: \n",
      "['G', 'E', 'E', 'K', 'S', 'F', 'O']\n",
      "\n",
      "Elements sliced from index -6 to -1\n",
      "['R', 'G', 'E', 'E', 'K']\n",
      "\n",
      "Printing List in reverse: \n",
      "['S', 'K', 'E', 'E', 'G', 'R', 'O', 'F', 'S', 'K', 'E', 'E', 'G']\n"
     ]
    }
   ],
   "source": [
    "# Creating a List \n",
    "List = ['G','E','E','K','S','F', \n",
    "\t\t'O','R','G','E','E','K','S'] \n",
    "print(\"Initial List: \") \n",
    "print(List) \n",
    "\n",
    "# Print elements from beginning \n",
    "# to a pre-defined point using Slice \n",
    "Sliced_List = List[:-6] \n",
    "print(\"\\nElements sliced till 6th element from last: \") \n",
    "print(Sliced_List) \n",
    "\n",
    "# Print elements of a range \n",
    "# using negative index List slicing \n",
    "Sliced_List = List[-6:-1] \n",
    "print(\"\\nElements sliced from index -6 to -1\") \n",
    "print(Sliced_List) \n",
    "\n",
    "# Printing elements in reverse \n",
    "# using Slice operation \n",
    "Sliced_List = List[::-1] \n",
    "print(\"\\nPrinting List in reverse: \") \n",
    "print(Sliced_List) \n"
   ]
  },
  {
   "cell_type": "markdown",
   "metadata": {},
   "source": [
    "#### List Methods"
   ]
  },
  {
   "cell_type": "code",
   "execution_count": null,
   "metadata": {},
   "outputs": [],
   "source": [
    "Append()\tAdd an element to the end of the list\n",
    "Extend()\tAdd all elements of a list to the another list\n",
    "Insert()\tInsert an item at the defined index\n",
    "Remove()\tRemoves an item from the list\n",
    "Pop()\tRemoves and returns an element at the given index\n",
    "Clear()\tRemoves all items from the list\n",
    "Index()\tReturns the index of the first matched item\n",
    "Count()\tReturns the count of number of items passed as an argument\n",
    "Sort()\tSort items in a list in ascending order\n",
    "Reverse()\tReverse the order of items in the list\n",
    "copy()\tReturns a copy of the list\n",
    "\n",
    "#### Built-in functions with List\n",
    "\n",
    "reduce()\tapply a particular function passed in its argument to all of the list elements stores the intermediate result and only returns the final summation value\n",
    "sum()\tSums up the numbers in the list\n",
    "ord()\tReturns an integer representing the Unicode code point of the given Unicode character\n",
    "cmp()\tThis function returns 1, if first list is “greater” than second list\n",
    "max()\treturn maximum element of given list\n",
    "min()\treturn minimum element of given list\n",
    "all()\tReturns true if all element are true or if list is empty\n",
    "any()\treturn true if any element of the list is true. if list is empty, return false\n",
    "len()\tReturns length of the list or size of the list\n",
    "enumerate()\tReturns enumerate object of list\n",
    "accumulate()\tapply a particular function passed in its argument to all of the list elements returns a list containing the intermediate results\n",
    "filter()\ttests if each element of a list true or not\n",
    "map()\treturns a list of the results after applying the given function to each item of a given iterable\n",
    "lambda()\tThis function can have any number of arguments but only one expression, which is evaluated and returned."
   ]
  },
  {
   "cell_type": "markdown",
   "metadata": {},
   "source": [
    "### Python Tuples"
   ]
  },
  {
   "cell_type": "markdown",
   "metadata": {},
   "source": [
    "Tuple is a collection of Python objects much like a list. The sequence of values stored in a tuple can be of any type, and they are indexed by integers."
   ]
  },
  {
   "cell_type": "code",
   "execution_count": 83,
   "metadata": {},
   "outputs": [
    {
     "name": "stdout",
     "output_type": "stream",
     "text": [
      "Initial empty Tuple: \n",
      "()\n",
      "\n",
      "Tuple with the use of String: \n",
      "('Geeks', 'For')\n",
      "\n",
      "Tuple using List: \n",
      "(1, 2, 4, 5, 6)\n",
      "\n",
      "Tuple with the use of function: \n",
      "('G', 'e', 'e', 'k', 's')\n"
     ]
    }
   ],
   "source": [
    "#Creating an empty Tuple \n",
    "Tuple1 = () \n",
    "print(\"Initial empty Tuple: \") \n",
    "print (Tuple1) \n",
    "\n",
    "#Creatting a Tuple \n",
    "#with the use of string \n",
    "Tuple1 = ('Geeks', 'For') \n",
    "print(\"\\nTuple with the use of String: \") \n",
    "print(Tuple1) \n",
    "\n",
    "# Creating a Tuple with \n",
    "# the use of list \n",
    "list1 = [1, 2, 4, 5, 6] \n",
    "print(\"\\nTuple using List: \") \n",
    "print(tuple(list1)) \n",
    "\n",
    "#Creating a Tuple \n",
    "#with the use of built-in function \n",
    "Tuple1 = tuple('Geeks') \n",
    "print(\"\\nTuple with the use of function: \") \n",
    "print(Tuple1) \n"
   ]
  },
  {
   "cell_type": "code",
   "execution_count": 84,
   "metadata": {},
   "outputs": [
    {
     "name": "stdout",
     "output_type": "stream",
     "text": [
      "\n",
      "Tuple with Mixed Datatypes: \n",
      "(5, 'Welcome', 7, 'Geeks')\n",
      "\n",
      "Tuple with nested tuples: \n",
      "((0, 1, 2, 3), ('python', 'geek'))\n",
      "\n",
      "Tuple with repetition: \n",
      "('Geeks', 'Geeks', 'Geeks')\n",
      "\n",
      "Tuple with a loop\n",
      "('Geeks',)\n",
      "(('Geeks',),)\n",
      "((('Geeks',),),)\n",
      "(((('Geeks',),),),)\n",
      "((((('Geeks',),),),),)\n"
     ]
    }
   ],
   "source": [
    "#Creating a Tuple \n",
    "#with Mixed Datatype \n",
    "Tuple1 = (5, 'Welcome', 7, 'Geeks') \n",
    "print(\"\\nTuple with Mixed Datatypes: \") \n",
    "print(Tuple1) \n",
    "\n",
    "#Creating a Tuple \n",
    "#with nested tuples \n",
    "Tuple1 = (0, 1, 2, 3) \n",
    "Tuple2 = ('python', 'geek') \n",
    "Tuple3 = (Tuple1, Tuple2) \n",
    "print(\"\\nTuple with nested tuples: \") \n",
    "print(Tuple3) \n",
    "\n",
    "#Creating a Tuple \n",
    "#with repetition \n",
    "Tuple1 = ('Geeks',) * 3\n",
    "print(\"\\nTuple with repetition: \") \n",
    "print(Tuple1) \n",
    "\n",
    "#Creating a Tuple \n",
    "#with the use of loop \n",
    "Tuple1 = ('Geeks') \n",
    "n = 5\n",
    "print(\"\\nTuple with a loop\") \n",
    "for i in range(int(n)): \n",
    "\tTuple1 = (Tuple1,) \n",
    "\tprint(Tuple1) \n"
   ]
  },
  {
   "cell_type": "markdown",
   "metadata": {},
   "source": [
    "Tuples are immutable, and usually, they contain a sequence of heterogeneous elements that are accessed via unpacking or indexing (or even by attribute in the case of named tuples). Lists are mutable, and their elements are usually homogeneous and are accessed by iterating over the list."
   ]
  },
  {
   "cell_type": "code",
   "execution_count": 85,
   "metadata": {},
   "outputs": [
    {
     "name": "stdout",
     "output_type": "stream",
     "text": [
      "\n",
      "First element of Tuple: \n",
      "e\n",
      "\n",
      "Values after unpacking: \n",
      "Geeks\n",
      "For\n",
      "Geeks\n"
     ]
    }
   ],
   "source": [
    "#Accessing Tuple \n",
    "#with Indexing \n",
    "Tuple1 = tuple(\"Geeks\") \n",
    "print(\"\\nFirst element of Tuple: \") \n",
    "print(Tuple1[1]) \n",
    "\n",
    "\n",
    "#Tuple unpacking \n",
    "Tuple1 = (\"Geeks\", \"For\", \"Geeks\") \n",
    "\n",
    "#This line unpack \n",
    "#values of Tuple1 \n",
    "a, b, c = Tuple1 \n",
    "print(\"\\nValues after unpacking: \") \n",
    "print(a) \n",
    "print(b) \n",
    "print(c) \n"
   ]
  },
  {
   "cell_type": "code",
   "execution_count": 86,
   "metadata": {},
   "outputs": [
    {
     "name": "stdout",
     "output_type": "stream",
     "text": [
      "Tuple 1: \n",
      "(0, 1, 2, 3)\n",
      "\n",
      "Tuple2: \n",
      "('Geeks', 'For', 'Geeks')\n",
      "\n",
      "Tuples after Concatenaton: \n",
      "(0, 1, 2, 3, 'Geeks', 'For', 'Geeks')\n"
     ]
    }
   ],
   "source": [
    "# Concatenaton of tuples \n",
    "Tuple1 = (0, 1, 2, 3) \n",
    "Tuple2 = ('Geeks', 'For', 'Geeks') \n",
    "\n",
    "Tuple3 = Tuple1 + Tuple2 \n",
    "\n",
    "# Printing first Tuple \n",
    "print(\"Tuple 1: \") \n",
    "print(Tuple1) \n",
    "\n",
    "# Printing Second Tuple \n",
    "print(\"\\nTuple2: \") \n",
    "print(Tuple2) \n",
    "\n",
    "# Printing Final Tuple \n",
    "print(\"\\nTuples after Concatenaton: \") \n",
    "print(Tuple3) \n"
   ]
  },
  {
   "cell_type": "code",
   "execution_count": 87,
   "metadata": {},
   "outputs": [
    {
     "name": "stdout",
     "output_type": "stream",
     "text": [
      "Removal of First Element: \n",
      "('E', 'E', 'K', 'S', 'F', 'O', 'R', 'G', 'E', 'E', 'K', 'S')\n",
      "\n",
      "Tuple after sequence of Element is reversed: \n",
      "('S', 'K', 'E', 'E', 'G', 'R', 'O', 'F', 'S', 'K', 'E', 'E', 'G')\n",
      "\n",
      "Printing elements between Range 4-9: \n",
      "('S', 'F', 'O', 'R', 'G')\n"
     ]
    }
   ],
   "source": [
    "# Slicing of a Tuple \n",
    "\n",
    "# Slicing of a Tuple \n",
    "# with Numbers \n",
    "Tuple1 = tuple('GEEKSFORGEEKS') \n",
    "\n",
    "# Removing First element \n",
    "print(\"Removal of First Element: \") \n",
    "print(Tuple1[1:]) \n",
    "\n",
    "# Reversing the Tuple \n",
    "print(\"\\nTuple after sequence of Element is reversed: \") \n",
    "print(Tuple1[::-1]) \n",
    "\n",
    "# Printing elements of a Range \n",
    "print(\"\\nPrinting elements between Range 4-9: \") \n",
    "print(Tuple1[4:9]) \n"
   ]
  },
  {
   "cell_type": "code",
   "execution_count": 88,
   "metadata": {},
   "outputs": [
    {
     "ename": "NameError",
     "evalue": "name 'Tuple1' is not defined",
     "output_type": "error",
     "traceback": [
      "\u001b[0;31m---------------------------------------------------------------------------\u001b[0m",
      "\u001b[0;31mNameError\u001b[0m                                 Traceback (most recent call last)",
      "\u001b[0;32m<ipython-input-88-68535e35d458>\u001b[0m in \u001b[0;36m<module>\u001b[0;34m\u001b[0m\n\u001b[1;32m      4\u001b[0m \u001b[0;32mdel\u001b[0m \u001b[0mTuple1\u001b[0m\u001b[0;34m\u001b[0m\u001b[0;34m\u001b[0m\u001b[0m\n\u001b[1;32m      5\u001b[0m \u001b[0;34m\u001b[0m\u001b[0m\n\u001b[0;32m----> 6\u001b[0;31m \u001b[0mprint\u001b[0m\u001b[0;34m(\u001b[0m\u001b[0mTuple1\u001b[0m\u001b[0;34m)\u001b[0m\u001b[0;34m\u001b[0m\u001b[0;34m\u001b[0m\u001b[0m\n\u001b[0m",
      "\u001b[0;31mNameError\u001b[0m: name 'Tuple1' is not defined"
     ]
    }
   ],
   "source": [
    "# Deleting a Tuple \n",
    "\n",
    "Tuple1 = (0, 1, 2, 3, 4) \n",
    "del Tuple1 \n",
    "\n",
    "print(Tuple1) \n"
   ]
  },
  {
   "cell_type": "markdown",
   "metadata": {},
   "source": [
    "## Python Sets"
   ]
  },
  {
   "cell_type": "markdown",
   "metadata": {},
   "source": [
    "Set is an unordered collection of data type that is iterable, mutable and has no duplicate elements.\n",
    "\n",
    "The major advantage of using a set, as opposed to a list, is that it has a highly optimized method for checking whether a specific element is contained in the set.\n",
    "\n",
    " A set cannot have mutable elements like a list, set or dictionary, as its elements.\n",
    " \n",
    "  Type of elements in a set need not be the same, various mixed up data type values can also be passed to the set."
   ]
  },
  {
   "cell_type": "code",
   "execution_count": 89,
   "metadata": {},
   "outputs": [
    {
     "name": "stdout",
     "output_type": "stream",
     "text": [
      "Intial blank Set: \n",
      "set()\n",
      "\n",
      "Set with the use of String: \n",
      "{'F', 'k', 'e', 'r', 's', 'o', 'G'}\n",
      "\n",
      "Set with the use of an Object: \n",
      "{'F', 'k', 'e', 'r', 's', 'o', 'G'}\n",
      "\n",
      "Set with the use of List: \n",
      "{'Geeks', 'For'}\n"
     ]
    }
   ],
   "source": [
    "# Python program to demonstrate \n",
    "# Creation of Set in Python \n",
    "\n",
    "# Creating a Set \n",
    "set1 = set() \n",
    "print(\"Intial blank Set: \") \n",
    "print(set1) \n",
    "\n",
    "# Creating a Set with \n",
    "# the use of a String \n",
    "set1 = set(\"GeeksForGeeks\") \n",
    "print(\"\\nSet with the use of String: \") \n",
    "print(set1) \n",
    "\n",
    "# Creating a Set with \n",
    "# the use of Constructor \n",
    "# (Using object to Store String) \n",
    "String = 'GeeksForGeeks'\n",
    "set1 = set(String) \n",
    "print(\"\\nSet with the use of an Object: \" ) \n",
    "print(set1) \n",
    "\n",
    "# Creating a Set with \n",
    "# the use of a List \n",
    "set1 = set([\"Geeks\", \"For\", \"Geeks\"]) \n",
    "print(\"\\nSet with the use of List: \") \n",
    "print(set1) \n"
   ]
  },
  {
   "cell_type": "code",
   "execution_count": 90,
   "metadata": {},
   "outputs": [
    {
     "name": "stdout",
     "output_type": "stream",
     "text": [
      "\n",
      "Set with the use of Numbers: \n",
      "{1, 2, 3, 4, 5, 6}\n",
      "\n",
      "Set with the use of Mixed Values\n",
      "{1, 2, 4, 6, 'Geeks', 'For'}\n"
     ]
    }
   ],
   "source": [
    "# Creating a Set with \n",
    "# a List of Numbers \n",
    "# (Having duplicate values) \n",
    "set1 = set([1, 2, 4, 4, 3, 3, 3, 6, 5]) \n",
    "print(\"\\nSet with the use of Numbers: \") \n",
    "print(set1) \n",
    "\n",
    "# Creating a Set with \n",
    "# a mixed type of values \n",
    "# (Having numbers and strings) \n",
    "set1 = set([1, 2, 'Geeks', 4, 'For', 6, 'Geeks']) \n",
    "print(\"\\nSet with the use of Mixed Values\") \n",
    "print(set1) \n"
   ]
  },
  {
   "cell_type": "code",
   "execution_count": 91,
   "metadata": {},
   "outputs": [
    {
     "name": "stdout",
     "output_type": "stream",
     "text": [
      "Intial blank Set: \n",
      "set()\n",
      "\n",
      "Set after Addition of Three elements: \n",
      "{8, 9, (6, 7)}\n",
      "\n",
      "Set after Addition of elements from 1-5: \n",
      "{1, 2, 3, (6, 7), 4, 5, 8, 9}\n"
     ]
    }
   ],
   "source": [
    "# Python program to demonstrate \n",
    "# Addition of elements in a Set \n",
    "\n",
    "# Creating a Set \n",
    "set1 = set() \n",
    "print(\"Intial blank Set: \") \n",
    "print(set1) \n",
    "\n",
    "# Adding element and tuple to the Set \n",
    "set1.add(8) \n",
    "set1.add(9) \n",
    "set1.add((6,7)) \n",
    "print(\"\\nSet after Addition of Three elements: \") \n",
    "print(set1) \n",
    "\n",
    "# Adding elements to the Set \n",
    "# using Iterator \n",
    "for i in range(1, 6): \n",
    "\tset1.add(i) \n",
    "print(\"\\nSet after Addition of elements from 1-5: \") \n",
    "print(set1) \n"
   ]
  },
  {
   "cell_type": "code",
   "execution_count": 92,
   "metadata": {},
   "outputs": [
    {
     "name": "stdout",
     "output_type": "stream",
     "text": [
      "Intial blank Set: \n",
      "set()\n",
      "\n",
      "Set after Addition of Three elements: \n",
      "{8, 9, (6, 7)}\n",
      "\n",
      "Set after Addition of elements from 1-5: \n",
      "{1, 2, 3, (6, 7), 4, 5, 8, 9}\n"
     ]
    }
   ],
   "source": [
    "# Python program to demonstrate \n",
    "# Addition of elements in a Set \n",
    "\n",
    "# Creating a Set \n",
    "set1 = set() \n",
    "print(\"Intial blank Set: \") \n",
    "print(set1) \n",
    "\n",
    "# Adding element and tuple to the Set \n",
    "set1.add(8) \n",
    "set1.add(9) \n",
    "set1.add((6,7)) \n",
    "print(\"\\nSet after Addition of Three elements: \") \n",
    "print(set1) \n",
    "\n",
    "# Adding elements to the Set \n",
    "# using Iterator \n",
    "for i in range(1, 6): \n",
    "\tset1.add(i) \n",
    "print(\"\\nSet after Addition of elements from 1-5: \") \n",
    "print(set1) \n"
   ]
  },
  {
   "cell_type": "markdown",
   "metadata": {},
   "source": [
    "Note – Lists cannot be added to a set as elements because Lists are not hashable whereas Tuples can be added because tuples are immutable and hence Hashable."
   ]
  },
  {
   "cell_type": "code",
   "execution_count": 95,
   "metadata": {},
   "outputs": [
    {
     "name": "stdout",
     "output_type": "stream",
     "text": [
      "\n",
      "Set after Addition of elements using Update: \n",
      "{11, 4, 5, (6, 7)}\n"
     ]
    }
   ],
   "source": [
    "# Python program to demonstrate \n",
    "# Addition of elements in a Set \n",
    "\n",
    "# Addition of elements to the Set \n",
    "# using Update function \n",
    "set1 = set([ 4, 5, (6, 7)]) \n",
    "set1.update([10, 11]) \n",
    "print(\"\\nSet after Addition of elements using Update: \") \n",
    "print(set1) \n"
   ]
  },
  {
   "cell_type": "code",
   "execution_count": 96,
   "metadata": {},
   "outputs": [
    {
     "name": "stdout",
     "output_type": "stream",
     "text": [
      "\n",
      "Initial set\n",
      "{'Geeks', 'For'}\n",
      "\n",
      "Elements of set: \n",
      "Geeks For True\n"
     ]
    }
   ],
   "source": [
    "# Python program to demonstrate \n",
    "# Accessing of elements in a set \n",
    "\n",
    "# Creating a set \n",
    "set1 = set([\"Geeks\", \"For\", \"Geeks\"]) \n",
    "print(\"\\nInitial set\") \n",
    "print(set1) \n",
    "\n",
    "# Accessing element using \n",
    "# for loop \n",
    "print(\"\\nElements of set: \") \n",
    "for i in set1: \n",
    "\tprint(i, end=\" \") \n",
    "\n",
    "# Checking the element \n",
    "# using in keyword \n",
    "print(\"Geeks\" in set1) \n"
   ]
  },
  {
   "cell_type": "code",
   "execution_count": 98,
   "metadata": {},
   "outputs": [
    {
     "name": "stdout",
     "output_type": "stream",
     "text": [
      "Intial Set: \n",
      "{1, 2, 3, 4, 5, 6, 7, 8, 9, 10, 11, 12}\n",
      "\n",
      "Set after Removal of two elements: \n",
      "{1, 2, 3, 4, 7, 8, 9, 10, 11, 12}\n",
      "\n",
      "Set after Discarding two elements: \n",
      "{1, 2, 3, 4, 7, 10, 11, 12}\n",
      "\n",
      "Set after Removing a range of elements: \n",
      "{7, 10, 11, 12}\n"
     ]
    }
   ],
   "source": [
    "# Python program to demonstrate \n",
    "# Deletion of elements in a Set \n",
    "\n",
    "# Creating a Set \n",
    "set1 = set([1, 2, 3, 4, 5, 6, \n",
    "\t\t\t7, 8, 9, 10, 11, 12]) \n",
    "print(\"Intial Set: \") \n",
    "print(set1) \n",
    "\n",
    "# Removing elements from Set \n",
    "# using Remove() method \n",
    "set1.remove(5) \n",
    "set1.remove(6) \n",
    "print(\"\\nSet after Removal of two elements: \") \n",
    "print(set1) \n",
    "\n",
    "# Removing elements from Set \n",
    "# using Discard() method \n",
    "set1.discard(8) \n",
    "set1.discard(9) \n",
    "print(\"\\nSet after Discarding two elements: \") \n",
    "print(set1) \n",
    "\n",
    "# Removing elements from Set \n",
    "# using iterator method \n",
    "for i in range(1, 5): \n",
    "\tset1.remove(i) \n",
    "print(\"\\nSet after Removing a range of elements: \") \n",
    "print(set1) \n"
   ]
  },
  {
   "cell_type": "markdown",
   "metadata": {},
   "source": [
    "Pop() function can also be used to remove and return an element from the set, but it removes only the last element of the set.\n",
    "\n",
    "Note – If the set is unordered then there’s no such way to determine which element is popped by using the pop() function."
   ]
  },
  {
   "cell_type": "code",
   "execution_count": 99,
   "metadata": {},
   "outputs": [
    {
     "name": "stdout",
     "output_type": "stream",
     "text": [
      "Intial Set: \n",
      "{1, 2, 3, 4, 5, 6, 7, 8, 9, 10, 11, 12}\n",
      "\n",
      "Set after popping an element: \n",
      "{2, 3, 4, 5, 6, 7, 8, 9, 10, 11, 12}\n"
     ]
    }
   ],
   "source": [
    "# Python program to demonstrate \n",
    "# Deletion of elements in a Set \n",
    "\n",
    "# Creating a Set \n",
    "set1 = set([1, 2, 3, 4, 5, 6, \n",
    "\t\t\t7, 8, 9, 10, 11, 12]) \n",
    "print(\"Intial Set: \") \n",
    "print(set1) \n",
    "\n",
    "# Removing element from the \n",
    "# Set using the pop() method \n",
    "set1.pop() \n",
    "print(\"\\nSet after popping an element: \") \n",
    "print(set1) \n"
   ]
  },
  {
   "cell_type": "code",
   "execution_count": null,
   "metadata": {},
   "outputs": [],
   "source": [
    "#Creating a set \n",
    "set1 = set([1,2,3,4,5]) \n",
    "print(\"\\n Initial set: \") \n",
    "print(set1) \n",
    "\n",
    "\n",
    "# Removing all the elements from \n",
    "# Set using clear() method \n",
    "set1.clear() \n",
    "print(\"\\nSet after clearing all the elements: \") \n",
    "print(set1) \n"
   ]
  },
  {
   "cell_type": "code",
   "execution_count": 100,
   "metadata": {},
   "outputs": [
    {
     "name": "stdout",
     "output_type": "stream",
     "text": [
      "The FrozenSet is: \n",
      "frozenset({'F', 'k', 'e', 'r', 's', 'o', 'G'})\n",
      "\n",
      "Empty FrozenSet: \n",
      "frozenset()\n"
     ]
    }
   ],
   "source": [
    "# Python program to demonstrate \n",
    "# working of a FrozenSet \n",
    "\n",
    "# Creating a Set \n",
    "String = ('G', 'e', 'e', 'k', 's', 'F', 'o', 'r') \n",
    "\n",
    "Fset1 = frozenset(String) \n",
    "print(\"The FrozenSet is: \") \n",
    "print(Fset1) \n",
    "\n",
    "# To print Empty Frozen Set \n",
    "# No parameter is passed \n",
    "print(\"\\nEmpty FrozenSet: \") \n",
    "print(frozenset()) \n"
   ]
  },
  {
   "cell_type": "markdown",
   "metadata": {},
   "source": [
    "## Python Dictionary"
   ]
  },
  {
   "cell_type": "markdown",
   "metadata": {},
   "source": [
    "Dictionary in Python is an unordered collection of data values, used to store data values like a map, which unlike other Data Types that hold only single value as an element, Dictionary holds key:value pair. Key value is provided in the dictionary to make it more optimized."
   ]
  },
  {
   "cell_type": "code",
   "execution_count": 102,
   "metadata": {},
   "outputs": [
    {
     "name": "stdout",
     "output_type": "stream",
     "text": [
      "\n",
      "Dictionary with the use of Integer Keys: \n",
      "{1: 'Geeks', 2: 'For', 3: 'Geeks'}\n",
      "\n",
      "Dictionary with the use of Mixed Keys: \n",
      "{'Name': 'Geeks', 1: [1, 2, 3, 4]}\n"
     ]
    }
   ],
   "source": [
    "# Creating a Dictionary \n",
    "# with Integer Keys \n",
    "Dict = {1: 'Geeks', 2: 'For', 3: 'Geeks'} \n",
    "print(\"\\nDictionary with the use of Integer Keys: \") \n",
    "print(Dict) \n",
    "\n",
    "# Creating a Dictionary \n",
    "# with Mixed keys \n",
    "Dict = {'Name': 'Geeks', 1: [1, 2, 3, 4]} \n",
    "print(\"\\nDictionary with the use of Mixed Keys: \") \n",
    "print(Dict) \n"
   ]
  },
  {
   "cell_type": "code",
   "execution_count": 103,
   "metadata": {},
   "outputs": [
    {
     "name": "stdout",
     "output_type": "stream",
     "text": [
      "Empty Dictionary: \n",
      "{}\n",
      "\n",
      "Dictionary with the use of dict(): \n",
      "{1: 'Geeks', 2: 'For', 3: 'Geeks'}\n",
      "\n",
      "Dictionary with each item as a pair: \n",
      "{1: 'Geeks', 2: 'For'}\n"
     ]
    }
   ],
   "source": [
    "# Creating an empty Dictionary \n",
    "Dict = {} \n",
    "print(\"Empty Dictionary: \") \n",
    "print(Dict) \n",
    "\n",
    "# Creating a Dictionary \n",
    "# with dict() method \n",
    "Dict = dict({1: 'Geeks', 2: 'For', 3:'Geeks'}) \n",
    "print(\"\\nDictionary with the use of dict(): \") \n",
    "print(Dict) \n",
    "\n",
    "# Creating a Dictionary \n",
    "# with each item as a Pair \n",
    "Dict = dict([(1, 'Geeks'), (2, 'For')]) \n",
    "print(\"\\nDictionary with each item as a pair: \") \n",
    "print(Dict) \n"
   ]
  },
  {
   "cell_type": "code",
   "execution_count": 104,
   "metadata": {},
   "outputs": [
    {
     "name": "stdout",
     "output_type": "stream",
     "text": [
      "{1: 'Geeks', 2: 'For', 3: {'A': 'Welcome', 'B': 'To', 'C': 'Geeks'}}\n"
     ]
    }
   ],
   "source": [
    "# Creating a Nested Dictionary \n",
    "# as shown in the below image \n",
    "Dict = {1: 'Geeks', 2: 'For', \n",
    "\t\t3:{'A' : 'Welcome', 'B' : 'To', 'C' : 'Geeks'}} \n",
    "\n",
    "print(Dict) \n"
   ]
  },
  {
   "cell_type": "code",
   "execution_count": 105,
   "metadata": {},
   "outputs": [
    {
     "name": "stdout",
     "output_type": "stream",
     "text": [
      "Empty Dictionary: \n",
      "{}\n",
      "\n",
      "Dictionary after adding 3 elements: \n",
      "{0: 'Geeks', 2: 'For', 3: 1}\n",
      "\n",
      "Dictionary after adding 3 elements: \n",
      "{0: 'Geeks', 2: 'For', 3: 1, 'Value_set': (2, 3, 4)}\n",
      "\n",
      "Updated key value: \n",
      "{0: 'Geeks', 2: 'Welcome', 3: 1, 'Value_set': (2, 3, 4)}\n",
      "\n",
      "Adding a Nested Key: \n",
      "{0: 'Geeks', 2: 'Welcome', 3: 1, 'Value_set': (2, 3, 4), 5: {'Nested': {'1': 'Life', '2': 'Geeks'}}}\n"
     ]
    }
   ],
   "source": [
    "# Creating an empty Dictionary \n",
    "Dict = {} \n",
    "print(\"Empty Dictionary: \") \n",
    "print(Dict) \n",
    "\n",
    "# Adding elements one at a time \n",
    "Dict[0] = 'Geeks'\n",
    "Dict[2] = 'For'\n",
    "Dict[3] = 1\n",
    "print(\"\\nDictionary after adding 3 elements: \") \n",
    "print(Dict) \n",
    "\n",
    "# Adding set of values \n",
    "# to a single Key \n",
    "Dict['Value_set'] = 2, 3, 4\n",
    "print(\"\\nDictionary after adding 3 elements: \") \n",
    "print(Dict) \n",
    "\n",
    "# Updating existing Key's Value \n",
    "Dict[2] = 'Welcome'\n",
    "print(\"\\nUpdated key value: \") \n",
    "print(Dict) \n",
    "\n",
    "# Adding Nested Key value to Dictionary \n",
    "Dict[5] = {'Nested' :{'1' : 'Life', '2' : 'Geeks'}} \n",
    "print(\"\\nAdding a Nested Key: \") \n",
    "print(Dict) \n"
   ]
  },
  {
   "cell_type": "code",
   "execution_count": 106,
   "metadata": {},
   "outputs": [
    {
     "name": "stdout",
     "output_type": "stream",
     "text": [
      "Accessing a element using key:\n",
      "For\n",
      "Accessing a element using key:\n",
      "Geeks\n"
     ]
    }
   ],
   "source": [
    "# Python program to demonstrate \n",
    "# accessing a element from a Dictionary \n",
    "\n",
    "# Creating a Dictionary \n",
    "Dict = {1: 'Geeks', 'name': 'For', 3: 'Geeks'} \n",
    "\n",
    "# accessing a element using key \n",
    "print(\"Accessing a element using key:\") \n",
    "print(Dict['name']) \n",
    "\n",
    "# accessing a element using key \n",
    "print(\"Accessing a element using key:\") \n",
    "print(Dict[1]) \n"
   ]
  },
  {
   "cell_type": "code",
   "execution_count": 107,
   "metadata": {},
   "outputs": [
    {
     "name": "stdout",
     "output_type": "stream",
     "text": [
      "Accessing a element using get:\n",
      "Geeks\n"
     ]
    }
   ],
   "source": [
    "# Creating a Dictionary \n",
    "Dict = {1: 'Geeks', 'name': 'For', 3: 'Geeks'} \n",
    "\n",
    "# accessing a element using get() \n",
    "# method \n",
    "print(\"Accessing a element using get:\") \n",
    "print(Dict.get(3)) \n"
   ]
  },
  {
   "cell_type": "code",
   "execution_count": 108,
   "metadata": {},
   "outputs": [
    {
     "name": "stdout",
     "output_type": "stream",
     "text": [
      "{1: 'Geeks'}\n",
      "Geeks\n",
      "For\n"
     ]
    }
   ],
   "source": [
    "# Creating a Dictionary \n",
    "Dict = {'Dict1': {1: 'Geeks'}, \n",
    "\t\t'Dict2': {'Name': 'For'}} \n",
    "\n",
    "# Accessing element using key \n",
    "print(Dict['Dict1']) \n",
    "print(Dict['Dict1'][1]) \n",
    "print(Dict['Dict2']['Name']) \n"
   ]
  },
  {
   "cell_type": "code",
   "execution_count": 109,
   "metadata": {},
   "outputs": [
    {
     "name": "stdout",
     "output_type": "stream",
     "text": [
      "Initial Dictionary: \n",
      "{5: 'Welcome', 6: 'To', 7: 'Geeks', 'A': {1: 'Geeks', 2: 'For', 3: 'Geeks'}, 'B': {1: 'Geeks', 2: 'Life'}}\n",
      "\n",
      "Deleting a specific key: \n",
      "{5: 'Welcome', 7: 'Geeks', 'A': {1: 'Geeks', 2: 'For', 3: 'Geeks'}, 'B': {1: 'Geeks', 2: 'Life'}}\n",
      "\n",
      "Deleting a key from Nested Dictionary: \n",
      "{5: 'Welcome', 7: 'Geeks', 'A': {1: 'Geeks', 3: 'Geeks'}, 'B': {1: 'Geeks', 2: 'Life'}}\n"
     ]
    }
   ],
   "source": [
    "# Initial Dictionary \n",
    "Dict = { 5 : 'Welcome', 6 : 'To', 7 : 'Geeks', \n",
    "\t\t'A' : {1 : 'Geeks', 2 : 'For', 3 : 'Geeks'}, \n",
    "\t\t'B' : {1 : 'Geeks', 2 : 'Life'}} \n",
    "print(\"Initial Dictionary: \") \n",
    "print(Dict) \n",
    "\n",
    "# Deleting a Key value \n",
    "del Dict[6] \n",
    "print(\"\\nDeleting a specific key: \") \n",
    "print(Dict) \n",
    "\n",
    "# Deleting a Key from \n",
    "# Nested Dictionary \n",
    "del Dict['A'][2] \n",
    "print(\"\\nDeleting a key from Nested Dictionary: \") \n",
    "print(Dict) \n"
   ]
  },
  {
   "cell_type": "code",
   "execution_count": 110,
   "metadata": {},
   "outputs": [
    {
     "name": "stdout",
     "output_type": "stream",
     "text": [
      "\n",
      "Dictionary after deletion: {'name': 'For', 3: 'Geeks'}\n",
      "Value associated to poped key is: Geeks\n"
     ]
    }
   ],
   "source": [
    "# Creating a Dictionary \n",
    "Dict = {1: 'Geeks', 'name': 'For', 3: 'Geeks'} \n",
    "\n",
    "# Deleting a key \n",
    "# using pop() method \n",
    "pop_ele = Dict.pop(1) \n",
    "print('\\nDictionary after deletion: ' + str(Dict)) \n",
    "print('Value associated to poped key is: ' + str(pop_ele)) \n"
   ]
  },
  {
   "cell_type": "code",
   "execution_count": 111,
   "metadata": {},
   "outputs": [
    {
     "name": "stdout",
     "output_type": "stream",
     "text": [
      "\n",
      "Dictionary after deletion: {1: 'Geeks', 'name': 'For'}\n",
      "The arbitrary pair returned is: (3, 'Geeks')\n"
     ]
    }
   ],
   "source": [
    "# Creating Dictionary \n",
    "Dict = {1: 'Geeks', 'name': 'For', 3: 'Geeks'} \n",
    "\n",
    "# Deleting an arbitrary key \n",
    "# using popitem() function \n",
    "pop_ele = Dict.popitem() \n",
    "print(\"\\nDictionary after deletion: \" + str(Dict)) \n",
    "print(\"The arbitrary pair returned is: \" + str(pop_ele)) \n"
   ]
  },
  {
   "cell_type": "code",
   "execution_count": 112,
   "metadata": {},
   "outputs": [
    {
     "name": "stdout",
     "output_type": "stream",
     "text": [
      "\n",
      "Deleting Entire Dictionary: \n",
      "{}\n"
     ]
    }
   ],
   "source": [
    "# Creating a Dictionary \n",
    "Dict = {1: 'Geeks', 'name': 'For', 3: 'Geeks'} \n",
    "\n",
    "\n",
    "# Deleting entire Dictionary \n",
    "Dict.clear() \n",
    "print(\"\\nDeleting Entire Dictionary: \") \n",
    "print(Dict) \n"
   ]
  },
  {
   "cell_type": "markdown",
   "metadata": {},
   "source": [
    "# Array in Python "
   ]
  },
  {
   "cell_type": "markdown",
   "metadata": {},
   "source": [
    "Other than some generic containers like list, Python in its definition can also handle containers with specified data types."
   ]
  },
  {
   "cell_type": "markdown",
   "metadata": {},
   "source": [
    "#### add the value at the position"
   ]
  },
  {
   "cell_type": "code",
   "execution_count": 113,
   "metadata": {},
   "outputs": [
    {
     "name": "stdout",
     "output_type": "stream",
     "text": [
      "The new created array is :  1 2 3 \r\n",
      "The appended array is : 1 2 3 4 \r\n",
      "The array after insertion is : 1 2 5 3 4 "
     ]
    }
   ],
   "source": [
    "# Python code to demonstrate the working of \n",
    "# array(), append(), insert() \n",
    "\n",
    "# importing \"array\" for array operations \n",
    "import array \n",
    "\n",
    "# initializing array with array values \n",
    "# initializes array with signed integers \n",
    "arr = array.array('i', [1, 2, 3]) \n",
    "\n",
    "# printing original array \n",
    "print (\"The new created array is : \",end=\" \") \n",
    "for i in range (0, 3): \n",
    "\tprint (arr[i], end=\" \") \n",
    "\n",
    "print(\"\\r\") \n",
    "\n",
    "# using append() to insert new value at end \n",
    "arr.append(4); \n",
    "\n",
    "# printing appended array \n",
    "print(\"The appended array is : \", end=\"\") \n",
    "for i in range (0, 4): \n",
    "\tprint (arr[i], end=\" \") \n",
    "\t\n",
    "# using insert() to insert value at specific position \n",
    "# inserts 5 at 2nd position \n",
    "arr.insert(2, 5) \n",
    "\n",
    "print(\"\\r\") \n",
    "\n",
    "# printing array after insertion \n",
    "print (\"The array after insertion is : \", end=\"\") \n",
    "for i in range (0, 5): \n",
    "\tprint (arr[i], end=\" \") \n"
   ]
  },
  {
   "cell_type": "markdown",
   "metadata": {},
   "source": [
    "#### remove the first occurrence"
   ]
  },
  {
   "cell_type": "code",
   "execution_count": 114,
   "metadata": {},
   "outputs": [
    {
     "name": "stdout",
     "output_type": "stream",
     "text": [
      "The new created array is : 1 2 3 1 5 \r\n",
      "The popped element is : 3\n",
      "The array after popping is : 1 2 1 5 \r\n",
      "The array after removing is : 2 1 5 "
     ]
    }
   ],
   "source": [
    "# Python code to demonstrate the working of \n",
    "# pop() and remove() \n",
    "\n",
    "# importing \"array\" for array operations \n",
    "import array \n",
    "\n",
    "# initializing array with array values \n",
    "# initializes array with signed integers \n",
    "arr= array.array('i',[1, 2, 3, 1, 5]) \n",
    "\n",
    "# printing original array \n",
    "print (\"The new created array is : \",end=\"\") \n",
    "for i in range (0,5): \n",
    "\tprint (arr[i],end=\" \") \n",
    "\n",
    "print (\"\\r\") \n",
    "\n",
    "# using pop() to remove element at 2nd position \n",
    "print (\"The popped element is : \",end=\"\") \n",
    "print (arr.pop(2)); \n",
    "\n",
    "# printing array after popping \n",
    "print (\"The array after popping is : \",end=\"\") \n",
    "for i in range (0,4): \n",
    "\tprint (arr[i],end=\" \") \n",
    "\n",
    "print(\"\\r\") \n",
    "\n",
    "# using remove() to remove 1st occurrence of 1 \n",
    "arr.remove(1) \n",
    "\n",
    "# printing array after removing \n",
    "print (\"The array after removing is : \",end=\"\") \n",
    "for i in range (0,3): \n",
    "\tprint (arr[i],end=\" \") \n"
   ]
  },
  {
   "cell_type": "markdown",
   "metadata": {},
   "source": [
    "#### reverse() :- This function reverses the array."
   ]
  },
  {
   "cell_type": "code",
   "execution_count": 115,
   "metadata": {},
   "outputs": [
    {
     "name": "stdout",
     "output_type": "stream",
     "text": [
      "The new created array is : 1 2 3 1 2 5 \r\n",
      "The index of 1st occurrence of 2 is : 1\n",
      "The array after reversing is : 5 2 1 3 2 1 "
     ]
    }
   ],
   "source": [
    "# Python code to demonstrate the working of \n",
    "# index() and reverse() \n",
    "\n",
    "# importing \"array\" for array operations \n",
    "import array \n",
    "\n",
    "# initializing array with array values \n",
    "# initializes array with signed integers \n",
    "arr= array.array('i',[1, 2, 3, 1, 2, 5]) \n",
    "\n",
    "# printing original array \n",
    "print (\"The new created array is : \",end=\"\") \n",
    "for i in range (0,6): \n",
    "\tprint (arr[i],end=\" \") \n",
    "\n",
    "print (\"\\r\") \n",
    "\n",
    "# using index() to print index of 1st occurrenece of 2 \n",
    "print (\"The index of 1st occurrence of 2 is : \",end=\"\") \n",
    "print (arr.index(2)) \n",
    "\n",
    "#using reverse() to reverse the array \n",
    "arr.reverse() \n",
    "\n",
    "# printing array after reversing \n",
    "print (\"The array after reversing is : \",end=\"\") \n",
    "for i in range (0,6): \n",
    "\tprint (arr[i],end=\" \") \n"
   ]
  },
  {
   "cell_type": "code",
   "execution_count": 116,
   "metadata": {},
   "outputs": [
    {
     "name": "stdout",
     "output_type": "stream",
     "text": [
      "The datatype of array is : \n",
      "i\n",
      "The itemsize of array is : \n",
      "4\n",
      "The buffer info. of array is : \n",
      "(139882762683600, 6)\n"
     ]
    }
   ],
   "source": [
    "# Python code to demonstrate the working of \n",
    "# typecode, itemsize, buffer_info() \n",
    "\n",
    "# importing \"array\" for array operations \n",
    "import array \n",
    "\n",
    "# initializing array with array values \n",
    "# initializes array with signed integers \n",
    "arr= array.array('i',[1, 2, 3, 1, 2, 5]) \n",
    "\n",
    "# using typecode to print datatype of array \n",
    "print (\"The datatype of array is : \") \n",
    "print (arr.typecode) \n",
    "\n",
    "# using itemsize to print itemsize of array \n",
    "print (\"The itemsize of array is : \") \n",
    "print (arr.itemsize) \n",
    "\n",
    "# using buffer_info() to print buffer info. of array \n",
    "print (\"The buffer info. of array is : \") \n",
    "print (arr.buffer_info()) \n"
   ]
  },
  {
   "cell_type": "markdown",
   "metadata": {},
   "source": [
    "Instead of import array, we can also use * to import array."
   ]
  },
  {
   "cell_type": "code",
   "execution_count": 117,
   "metadata": {},
   "outputs": [
    {
     "name": "stdout",
     "output_type": "stream",
     "text": [
      "array('i', [1, 2, 3, 1, 2, 5])\n"
     ]
    }
   ],
   "source": [
    "# importing \"array\" using * for array operations \n",
    "from array import *\n",
    "\n",
    "# initializing array with array values \n",
    "# initializes array with signed integers \n",
    "arr = array('i',[1, 2, 3, 1, 2, 5]) \n",
    "\n",
    "print(arr) \n"
   ]
  },
  {
   "cell_type": "code",
   "execution_count": 118,
   "metadata": {},
   "outputs": [
    {
     "name": "stdout",
     "output_type": "stream",
     "text": [
      "The occurrences of 1 in array is : \n",
      "2\n",
      "The modified array is : \n",
      "1\n",
      "2\n",
      "3\n",
      "1\n",
      "2\n",
      "5\n",
      "1\n",
      "2\n",
      "3\n"
     ]
    }
   ],
   "source": [
    "# Python code to demonstrate the working of \n",
    "# count() and extend() \n",
    "\n",
    "# importing \"array\" for array operations \n",
    "import array \n",
    "\n",
    "# initializing array 1 with array values \n",
    "# initializes array with signed integers \n",
    "arr1 = array.array('i',[1, 2, 3, 1, 2, 5]) \n",
    "\n",
    "# initializing array 2 with array values \n",
    "# initializes array with signed integers \n",
    "arr2 = array.array('i',[1, 2, 3]) \n",
    "\n",
    "# using count() to count occurrences of 1 in array \n",
    "print (\"The occurrences of 1 in array is : \") \n",
    "print (arr1.count(1)) \n",
    "\n",
    "# using extend() to add array 2 elements to array 1 \n",
    "arr1.extend(arr2) \n",
    "\n",
    "print (\"The modified array is : \") \n",
    "for i in range (0,9): \n",
    "\tprint (arr1[i]) \n"
   ]
  },
  {
   "cell_type": "code",
   "execution_count": 119,
   "metadata": {},
   "outputs": [
    {
     "name": "stdout",
     "output_type": "stream",
     "text": [
      "The modified array is : 1 2 3 1 2 5 1 2 3 \r\n",
      "The new list created is : 1 2 3 1 2 5 1 2 3 "
     ]
    }
   ],
   "source": [
    "# Python code to demonstrate the working of \n",
    "# fromlist() and tolist() \n",
    "\n",
    "# importing \"array\" for array operations \n",
    "import array \n",
    "\n",
    "# initializing array with array values \n",
    "# initializes array with signed integers \n",
    "arr = array.array('i',[1, 2, 3, 1, 2, 5]) \n",
    "\n",
    "# initializing list \n",
    "li = [1, 2, 3] \n",
    "\n",
    "# using fromlist() to append list at end of array \n",
    "arr.fromlist(li) \n",
    "\n",
    "# printing the modified array \n",
    "print (\"The modified array is : \",end=\"\") \n",
    "for i in range (0,9): \n",
    "\tprint (arr[i],end=\" \") \n",
    "\n",
    "# using tolist() to convert array into list \n",
    "li2 = arr.tolist() \n",
    "\n",
    "print (\"\\r\") \n",
    "\n",
    "# printing the new list \n",
    "print (\"The new list created is : \",end=\"\") \n",
    "for i in range (0,len(li2)): \n",
    "\tprint (li2[i],end=\" \") \n"
   ]
  },
  {
   "cell_type": "markdown",
   "metadata": {},
   "source": [
    "## Variables "
   ]
  },
  {
   "cell_type": "markdown",
   "metadata": {},
   "source": [
    "#### In Python, value of an integer is not restricted by the number of bits and can expand to the limit of the available memory ("
   ]
  },
  {
   "cell_type": "code",
   "execution_count": 120,
   "metadata": {},
   "outputs": [
    {
     "name": "stdout",
     "output_type": "stream",
     "text": [
      "10000000000000000000000000000000000000000001\n"
     ]
    }
   ],
   "source": [
    "# A Python program to demonstrate that we can store \n",
    "# large numbers in Python \n",
    "\n",
    "x = 10000000000000000000000000000000000000000000; \n",
    "x = x + 1\n",
    "print (x) \n"
   ]
  },
  {
   "cell_type": "markdown",
   "metadata": {},
   "source": [
    "#### Packing and Unpacking Arguments in Python"
   ]
  },
  {
   "cell_type": "markdown",
   "metadata": {},
   "source": [
    "We can use * to unpack the list so that all elements of it can be passed as different parameters."
   ]
  },
  {
   "cell_type": "code",
   "execution_count": 122,
   "metadata": {},
   "outputs": [
    {
     "ename": "TypeError",
     "evalue": "fun() missing 3 required positional arguments: 'b', 'c', and 'd'",
     "output_type": "error",
     "traceback": [
      "\u001b[0;31m---------------------------------------------------------------------------\u001b[0m",
      "\u001b[0;31mTypeError\u001b[0m                                 Traceback (most recent call last)",
      "\u001b[0;32m<ipython-input-122-f93a71367c91>\u001b[0m in \u001b[0;36m<module>\u001b[0;34m\u001b[0m\n\u001b[1;32m     11\u001b[0m \u001b[0;34m\u001b[0m\u001b[0m\n\u001b[1;32m     12\u001b[0m \u001b[0;31m# This doesn't work\u001b[0m\u001b[0;34m\u001b[0m\u001b[0;34m\u001b[0m\u001b[0;34m\u001b[0m\u001b[0m\n\u001b[0;32m---> 13\u001b[0;31m \u001b[0mfun\u001b[0m\u001b[0;34m(\u001b[0m\u001b[0mmy_list\u001b[0m\u001b[0;34m)\u001b[0m\u001b[0;34m\u001b[0m\u001b[0;34m\u001b[0m\u001b[0m\n\u001b[0m",
      "\u001b[0;31mTypeError\u001b[0m: fun() missing 3 required positional arguments: 'b', 'c', and 'd'"
     ]
    }
   ],
   "source": [
    "# A Python program to demonstrate need \n",
    "# of packing and unpacking \n",
    "\n",
    "# A sample function that takes 4 arguments \n",
    "# and prints them. \n",
    "def fun(a, b, c, d): \n",
    "\tprint(a, b, c, d) \n",
    "\n",
    "# Driver Code \n",
    "my_list = [1, 2, 3, 4] \n",
    "\n",
    "# This doesn't work \n",
    "fun(my_list) \n"
   ]
  },
  {
   "cell_type": "code",
   "execution_count": 123,
   "metadata": {},
   "outputs": [
    {
     "name": "stdout",
     "output_type": "stream",
     "text": [
      "1 2 3 4\n"
     ]
    }
   ],
   "source": [
    "# A sample function that takes 4 arguments \n",
    "# and prints the, \n",
    "def fun(a, b, c, d): \n",
    "\tprint(a, b, c, d) \n",
    "\n",
    "# Driver Code \n",
    "my_list = [1, 2, 3, 4] \n",
    "\n",
    "# Unpacking list into four arguments \n",
    "fun(*my_list) \n"
   ]
  },
  {
   "cell_type": "code",
   "execution_count": 124,
   "metadata": {},
   "outputs": [
    {
     "name": "stdout",
     "output_type": "stream",
     "text": [
      "15\n",
      "30\n"
     ]
    }
   ],
   "source": [
    "# A Python program to demonstrate use \n",
    "# of packing \n",
    "\n",
    "# This function uses packing to sum \n",
    "# unknown number of arguments \n",
    "def mySum(*args): \n",
    "\tsum = 0\n",
    "\tfor i in range(0, len(args)): \n",
    "\t\tsum = sum + args[i] \n",
    "\treturn sum\n",
    "\n",
    "# Driver code \n",
    "print(mySum(1, 2, 3, 4, 5)) \n",
    "print(mySum(10, 20)) \n"
   ]
  },
  {
   "cell_type": "code",
   "execution_count": 125,
   "metadata": {},
   "outputs": [
    {
     "name": "stdout",
     "output_type": "stream",
     "text": [
      "Geeksforgeeks awesome world!\n"
     ]
    }
   ],
   "source": [
    "# A Python program to demonstrate both packing and \n",
    "# unpacking. \n",
    "\n",
    "# A sample python function that takes three arguments \n",
    "# and prints them \n",
    "def fun1(a, b, c): \n",
    "\tprint(a, b, c) \n",
    "\n",
    "# Another sample function. \n",
    "# This is an example of PACKING. All arguments passed \n",
    "# to fun2 are packed into tuple *args. \n",
    "def fun2(*args): \n",
    "\n",
    "\t# Convert args tuple to a list so we can modify it \n",
    "\targs = list(args) \n",
    "\n",
    "\t# Modifying args \n",
    "\targs[0] = 'Geeksforgeeks'\n",
    "\targs[1] = 'awesome'\n",
    "\n",
    "\t# UNPACKING args and calling fun1() \n",
    "\tfun1(*args) \n",
    "\n",
    "# Driver code \n",
    "fun2('Hello', 'beautiful', 'world!') \n"
   ]
  },
  {
   "cell_type": "markdown",
   "metadata": {},
   "source": [
    "#### ** is used for dictionaries"
   ]
  },
  {
   "cell_type": "code",
   "execution_count": 126,
   "metadata": {},
   "outputs": [
    {
     "name": "stdout",
     "output_type": "stream",
     "text": [
      "2 4 10\n"
     ]
    }
   ],
   "source": [
    "\n",
    "# A sample program to demonstrate unpacking of \n",
    "# dictionary items using ** \n",
    "def fun(a, b, c): \n",
    "\tprint(a, b, c) \n",
    "\n",
    "# A call with unpacking of dictionary \n",
    "d = {'a':2, 'b':4, 'c':10} \n",
    "fun(**d) \n"
   ]
  },
  {
   "cell_type": "markdown",
   "metadata": {},
   "source": [
    "#### Type Conversion in Python"
   ]
  },
  {
   "cell_type": "code",
   "execution_count": 127,
   "metadata": {},
   "outputs": [
    {
     "name": "stdout",
     "output_type": "stream",
     "text": [
      "After converting to integer base 2 : 18\n",
      "After converting to float : 10010.0\n"
     ]
    }
   ],
   "source": [
    "# Python code to demonstrate Type conversion \n",
    "# using int(), float() \n",
    "\n",
    "# initializing string \n",
    "s = \"10010\"\n",
    "\n",
    "# printing string converting to int base 2 \n",
    "c = int(s,2) \n",
    "print (\"After converting to integer base 2 : \", end=\"\") \n",
    "print (c) \n",
    "\n",
    "# printing string converting to float \n",
    "e = float(s) \n",
    "print (\"After converting to float : \", end=\"\") \n",
    "print (e) \n"
   ]
  },
  {
   "cell_type": "code",
   "execution_count": 128,
   "metadata": {},
   "outputs": [
    {
     "name": "stdout",
     "output_type": "stream",
     "text": [
      "After converting character to integer : 52\n",
      "After converting 56 to hexadecimal string : 0x38\n",
      "After converting 56 to octal string : 0o70\n"
     ]
    }
   ],
   "source": [
    "# Python code to demonstrate Type conversion \n",
    "# using ord(), hex(), oct() \n",
    "\n",
    "# initializing integer \n",
    "s = '4'\n",
    "\n",
    "# printing character converting to integer \n",
    "c = ord(s) \n",
    "print (\"After converting character to integer : \",end=\"\") \n",
    "print (c) \n",
    "\n",
    "# printing integer converting to hexadecimal string \n",
    "c = hex(56) \n",
    "print (\"After converting 56 to hexadecimal string : \",end=\"\") \n",
    "print (c) \n",
    "\n",
    "# printing integer converting to octal string \n",
    "c = oct(56) \n",
    "print (\"After converting 56 to octal string : \",end=\"\") \n",
    "print (c) \n"
   ]
  },
  {
   "cell_type": "code",
   "execution_count": 129,
   "metadata": {},
   "outputs": [
    {
     "name": "stdout",
     "output_type": "stream",
     "text": [
      "After converting string to tuple : ('g', 'e', 'e', 'k', 's')\n",
      "After converting string to set : {'k', 's', 'e', 'g'}\n",
      "After converting string to list : ['g', 'e', 'e', 'k', 's']\n"
     ]
    }
   ],
   "source": [
    "# Python code to demonstrate Type conversion \n",
    "# using tuple(), set(), list() \n",
    "\n",
    "# initializing string \n",
    "s = 'geeks'\n",
    "\n",
    "# printing string converting to tuple \n",
    "c = tuple(s) \n",
    "print (\"After converting string to tuple : \",end=\"\") \n",
    "print (c) \n",
    "\n",
    "# printing string converting to set \n",
    "c = set(s) \n",
    "print (\"After converting string to set : \",end=\"\") \n",
    "print (c) \n",
    "\n",
    "# printing string converting to list \n",
    "c = list(s) \n",
    "print (\"After converting string to list : \",end=\"\") \n",
    "print (c) \n"
   ]
  },
  {
   "cell_type": "code",
   "execution_count": 130,
   "metadata": {},
   "outputs": [
    {
     "name": "stdout",
     "output_type": "stream",
     "text": [
      "After converting integer to complex number : (1+2j)\n",
      "After converting integer to string : 1\n",
      "After converting tuple to dictionary : {'a': 1, 'f': 2, 'g': 3}\n"
     ]
    }
   ],
   "source": [
    "# Python code to demonstrate Type conversion \n",
    "# using dict(), complex(), str() \n",
    "\n",
    "# initializing integers \n",
    "a = 1\n",
    "b = 2\n",
    "\n",
    "# initializing tuple \n",
    "tup = (('a', 1) ,('f', 2), ('g', 3)) \n",
    "\n",
    "# printing integer converting to complex number \n",
    "c = complex(1,2) \n",
    "print (\"After converting integer to complex number : \",end=\"\") \n",
    "print (c) \n",
    "\n",
    "# printing integer converting to string \n",
    "c = str(a) \n",
    "print (\"After converting integer to string : \",end=\"\") \n",
    "print (c) \n",
    "\n",
    "# printing tuple converting to expression dictionary \n",
    "c = dict(tup) \n",
    "print (\"After converting tuple to dictionary : \",end=\"\") \n",
    "print (c) \n"
   ]
  },
  {
   "cell_type": "code",
   "execution_count": 131,
   "metadata": {},
   "outputs": [
    {
     "name": "stdout",
     "output_type": "stream",
     "text": [
      "L\n",
      "M\n"
     ]
    }
   ],
   "source": [
    "# Convert ASCII value to characters \n",
    "a = chr(76) \n",
    "b = chr(77) \n",
    "\n",
    "print(a) \n",
    "print(b) \n"
   ]
  },
  {
   "cell_type": "markdown",
   "metadata": {},
   "source": [
    "Swap Variables "
   ]
  },
  {
   "cell_type": "code",
   "execution_count": 133,
   "metadata": {},
   "outputs": [
    {
     "name": "stdout",
     "output_type": "stream",
     "text": [
      "After Swapping values of x and y are 10 5\n"
     ]
    }
   ],
   "source": [
    "# Python program to swap two variables in single line \n",
    "x = 5\n",
    "y = 10\n",
    "x, y = y, x \n",
    "print (\"After Swapping values of x and y are\", x, y )\n"
   ]
  },
  {
   "cell_type": "markdown",
   "metadata": {},
   "source": [
    "## Python Operators"
   ]
  },
  {
   "cell_type": "code",
   "execution_count": 134,
   "metadata": {},
   "outputs": [
    {
     "name": "stdout",
     "output_type": "stream",
     "text": [
      "13\n",
      "5\n",
      "36\n",
      "2.25\n",
      "2\n",
      "1\n",
      "6561\n"
     ]
    }
   ],
   "source": [
    "# Examples of Arithmetic Operator \n",
    "a = 9\n",
    "b = 4\n",
    "\n",
    "# Addition of numbers \n",
    "add = a + b \n",
    "\n",
    "# Subtraction of numbers \n",
    "sub = a - b \n",
    "\n",
    "# Multiplication of number \n",
    "mul = a * b \n",
    "\n",
    "# Division(float) of number \n",
    "div1 = a / b \n",
    "\n",
    "# Division(floor) of number \n",
    "div2 = a // b \n",
    "\n",
    "# Modulo of both number \n",
    "mod = a % b \n",
    "\n",
    "# Power \n",
    "p = a ** b \n",
    "\n",
    "# print results \n",
    "print(add) \n",
    "print(sub) \n",
    "print(mul) \n",
    "print(div1) \n",
    "print(div2) \n",
    "print(mod) \n",
    "print(p) \n"
   ]
  },
  {
   "cell_type": "code",
   "execution_count": 135,
   "metadata": {},
   "outputs": [
    {
     "name": "stdout",
     "output_type": "stream",
     "text": [
      "False\n",
      "True\n",
      "False\n",
      "True\n",
      "False\n",
      "True\n"
     ]
    }
   ],
   "source": [
    "# Examples of Relational Operators \n",
    "a = 13\n",
    "b = 33\n",
    "\n",
    "# a > b is False \n",
    "print(a > b) \n",
    "\n",
    "# a < b is True \n",
    "print(a < b) \n",
    "\n",
    "# a == b is False \n",
    "print(a == b) \n",
    "\n",
    "# a != b is True \n",
    "print(a != b) \n",
    "\n",
    "# a >= b is False \n",
    "print(a >= b) \n",
    "\n",
    "# a <= b is True \n",
    "print(a <= b) \n"
   ]
  },
  {
   "cell_type": "code",
   "execution_count": 136,
   "metadata": {},
   "outputs": [
    {
     "name": "stdout",
     "output_type": "stream",
     "text": [
      "False\n",
      "True\n",
      "False\n"
     ]
    }
   ],
   "source": [
    "# Examples of Logical Operator \n",
    "a = True\n",
    "b = False\n",
    "\n",
    "# Print a and b is False \n",
    "print(a and b) \n",
    "\n",
    "# Print a or b is True \n",
    "print(a or b) \n",
    "\n",
    "# Print not a is False \n",
    "print(not a) \n"
   ]
  },
  {
   "cell_type": "code",
   "execution_count": 137,
   "metadata": {},
   "outputs": [
    {
     "name": "stdout",
     "output_type": "stream",
     "text": [
      "0\n",
      "14\n",
      "-11\n",
      "14\n",
      "2\n",
      "40\n"
     ]
    }
   ],
   "source": [
    "# Examples of Bitwise operators \n",
    "a = 10\n",
    "b = 4\n",
    "\n",
    "# Print bitwise AND operation \n",
    "print(a & b) \n",
    "\n",
    "# Print bitwise OR operation \n",
    "print(a | b) \n",
    "\n",
    "# Print bitwise NOT operation \n",
    "print(~a) \n",
    "\n",
    "# print bitwise XOR operation \n",
    "print(a ^ b) \n",
    "\n",
    "# print bitwise right shift operation \n",
    "print(a >> 2) \n",
    "\n",
    "# print bitwise left shift operation \n",
    "print(a << 2) \n"
   ]
  },
  {
   "cell_type": "code",
   "execution_count": 138,
   "metadata": {},
   "outputs": [
    {
     "name": "stdout",
     "output_type": "stream",
     "text": [
      "False\n",
      "True\n",
      "False\n"
     ]
    }
   ],
   "source": [
    "# Examples of Identity operators \n",
    "a1 = 3\n",
    "b1 = 3\n",
    "a2 = 'GeeksforGeeks'\n",
    "b2 = 'GeeksforGeeks'\n",
    "a3 = [1,2,3] \n",
    "b3 = [1,2,3] \n",
    "\n",
    "\n",
    "print(a1 is not b1) \n",
    "\n",
    "\n",
    "print(a2 is b2) \n",
    "\n",
    "# Output is False, since lists are mutable. \n",
    "print(a3 is b3) \n"
   ]
  },
  {
   "cell_type": "code",
   "execution_count": 139,
   "metadata": {},
   "outputs": [
    {
     "name": "stdout",
     "output_type": "stream",
     "text": [
      "True\n",
      "True\n",
      "False\n",
      "True\n",
      "False\n"
     ]
    }
   ],
   "source": [
    "# Examples of Membership operator \n",
    "x = 'Geeks for Geeks'\n",
    "y = {3:'a',4:'b'} \n",
    "\n",
    "\n",
    "print('G' in x) \n",
    "\n",
    "print('geeks' not in x) \n",
    "\n",
    "print('Geeks' not in x) \n",
    "\n",
    "print(3 in y) \n",
    "\n",
    "print('b' in y) \n"
   ]
  },
  {
   "cell_type": "markdown",
   "metadata": {},
   "source": [
    "Ternary Operator in Python"
   ]
  },
  {
   "cell_type": "code",
   "execution_count": 140,
   "metadata": {},
   "outputs": [
    {
     "name": "stdout",
     "output_type": "stream",
     "text": [
      "10\n"
     ]
    }
   ],
   "source": [
    "# Program to demonstrate conditional operator \n",
    "a, b = 10, 20\n",
    "\n",
    "# Copy value of a in min if a < b else copy b \n",
    "min = a if a < b else b \n",
    "\n",
    "print(min) \n"
   ]
  },
  {
   "cell_type": "markdown",
   "metadata": {},
   "source": [
    "### Operator Overloading in Python"
   ]
  },
  {
   "cell_type": "code",
   "execution_count": 141,
   "metadata": {},
   "outputs": [
    {
     "name": "stdout",
     "output_type": "stream",
     "text": [
      "3\n",
      "GeeksFor\n"
     ]
    }
   ],
   "source": [
    "# Python Program illustrate how \n",
    "# to overload an binary + operator \n",
    "\n",
    "class A: \n",
    "\tdef __init__(self, a): \n",
    "\t\tself.a = a \n",
    "\n",
    "\t# adding two objects \n",
    "\tdef __add__(self, o): \n",
    "\t\treturn self.a + o.a \n",
    "ob1 = A(1) \n",
    "ob2 = A(2) \n",
    "ob3 = A(\"Geeks\") \n",
    "ob4 = A(\"For\") \n",
    "\n",
    "print(ob1 + ob2) \n",
    "print(ob3 + ob4) \n"
   ]
  },
  {
   "cell_type": "code",
   "execution_count": 142,
   "metadata": {},
   "outputs": [
    {
     "name": "stdout",
     "output_type": "stream",
     "text": [
      "(3, 5)\n"
     ]
    }
   ],
   "source": [
    "# Python Program to perform addition \n",
    "# of two complex numbers using binary \n",
    "# + operator overloading. \n",
    "\n",
    "class complex: \n",
    "\tdef __init__(self, a, b): \n",
    "\t\tself.a = a \n",
    "\t\tself.b = b \n",
    "\n",
    "\t# adding two objects \n",
    "\tdef __add__(self, other): \n",
    "\t\treturn self.a + other.a, self.b + other.b \n",
    "\n",
    "\tdef __str__(self): \n",
    "\t\treturn self.a, self.b \n",
    "\n",
    "Ob1 = complex(1, 2) \n",
    "Ob2 = complex(2, 3) \n",
    "Ob3 = Ob1 + Ob2 \n",
    "print(Ob3) \n"
   ]
  },
  {
   "cell_type": "code",
   "execution_count": 143,
   "metadata": {},
   "outputs": [
    {
     "name": "stdout",
     "output_type": "stream",
     "text": [
      "ob2 is greater than ob1\n"
     ]
    }
   ],
   "source": [
    "# Python program to overload \n",
    "# a comparison operators \n",
    "\n",
    "class A: \n",
    "\tdef __init__(self, a): \n",
    "\t\tself.a = a \n",
    "\tdef __gt__(self, other): \n",
    "\t\tif(self.a>other.a): \n",
    "\t\t\treturn True\n",
    "\t\telse: \n",
    "\t\t\treturn False\n",
    "ob1 = A(2) \n",
    "ob2 = A(3) \n",
    "if(ob1>ob2): \n",
    "\tprint(\"ob1 is greater than ob2\") \n",
    "else: \n",
    "\tprint(\"ob2 is greater than ob1\") \n"
   ]
  },
  {
   "cell_type": "code",
   "execution_count": 144,
   "metadata": {},
   "outputs": [
    {
     "name": "stdout",
     "output_type": "stream",
     "text": [
      "ob1 is lessthan ob2\n",
      "Not equal\n"
     ]
    }
   ],
   "source": [
    "# Python program to overload equality \n",
    "# and less than operators \n",
    "\n",
    "class A: \n",
    "\tdef __init__(self, a): \n",
    "\t\tself.a = a \n",
    "\tdef __lt__(self, other): \n",
    "\t\tif(self.a<other.a): \n",
    "\t\t\treturn \"ob1 is lessthan ob2\"\n",
    "\t\telse: \n",
    "\t\t\treturn \"ob2 is less than ob1\"\n",
    "\tdef __eq__(self, other): \n",
    "\t\tif(self.a == other.a): \n",
    "\t\t\treturn \"Both are equal\"\n",
    "\t\telse: \n",
    "\t\t\treturn \"Not equal\"\n",
    "\t\t\t\t\n",
    "ob1 = A(2) \n",
    "ob2 = A(3) \n",
    "print(ob1 < ob2) \n",
    "\n",
    "ob3 = A(4) \n",
    "ob4 = A(4) \n",
    "print(ob1 == ob2) \n"
   ]
  },
  {
   "cell_type": "code",
   "execution_count": null,
   "metadata": {},
   "outputs": [],
   "source": [
    "#### Magic Methods\n",
    "\n",
    "OPERATOR\tMAGIC METHOD\n",
    "+\t__add__(self, other)\n",
    "–\t__sub__(self, other)\n",
    "*\t__mul__(self, other)\n",
    "/\t__truediv__(self, other)\n",
    "//\t__floordiv__(self, other)\n",
    "%\t__mod__(self, other)\n",
    "**\t__pow__(self, other)\n",
    "\n",
    "<\t__lt__(self, other)\n",
    ">\t__gt__(self, other)\n",
    "<=\t__le__(self, other)\n",
    ">=\t__ge__(self, other)\n",
    "==\t__eq__(self, other)\n",
    "!=\t__ne__(self, other)\n",
    "\n",
    "-=\t__isub__(self, other)\n",
    "+=\t__iadd__(self, other)\n",
    "*=\t__imul__(self, other)\n",
    "/=\t__idiv__(self, other)\n",
    "//=\t__ifloordiv__(self, other)\n",
    "%=\t__imod__(self, other)\n",
    "**=\t__ipow__(self, other)\n",
    "\n",
    "–\t__neg__(self, other)\n",
    "+\t__pos__(self, other)\n",
    "~\t__invert__(self, other)"
   ]
  },
  {
   "cell_type": "markdown",
   "metadata": {},
   "source": [
    "### Any All in Python\n",
    "\n",
    "Any and All are two built ins provided in python used for successive And/Or."
   ]
  },
  {
   "cell_type": "code",
   "execution_count": 145,
   "metadata": {},
   "outputs": [
    {
     "name": "stdout",
     "output_type": "stream",
     "text": [
      "False\n",
      "True\n",
      "True\n"
     ]
    }
   ],
   "source": [
    "# Since all are false, false is returned \n",
    "print (any([False, False, False, False])) \n",
    "\n",
    "# Here the method will short-circuit at the \n",
    "# second item (True) and will return True. \n",
    "print (any([False, True, False, False])) \n",
    "\n",
    "# Here the method will short-circuit at the \n",
    "# first (True) and will return True. \n",
    "print (any([True, False, False, False])) \n"
   ]
  },
  {
   "cell_type": "code",
   "execution_count": 146,
   "metadata": {},
   "outputs": [
    {
     "name": "stdout",
     "output_type": "stream",
     "text": [
      "True\n",
      "False\n",
      "False\n"
     ]
    }
   ],
   "source": [
    "# Here all the iterables are True so all \n",
    "# will return True and the same will be printed \n",
    "print (all([True, True, True, True])) \n",
    "\n",
    "# Here the method will short-circuit at the \n",
    "# first item (False) and will return False. \n",
    "print (all([False, True, True, False])) \n",
    "\n",
    "# This statement will return False, as no \n",
    "# True is found in the iterables \n",
    "print (all([False, False, False])) \n"
   ]
  },
  {
   "cell_type": "markdown",
   "metadata": {},
   "source": [
    "#### Inplace vs Standard Operators in Python\n",
    "\n",
    "The _add_ method, does simple addition, takes two arguments, returns the sum and stores it in other variable without modifying any of the argument.\n",
    "\n",
    "On the other hand, _iadd_ method also takes two arguments, but it makes in-place change in 1st argument passed by storing the sum in it. As object mutation is needed in this process, immutable targets such as numbers, strings and tuples, shouldn’t have _iadd_ method.\n",
    "\n",
    "Normal operator’s “add()” method, implements “a+b” and stores the result in the mentioned variable.\n",
    "Inplace operator’s “iadd()” method, implements “a+=b” if it exists (i.e in case of immutable targets, it doesn’t exist) and changes the value of passed argument. But if not, “a+b” is implemented."
   ]
  },
  {
   "cell_type": "code",
   "execution_count": 147,
   "metadata": {},
   "outputs": [
    {
     "name": "stdout",
     "output_type": "stream",
     "text": [
      "Value after adding using normal operator : 11\n",
      "Value after adding using Inplace operator : 11\n",
      "Value of first argument using normal operator : 5\n",
      "Value of first argument using Inplace operator : 5\n"
     ]
    }
   ],
   "source": [
    "# Python code to demonstrate difference between \n",
    "# Inplace and Normal operators in Immutable Targets \n",
    "\n",
    "# importing operator to handle operator operations \n",
    "import operator \n",
    "\n",
    "# Initializing values \n",
    "x = 5\n",
    "y = 6\n",
    "a = 5\n",
    "b = 6\n",
    "\n",
    "# using add() to add the arguments passed \n",
    "z = operator.add(a,b) \n",
    "\n",
    "# using iadd() to add the arguments passed \n",
    "p = operator.iadd(x,y) \n",
    "\n",
    "# printing the modified value \n",
    "print (\"Value after adding using normal operator : \",end=\"\") \n",
    "print (z) \n",
    "\n",
    "# printing the modified value \n",
    "print (\"Value after adding using Inplace operator : \",end=\"\") \n",
    "print (p) \n",
    "\n",
    "# printing value of first argument \n",
    "# value is unchanged \n",
    "print (\"Value of first argument using normal operator : \",end=\"\") \n",
    "print (a) \n",
    "\n",
    "# printing value of first argument \n",
    "# value is unchanged \n",
    "print (\"Value of first argument using Inplace operator : \",end=\"\") \n",
    "print (x) \n"
   ]
  },
  {
   "cell_type": "code",
   "execution_count": 148,
   "metadata": {},
   "outputs": [
    {
     "name": "stdout",
     "output_type": "stream",
     "text": [
      "Value after adding using normal operator : [1, 2, 4, 5, 1, 2, 3]\n",
      "Value of first argument using normal operator : [1, 2, 4, 5]\n",
      "Value after adding using Inplace operator : [1, 2, 4, 5, 1, 2, 3]\n",
      "Value of first argument using Inplace operator : [1, 2, 4, 5, 1, 2, 3]\n"
     ]
    }
   ],
   "source": [
    "# Python code to demonstrate difference between \n",
    "# Inplace and Normal operators in mutable Targets \n",
    "\n",
    "# importing operator to handle operator operations \n",
    "import operator \n",
    "\n",
    "# Initializing list \n",
    "a = [1, 2, 4, 5] \n",
    "\n",
    "# using add() to add the arguments passed \n",
    "z = operator.add(a,[1, 2, 3]) \n",
    "\n",
    "# printing the modified value \n",
    "print (\"Value after adding using normal operator : \",end=\"\") \n",
    "print (z) \n",
    "\n",
    "# printing value of first argument \n",
    "# value is unchanged \n",
    "print (\"Value of first argument using normal operator : \",end=\"\") \n",
    "print (a) \n",
    "\n",
    "# using iadd() to add the arguments passed \n",
    "# performs a+=[1, 2, 3] \n",
    "p = operator.iadd(a,[1, 2, 3]) \n",
    "\n",
    "# printing the modified value \n",
    "print (\"Value after adding using Inplace operator : \",end=\"\") \n",
    "print (p) \n",
    "\n",
    "# printing value of first argument \n",
    "# value is changed \n",
    "print (\"Value of first argument using Inplace operator : \",end=\"\") \n",
    "print (a) \n"
   ]
  },
  {
   "cell_type": "markdown",
   "metadata": {},
   "source": [
    "#### Logic Gates in Python"
   ]
  },
  {
   "cell_type": "code",
   "execution_count": 149,
   "metadata": {},
   "outputs": [
    {
     "name": "stdout",
     "output_type": "stream",
     "text": [
      "True\n",
      "+---------------+----------------+\n",
      " | AND Truth Table | Result |\n",
      " A = False, B = False | A AND B = False  | \n",
      " A = False, B = True | A AND B = False  | \n",
      " A = True, B = False | A AND B = False  | \n",
      " A = True, B = True | A AND B = True  | \n"
     ]
    }
   ],
   "source": [
    "# Python3 program to illustrate \n",
    "# working of AND gate \n",
    "\n",
    "def AND (a, b): \n",
    "\n",
    "\tif a == 1 and b == 1: \n",
    "\t\treturn True\n",
    "\telse: \n",
    "\t\treturn False\n",
    "\n",
    "# Driver code \n",
    "if __name__=='__main__': \n",
    "\tprint(AND(1, 1)) \n",
    "\n",
    "\tprint(\"+---------------+----------------+\") \n",
    "\tprint(\" | AND Truth Table | Result |\") \n",
    "\tprint(\" A = False, B = False | A AND B =\",AND(False,False),\" | \") \n",
    "\tprint(\" A = False, B = True | A AND B =\",AND(False,True),\" | \") \n",
    "\tprint(\" A = True, B = False | A AND B =\",AND(True,False),\" | \") \n",
    "\tprint(\" A = True, B = True | A AND B =\",AND(True,True),\" | \") \n"
   ]
  },
  {
   "cell_type": "code",
   "execution_count": 150,
   "metadata": {},
   "outputs": [
    {
     "name": "stdout",
     "output_type": "stream",
     "text": [
      "True\n",
      "+---------------+----------------+\n",
      " | NAND Truth Table | Result |\n",
      " A = False, B = False | A AND B = True  | \n",
      " A = False, B = True | A AND B = True  | \n",
      " A = True, B = False | A AND B = True  | \n",
      " A = True, B = True | A AND B = False  | \n"
     ]
    }
   ],
   "source": [
    "# Python3 program to illustrate \n",
    "# working of NAND gate \n",
    "\n",
    "def NAND (a, b): \n",
    "\tif a == 1 and b == 1: \n",
    "\t\treturn False\n",
    "\telse: \n",
    "\t\treturn True\n",
    "\n",
    "# Driver code \n",
    "if __name__=='__main__': \n",
    "\tprint(NAND(1, 0)) \n",
    "\n",
    "\tprint(\"+---------------+----------------+\") \n",
    "\tprint(\" | NAND Truth Table | Result |\") \n",
    "\tprint(\" A = False, B = False | A AND B =\",NAND(False,False),\" | \") \n",
    "\tprint(\" A = False, B = True | A AND B =\",NAND(False,True),\" | \") \n",
    "\tprint(\" A = True, B = False | A AND B =\",NAND(True,False),\" | \") \n",
    "\tprint(\" A = True, B = True | A AND B =\",NAND(True,True),\" | \") \n"
   ]
  },
  {
   "cell_type": "code",
   "execution_count": 151,
   "metadata": {},
   "outputs": [
    {
     "name": "stdout",
     "output_type": "stream",
     "text": [
      "False\n",
      "+---------------+----------------+\n",
      " | OR Truth Table | Result |\n",
      " A = False, B = False | A AND B = False  | \n",
      " A = False, B = True | A AND B = True  | \n",
      " A = True, B = False | A AND B = True  | \n",
      " A = True, B = True | A AND B = True  | \n"
     ]
    }
   ],
   "source": [
    "# Python3 program to illustrate \n",
    "# working of OR gate \n",
    "\n",
    "def OR(a, b): \n",
    "\tif a == 1: \n",
    "\t\treturn True\n",
    "\telif b == 1: \n",
    "\t\treturn True\n",
    "\telse: \n",
    "\t\treturn False\n",
    "\n",
    "# Driver code \n",
    "if __name__=='__main__': \n",
    "\tprint(OR(0, 0)) \n",
    "\n",
    "\tprint(\"+---------------+----------------+\") \n",
    "\tprint(\" | OR Truth Table | Result |\") \n",
    "\tprint(\" A = False, B = False | A AND B =\",OR(False,False),\" | \") \n",
    "\tprint(\" A = False, B = True | A AND B =\",OR(False,True),\" | \") \n",
    "\tprint(\" A = True, B = False | A AND B =\",OR(True,False),\" | \") \n",
    "\tprint(\" A = True, B = True | A AND B =\",OR(True,True),\" | \") \n"
   ]
  },
  {
   "cell_type": "code",
   "execution_count": 152,
   "metadata": {},
   "outputs": [
    {
     "name": "stdout",
     "output_type": "stream",
     "text": [
      "0\n",
      "+---------------+----------------+\n",
      " | XOR Truth Table | Result |\n",
      " A = False, B = False | A AND B = 0  | \n",
      " A = False, B = True | A AND B = 1  | \n",
      " A = True, B = False | A AND B = 1  | \n",
      " A = True, B = True | A AND B = 0  | \n"
     ]
    }
   ],
   "source": [
    "# Python3 program to illustrate \n",
    "# working of Xor gate \n",
    "\n",
    "def XOR (a, b): \n",
    "\tif a != b: \n",
    "\t\treturn 1\n",
    "\telse: \n",
    "\t\treturn 0\n",
    "\n",
    "# Driver code \n",
    "if __name__=='__main__': \n",
    "\tprint(XOR(5, 5)) \n",
    "\n",
    "\tprint(\"+---------------+----------------+\") \n",
    "\tprint(\" | XOR Truth Table | Result |\") \n",
    "\tprint(\" A = False, B = False | A AND B =\",XOR(False,False),\" | \") \n",
    "\tprint(\" A = False, B = True | A AND B =\",XOR(False,True),\" | \") \n",
    "\tprint(\" A = True, B = False | A AND B =\",XOR(True,False),\" | \") \n",
    "\tprint(\" A = True, B = True | A AND B =\",XOR(True,True),\" | \") \n"
   ]
  },
  {
   "cell_type": "code",
   "execution_count": 153,
   "metadata": {},
   "outputs": [
    {
     "name": "stdout",
     "output_type": "stream",
     "text": [
      "1\n",
      "+---------------+----------------+\n",
      " | NOT Truth Table | Result |\n",
      " A = False | A NOT = 1  | \n",
      " A = True, | A NOT = 0  | \n"
     ]
    }
   ],
   "source": [
    "# Python3 program to illustrate \n",
    "# working of Not gate \n",
    "\n",
    "def NOT(a): \n",
    "\tif(a == 0): \n",
    "\t\treturn 1\n",
    "\telif(a == 1): \n",
    "\t\treturn 0\n",
    "# Driver code \n",
    "if __name__=='__main__': \n",
    "\tprint(NOT(0)) \n",
    "\n",
    "\tprint(\"+---------------+----------------+\") \n",
    "\tprint(\" | NOT Truth Table | Result |\") \n",
    "\tprint(\" A = False | A NOT =\",NOT(False),\" | \") \n",
    "\tprint(\" A = True, | A NOT =\",NOT(True),\" | \") \n",
    "\n"
   ]
  },
  {
   "cell_type": "code",
   "execution_count": 154,
   "metadata": {},
   "outputs": [
    {
     "name": "stdout",
     "output_type": "stream",
     "text": [
      "1\n",
      "+---------------+----------------+\n",
      " | NOR Truth Table | Result |\n",
      " A = False, B = False | A AND B = 1  | \n",
      " A = False, B = True | A AND B = 0  | \n",
      " A = True, B = False | A AND B = 0  | \n",
      " A = True, B = True | A AND B = 0  | \n"
     ]
    }
   ],
   "source": [
    "# Python3 program to illustrate \n",
    "# working of NOR gate \n",
    "\n",
    "def NOR(a, b): \n",
    "\tif(a == 0) and (b == 0): \n",
    "\t\treturn 1\n",
    "\telif(a == 0) and (b == 1): \n",
    "\t\treturn 0\n",
    "\telif(a == 1) and (b == 0): \n",
    "\t\treturn 0\n",
    "\telif(a == 1) and (b == 1): \n",
    "\t\treturn 0\n",
    "\n",
    "# Driver code \n",
    "if __name__=='__main__': \n",
    "\tprint(NOR(0, 0)) \n",
    "\n",
    "\tprint(\"+---------------+----------------+\") \n",
    "\tprint(\" | NOR Truth Table | Result |\") \n",
    "\tprint(\" A = False, B = False | A AND B =\",NOR(False,False),\" | \") \n",
    "\tprint(\" A = False, B = True | A AND B =\",NOR(False,True),\" | \") \n",
    "\tprint(\" A = True, B = False | A AND B =\",NOR(True,False),\" | \") \n",
    "\tprint(\" A = True, B = True | A AND B =\",NOR(True,True),\" | \") \n"
   ]
  },
  {
   "cell_type": "code",
   "execution_count": 155,
   "metadata": {},
   "outputs": [
    {
     "name": "stdout",
     "output_type": "stream",
     "text": [
      "1\n",
      "+---------------+----------------+\n",
      " | XNOR Truth Table | Result |\n",
      " A = False, B = False | A AND B = 1  | \n",
      " A = False, B = True | A AND B = 0  | \n",
      " A = True, B = False | A AND B = 0  | \n",
      " A = True, B = True | A AND B = 1  | \n"
     ]
    }
   ],
   "source": [
    "# Python3 program to illustrate \n",
    "# working of Not gate \n",
    "\n",
    "def XNOR(a,b): \n",
    "\tif(a == b): \n",
    "\t\treturn 1\n",
    "\telse: \n",
    "\t\treturn 0\n",
    "# Driver code \n",
    "if __name__=='__main__': \n",
    "\tprint(XNOR(1,1)) \n",
    "\n",
    "\tprint(\"+---------------+----------------+\") \n",
    "\tprint(\" | XNOR Truth Table | Result |\") \n",
    "\tprint(\" A = False, B = False | A AND B =\",XNOR(False,False),\" | \") \n",
    "\tprint(\" A = False, B = True | A AND B =\",XNOR(False,True),\" | \") \n",
    "\tprint(\" A = True, B = False | A AND B =\",XNOR(True,False),\" | \") \n",
    "\tprint(\" A = True, B = True | A AND B =\",XNOR(True,True),\" | \") \n"
   ]
  },
  {
   "cell_type": "markdown",
   "metadata": {},
   "source": [
    "#### The == operator compares the values of both the operands and checks for value equality. Whereas is operator checks whether both the operands refer to the same object or not."
   ]
  },
  {
   "cell_type": "code",
   "execution_count": 156,
   "metadata": {},
   "outputs": [
    {
     "name": "stdout",
     "output_type": "stream",
     "text": [
      "True\n",
      "False\n",
      "True\n",
      "False\n"
     ]
    }
   ],
   "source": [
    "# python3 code to \n",
    "# illustrate the \n",
    "# difference between \n",
    "# == and is operator \n",
    "# [] is an empty list \n",
    "list1 = [] \n",
    "list2 = [] \n",
    "list3=list1 \n",
    "\n",
    "if (list1 == list2): \n",
    "\tprint(\"True\") \n",
    "else: \n",
    "\tprint(\"False\") \n",
    "\n",
    "if (list1 is list2): \n",
    "\tprint(\"True\") \n",
    "else: \n",
    "\tprint(\"False\") \n",
    "\n",
    "if (list1 is list3): \n",
    "\tprint(\"True\") \n",
    "else:\t \n",
    "\tprint(\"False\") \n",
    "\n",
    "list3 = list3 + list2 \n",
    "\n",
    "if (list1 is list3): \n",
    "\tprint(\"True\") \n",
    "else:\t \n",
    "\tprint(\"False\") \n"
   ]
  },
  {
   "cell_type": "markdown",
   "metadata": {},
   "source": [
    "# loops in python"
   ]
  },
  {
   "cell_type": "code",
   "execution_count": 157,
   "metadata": {},
   "outputs": [
    {
     "name": "stdout",
     "output_type": "stream",
     "text": [
      "Hello Geek\n",
      "Hello Geek\n",
      "Hello Geek\n"
     ]
    }
   ],
   "source": [
    "# Python program to illustrate \n",
    "# while loop \n",
    "count = 0\n",
    "while (count < 3):\t \n",
    "\tcount = count + 1\n",
    "\tprint(\"Hello Geek\") \n"
   ]
  },
  {
   "cell_type": "code",
   "execution_count": 158,
   "metadata": {},
   "outputs": [
    {
     "name": "stdout",
     "output_type": "stream",
     "text": [
      "Hello Geek\n",
      "Hello Geek\n",
      "Hello Geek\n",
      "In Else Block\n"
     ]
    }
   ],
   "source": [
    "#Python program to illustrate \n",
    "# combining else with while \n",
    "count = 0\n",
    "while (count < 3):\t \n",
    "\tcount = count + 1\n",
    "\tprint(\"Hello Geek\") \n",
    "else: \n",
    "\tprint(\"In Else Block\") \n"
   ]
  },
  {
   "cell_type": "code",
   "execution_count": 160,
   "metadata": {},
   "outputs": [
    {
     "name": "stdout",
     "output_type": "stream",
     "text": [
      "0\n",
      "1\n",
      "2\n",
      "3\n"
     ]
    }
   ],
   "source": [
    "# Python program to illustrate \n",
    "# Iterating over range 0 to n-1 \n",
    "\n",
    "n = 4\n",
    "for i in range(0, n): \n",
    "\tprint(i) \n"
   ]
  },
  {
   "cell_type": "code",
   "execution_count": 161,
   "metadata": {},
   "outputs": [
    {
     "name": "stdout",
     "output_type": "stream",
     "text": [
      "List Iteration\n",
      "geeks\n",
      "for\n",
      "geeks\n",
      "\n",
      "Tuple Iteration\n",
      "geeks\n",
      "for\n",
      "geeks\n",
      "\n",
      "String Iteration\n",
      "G\n",
      "e\n",
      "e\n",
      "k\n",
      "s\n",
      "\n",
      "Dictionary Iteration\n",
      "xyz 123\n",
      "abc 345\n"
     ]
    }
   ],
   "source": [
    "# Python program to illustrate \n",
    "# Iterating over a list \n",
    "print(\"List Iteration\") \n",
    "l = [\"geeks\", \"for\", \"geeks\"] \n",
    "for i in l: \n",
    "\tprint(i) \n",
    "\t\n",
    "# Iterating over a tuple (immutable) \n",
    "print(\"\\nTuple Iteration\") \n",
    "t = (\"geeks\", \"for\", \"geeks\") \n",
    "for i in t: \n",
    "\tprint(i) \n",
    "\t\n",
    "# Iterating over a String \n",
    "print(\"\\nString Iteration\")\t \n",
    "s = \"Geeks\"\n",
    "for i in s : \n",
    "\tprint(i) \n",
    "\t\n",
    "# Iterating over dictionary \n",
    "print(\"\\nDictionary Iteration\") \n",
    "d = dict() \n",
    "d['xyz'] = 123\n",
    "d['abc'] = 345\n",
    "for i in d : \n",
    "\tprint(\"%s %d\" %(i, d[i])) \n"
   ]
  },
  {
   "cell_type": "code",
   "execution_count": 165,
   "metadata": {},
   "outputs": [
    {
     "name": "stdout",
     "output_type": "stream",
     "text": [
      "geeks\n",
      "for\n",
      "geeks\n",
      "Inside Else Block\n"
     ]
    }
   ],
   "source": [
    "# Python program to illustrate \n",
    "# combining else with for \n",
    "\n",
    "list = [\"geeks\", \"for\", \"geeks\"] \n",
    "for index in range(len(list)): \n",
    "\tprint (list[index] )\n",
    "else: \n",
    "\tprint (\"Inside Else Block\")\n"
   ]
  },
  {
   "cell_type": "code",
   "execution_count": 168,
   "metadata": {},
   "outputs": [
    {
     "name": "stdout",
     "output_type": "stream",
     "text": [
      "Current Letter : g\n",
      "Current Letter : k\n",
      "Current Letter : f\n",
      "Current Letter : o\n",
      "Current Letter : r\n",
      "Current Letter : g\n",
      "Current Letter : k\n"
     ]
    }
   ],
   "source": [
    "# Prints all letters except 'e' and 's' \n",
    "for letter in 'geeksforgeeks': \n",
    "\tif letter == 'e' or letter == 's': \n",
    "\t\tcontinue\n",
    "\tprint ('Current Letter :', letter )\n",
    "\tvar = 10\n"
   ]
  },
  {
   "cell_type": "code",
   "execution_count": 169,
   "metadata": {},
   "outputs": [
    {
     "name": "stdout",
     "output_type": "stream",
     "text": [
      "Current Letter : e\n"
     ]
    }
   ],
   "source": [
    "for letter in 'geeksforgeeks': \n",
    "\n",
    "\t# break the loop as soon it sees 'e' \n",
    "\t# or 's' \n",
    "\tif letter == 'e' or letter == 's': \n",
    "\t\tbreak\n",
    "\n",
    "print ('Current Letter :', letter )\n"
   ]
  },
  {
   "cell_type": "code",
   "execution_count": 171,
   "metadata": {},
   "outputs": [
    {
     "name": "stdout",
     "output_type": "stream",
     "text": [
      "Last Letter : s\n"
     ]
    }
   ],
   "source": [
    "# An empty loop \n",
    "for letter in 'geeksforgeeks': \n",
    "\tpass\n",
    "print ('Last Letter :', letter )\n"
   ]
  },
  {
   "cell_type": "code",
   "execution_count": 172,
   "metadata": {},
   "outputs": [
    {
     "name": "stdout",
     "output_type": "stream",
     "text": [
      "0 The\n",
      "1 Big\n",
      "2 Bang\n",
      "3 Theory\n"
     ]
    }
   ],
   "source": [
    "# python code to demonstrate working of enumerate() \n",
    "\n",
    "for key, value in enumerate(['The', 'Big', 'Bang', 'Theory']): \n",
    "\tprint(key, value) \n"
   ]
  },
  {
   "cell_type": "code",
   "execution_count": 173,
   "metadata": {},
   "outputs": [
    {
     "name": "stdout",
     "output_type": "stream",
     "text": [
      "What is your name? I am apple.\n",
      "What is your colour? I am red.\n",
      "What is your shape? I am a circle.\n"
     ]
    }
   ],
   "source": [
    "# python code to demonstrate working of zip() \n",
    "\n",
    "# initializing list \n",
    "questions = ['name', 'colour', 'shape'] \n",
    "answers = ['apple', 'red', 'a circle'] \n",
    "\n",
    "# using zip() to combine two containers \n",
    "# and print values \n",
    "for question, answer in zip(questions, answers): \n",
    "\tprint('What is your {0}? I am {1}.'.format(question, answer)) \n"
   ]
  },
  {
   "cell_type": "code",
   "execution_count": 176,
   "metadata": {},
   "outputs": [
    {
     "name": "stdout",
     "output_type": "stream",
     "text": [
      "The key value pair using iteritems is : \n"
     ]
    },
    {
     "ename": "AttributeError",
     "evalue": "'dict' object has no attribute 'iteritem'",
     "output_type": "error",
     "traceback": [
      "\u001b[0;31m---------------------------------------------------------------------------\u001b[0m",
      "\u001b[0;31mAttributeError\u001b[0m                            Traceback (most recent call last)",
      "\u001b[0;32m<ipython-input-176-60dfb3b1e8fc>\u001b[0m in \u001b[0;36m<module>\u001b[0;34m\u001b[0m\n\u001b[1;32m      5\u001b[0m \u001b[0;31m# using iteritems to print the dictionary key-value pair\u001b[0m\u001b[0;34m\u001b[0m\u001b[0;34m\u001b[0m\u001b[0;34m\u001b[0m\u001b[0m\n\u001b[1;32m      6\u001b[0m \u001b[0mprint\u001b[0m \u001b[0;34m(\u001b[0m\u001b[0;34m\"The key value pair using iteritems is : \"\u001b[0m\u001b[0;34m)\u001b[0m\u001b[0;34m\u001b[0m\u001b[0;34m\u001b[0m\u001b[0m\n\u001b[0;32m----> 7\u001b[0;31m \u001b[0;32mfor\u001b[0m \u001b[0mi\u001b[0m\u001b[0;34m,\u001b[0m\u001b[0mj\u001b[0m \u001b[0;32min\u001b[0m \u001b[0md\u001b[0m\u001b[0;34m.\u001b[0m\u001b[0miteritem\u001b[0m\u001b[0;34m(\u001b[0m\u001b[0;34m)\u001b[0m\u001b[0;34m:\u001b[0m\u001b[0;34m\u001b[0m\u001b[0;34m\u001b[0m\u001b[0m\n\u001b[0m\u001b[1;32m      8\u001b[0m         \u001b[0mprint\u001b[0m \u001b[0;34m(\u001b[0m \u001b[0mi\u001b[0m\u001b[0;34m,\u001b[0m\u001b[0mj\u001b[0m \u001b[0;34m)\u001b[0m\u001b[0;34m\u001b[0m\u001b[0;34m\u001b[0m\u001b[0m\n\u001b[1;32m      9\u001b[0m \u001b[0;34m\u001b[0m\u001b[0m\n",
      "\u001b[0;31mAttributeError\u001b[0m: 'dict' object has no attribute 'iteritem'"
     ]
    }
   ],
   "source": [
    "# python code to demonstrate working of iteritems(),items() \n",
    "\n",
    "d = { \"geeks\" : \"for\", \"only\" : \"geeks\" } \n",
    "\n",
    "# using iteritems to print the dictionary key-value pair \n",
    "print (\"The key value pair using iteritems is : \") \n",
    "for i,j in d.iteritem(): \n",
    "\tprint ( i,j )\n",
    "\t\n",
    "# using items to print the dictionary key-value pair \n",
    "print (\"The key value pair using items is : \") \n",
    "for i,j in d.items(): \n",
    "\tprint (i,j )\n"
   ]
  },
  {
   "cell_type": "code",
   "execution_count": 177,
   "metadata": {},
   "outputs": [
    {
     "name": "stdout",
     "output_type": "stream",
     "text": [
      "The list in sorted order is : \n",
      "1 1 2 3 3 5 6 \r\n",
      "The list in sorted order (without duplicates) is : \n",
      "1 2 3 5 6 "
     ]
    }
   ],
   "source": [
    "# python code to demonstrate working of sorted() \n",
    "\n",
    "# initializing list \n",
    "lis = [ 1 , 3, 5, 6, 2, 1, 3 ] \n",
    "\n",
    "# using sorted() to print the list in sorted order \n",
    "print (\"The list in sorted order is : \") \n",
    "for i in sorted(lis) : \n",
    "\tprint (i,end=\" \") \n",
    "\t\n",
    "print (\"\\r\") \n",
    "\t\n",
    "# using sorted() and set() to print the list in sorted order \n",
    "# use of set() removes duplicates. \n",
    "print (\"The list in sorted order (without duplicates) is : \") \n",
    "for i in sorted(set(lis)) : \n",
    "\tprint (i,end=\" \") \n"
   ]
  },
  {
   "cell_type": "code",
   "execution_count": 178,
   "metadata": {},
   "outputs": [
    {
     "name": "stdout",
     "output_type": "stream",
     "text": [
      "apple\n",
      "banana\n",
      "grape\n",
      "guava\n",
      "guave\n",
      "orange\n",
      "pear\n"
     ]
    }
   ],
   "source": [
    "# python code to demonstrate working of sorted() \n",
    "\n",
    "# initializing list \n",
    "basket = ['guave', 'orange', 'apple', 'pear', \n",
    "\t\t'guava', 'banana', 'grape'] \n",
    "\n",
    "# using sorted() and set() to print the list \n",
    "# in sorted order \n",
    "for fruit in sorted(set(basket)): \n",
    "\tprint(fruit) \n"
   ]
  },
  {
   "cell_type": "markdown",
   "metadata": {},
   "source": [
    "#### Python does not have Switch Case , as a replacement dict is used\n"
   ]
  },
  {
   "cell_type": "code",
   "execution_count": 181,
   "metadata": {},
   "outputs": [
    {
     "name": "stdout",
     "output_type": "stream",
     "text": [
      "zero\n"
     ]
    }
   ],
   "source": [
    "# Function to convert number into string \n",
    "# Switcher is dictionary data type here \n",
    "def numbers_to_strings(argument): \n",
    "\tswitcher = { \n",
    "\t\t0: \"zero\", \n",
    "\t\t1: \"one\", \n",
    "\t\t2: \"two\", \n",
    "\t} \n",
    "\n",
    "\t# get() method of dictionary data type returns \n",
    "\t# value of passed argument if it is present \n",
    "\t# in dictionary otherwise second argument will \n",
    "\t# be assigned as default value of passed argument \n",
    "\treturn switcher.get(argument, \"nothing\") \n",
    "\n",
    "# Driver program \n",
    "if __name__ == \"__main__\": \n",
    "\targument=0\n",
    "\tprint ( numbers_to_strings(argument)  )\n"
   ]
  },
  {
   "cell_type": "markdown",
   "metadata": {},
   "source": [
    "#### When to use yield instead of return in Python?"
   ]
  },
  {
   "cell_type": "code",
   "execution_count": 182,
   "metadata": {},
   "outputs": [
    {
     "name": "stdout",
     "output_type": "stream",
     "text": [
      "1\n",
      "2\n",
      "3\n"
     ]
    }
   ],
   "source": [
    "# A Simple Python program to demonstrate working \n",
    "# of yield \n",
    "\n",
    "# A generator function that yields 1 for the first time, \n",
    "# 2 second time and 3 third time \n",
    "def simpleGeneratorFun(): \n",
    "\tyield 1\n",
    "\tyield 2\n",
    "\tyield 3\n",
    "\n",
    "# Driver code to check above generator function \n",
    "for value in simpleGeneratorFun(): \n",
    "\tprint(value) \n"
   ]
  },
  {
   "cell_type": "code",
   "execution_count": 183,
   "metadata": {},
   "outputs": [
    {
     "name": "stdout",
     "output_type": "stream",
     "text": [
      "1\n",
      "4\n",
      "9\n",
      "16\n",
      "25\n",
      "36\n",
      "49\n",
      "64\n",
      "81\n",
      "100\n"
     ]
    }
   ],
   "source": [
    "# A Python program to generate squares from 1 \n",
    "# to 100 using yield and therefore generator \n",
    "\n",
    "# An infinite generator function that prints \n",
    "# next square number. It starts with 1 \n",
    "def nextSquare(): \n",
    "\ti = 1; \n",
    "\n",
    "\t# An Infinite loop to generate squares \n",
    "\twhile True: \n",
    "\t\tyield i*i\t\t\t\t \n",
    "\t\ti += 1 # Next execution resumes \n",
    "\t\t\t\t# from this point\t \n",
    "\n",
    "# Driver code to test above generator \n",
    "# function \n",
    "for num in nextSquare(): \n",
    "\tif num > 100: \n",
    "\t\tbreak\t\n",
    "\tprint(num) \n"
   ]
  },
  {
   "cell_type": "markdown",
   "metadata": {},
   "source": [
    "#### Generator-Function \n",
    "\n",
    "A generator-function is defined like a normal function, but whenever it needs to generate a value, it does so with the yield keyword rather than return. If the body of a def contains yield, the function automatically becomes a generator function."
   ]
  },
  {
   "cell_type": "markdown",
   "metadata": {},
   "source": [
    "# Functions in Python"
   ]
  },
  {
   "cell_type": "code",
   "execution_count": 186,
   "metadata": {},
   "outputs": [
    {
     "name": "stdout",
     "output_type": "stream",
     "text": [
      "even\n",
      "odd\n"
     ]
    }
   ],
   "source": [
    "# A simple Python function to check \n",
    "# whether x is even or odd \n",
    "def evenOdd( x ): \n",
    "\tif (x % 2 == 0): \n",
    "\t\tprint (\"even\")\n",
    "\telse: \n",
    "\t\tprint (\"odd\")\n",
    "\n",
    "# Driver code \n",
    "evenOdd(2) \n",
    "evenOdd(3) \n",
    "\n"
   ]
  },
  {
   "cell_type": "markdown",
   "metadata": {},
   "source": [
    "When we pass a variable to a function, a new reference to the object is created. Parameter passing in Python is same as reference passing in Java."
   ]
  },
  {
   "cell_type": "code",
   "execution_count": 188,
   "metadata": {},
   "outputs": [
    {
     "name": "stdout",
     "output_type": "stream",
     "text": [
      "[20, 11, 12, 13, 14, 15]\n"
     ]
    }
   ],
   "source": [
    "# Here x is a new reference to same list lst \n",
    "def myFun(x): \n",
    "    x[0] = 20\n",
    "\n",
    "# Driver Code (Note that lst is modified \n",
    "# after function call. \n",
    "lst = [10, 11, 12, 13, 14, 15] \n",
    "myFun(lst); \n",
    "print(lst) \n"
   ]
  },
  {
   "cell_type": "markdown",
   "metadata": {},
   "source": [
    "When we pass a reference and change the received reference to something else, the connection between passed and received parameter is broken"
   ]
  },
  {
   "cell_type": "code",
   "execution_count": 190,
   "metadata": {},
   "outputs": [
    {
     "name": "stdout",
     "output_type": "stream",
     "text": [
      "[10, 11, 12, 13, 14, 15]\n"
     ]
    }
   ],
   "source": [
    "def myFun(x): \n",
    "\n",
    "# After below line link of x with previous \n",
    "# object gets broken. A new object is assigned \n",
    "# to x. \n",
    "    x = [20, 30, 40] \n",
    "\n",
    "# Driver Code (Note that lst is not modified \n",
    "# after function call. \n",
    "lst = [10, 11, 12, 13, 14, 15] \n",
    "myFun(lst); \n",
    "print(lst) \n"
   ]
  },
  {
   "cell_type": "code",
   "execution_count": 191,
   "metadata": {},
   "outputs": [
    {
     "name": "stdout",
     "output_type": "stream",
     "text": [
      "2\n",
      "3\n"
     ]
    }
   ],
   "source": [
    "def swap(x, y): \n",
    "\ttemp = x; \n",
    "\tx = y; \n",
    "\ty = temp; \n",
    "\n",
    "# Driver code \n",
    "x = 2\n",
    "y = 3\n",
    "swap(x, y) \n",
    "print(x) \n",
    "print(y) \n"
   ]
  },
  {
   "cell_type": "markdown",
   "metadata": {},
   "source": [
    "Default arguments:"
   ]
  },
  {
   "cell_type": "code",
   "execution_count": 192,
   "metadata": {},
   "outputs": [
    {
     "name": "stdout",
     "output_type": "stream",
     "text": [
      "x:  10\n",
      "y:  50\n"
     ]
    }
   ],
   "source": [
    "# Python program to demonstrate \n",
    "# default arguments \n",
    "def myFun(x, y=50): \n",
    "\tprint(\"x: \", x) \n",
    "\tprint(\"y: \", y) \n",
    "\n",
    "# Driver code (We call myFun() with only \n",
    "# argument) \n",
    "myFun(10) \n"
   ]
  },
  {
   "cell_type": "markdown",
   "metadata": {},
   "source": [
    "#### Keyword arguments:\n",
    "The idea is to allow caller to specify argument name with values so that caller does not need to remember order of parameters."
   ]
  },
  {
   "cell_type": "code",
   "execution_count": 193,
   "metadata": {},
   "outputs": [
    {
     "name": "stdout",
     "output_type": "stream",
     "text": [
      "Geeks Practice\n",
      "Geeks Practice\n"
     ]
    }
   ],
   "source": [
    "# Python program to demonstrate Keyword Arguments \n",
    "def student(firstname, lastname): \n",
    "\tprint(firstname, lastname) \n",
    "\t\n",
    "\t\n",
    "# Keyword arguments\t\t\t\t \n",
    "student(firstname ='Geeks', lastname ='Practice')\t \n",
    "student(lastname ='Practice', firstname ='Geeks') \n"
   ]
  },
  {
   "cell_type": "markdown",
   "metadata": {},
   "source": [
    "Variable length arguments:"
   ]
  },
  {
   "cell_type": "code",
   "execution_count": 194,
   "metadata": {},
   "outputs": [
    {
     "name": "stdout",
     "output_type": "stream",
     "text": [
      "Hello\n",
      "Welcome\n",
      "to\n",
      "GeeksforGeeks\n"
     ]
    }
   ],
   "source": [
    "# Python program to illustrate \n",
    "# *args for variable number of arguments \n",
    "def myFun(*argv): \n",
    "\tfor arg in argv: \n",
    "\t\tprint (arg) \n",
    "\t\n",
    "myFun('Hello', 'Welcome', 'to', 'GeeksforGeeks') \n"
   ]
  },
  {
   "cell_type": "code",
   "execution_count": 195,
   "metadata": {},
   "outputs": [
    {
     "name": "stdout",
     "output_type": "stream",
     "text": [
      "first == Geeks\n",
      "mid == for\n",
      "last == Geeks\n"
     ]
    }
   ],
   "source": [
    "# Python program to illustrate \n",
    "# *kargs for variable number of keyword arguments \n",
    "\n",
    "def myFun(**kwargs): \n",
    "\tfor key, value in kwargs.items(): \n",
    "\t\tprint (\"%s == %s\" %(key, value)) \n",
    "\n",
    "# Driver code \n",
    "myFun(first ='Geeks', mid ='for', last='Geeks')\t \n"
   ]
  },
  {
   "cell_type": "markdown",
   "metadata": {},
   "source": [
    "#### Python lambda (Anonymous Functions):\n",
    "\n",
    "In Python, anonymous function means that a function is without a name\n",
    "\n",
    "####                                 lambda arguments: expression"
   ]
  },
  {
   "cell_type": "code",
   "execution_count": 197,
   "metadata": {},
   "outputs": [
    {
     "name": "stdout",
     "output_type": "stream",
     "text": [
      "343\n",
      "125\n"
     ]
    }
   ],
   "source": [
    "# Python code to illustrate cube of a number \n",
    "# showing difference between def() and lambda(). \n",
    "def cube(y): \n",
    "\treturn y*y*y; \n",
    "\n",
    "g = lambda x: x*x*x \n",
    "print(g(7)) \n",
    "\n",
    "print(cube(5)) \n"
   ]
  },
  {
   "cell_type": "code",
   "execution_count": 208,
   "metadata": {},
   "outputs": [
    {
     "name": "stdout",
     "output_type": "stream",
     "text": [
      "[5, 7, 97, 77, 23, 73, 61]\n"
     ]
    }
   ],
   "source": [
    "# Python code to illustrate \n",
    "# filter() with lambda() \n",
    "\n",
    "del list  # clean list variable \n",
    "li = [5, 7, 22, 97, 54, 62, 77, 23, 73, 61] \n",
    "final_list = list(filter(lambda x: (x%2 != 0) , li))\n",
    "print(final_list) \n"
   ]
  },
  {
   "cell_type": "code",
   "execution_count": 205,
   "metadata": {},
   "outputs": [
    {
     "name": "stdout",
     "output_type": "stream",
     "text": [
      "[10, 14, 44, 194, 108, 124, 154, 46, 146, 122]\n"
     ]
    }
   ],
   "source": [
    "# Python code to illustrate \n",
    "# map() with lambda() \n",
    "# to get double of a list. \n",
    "li = [5, 7, 22, 97, 54, 62, 77, 23, 73, 61] \n",
    "final_list = list(map(lambda x: x*2 , li)) \n",
    "print(final_list) \n"
   ]
  },
  {
   "cell_type": "code",
   "execution_count": 209,
   "metadata": {},
   "outputs": [
    {
     "name": "stdout",
     "output_type": "stream",
     "text": [
      "193\n"
     ]
    }
   ],
   "source": [
    "# Python code to illustrate \n",
    "# reduce() with lambda() \n",
    "# to get sum of a list \n",
    "from functools import reduce\n",
    "li = [5, 8, 10, 20, 50, 100] \n",
    "sum = reduce((lambda x, y: x + y), li) \n",
    "print (sum) \n"
   ]
  },
  {
   "cell_type": "markdown",
   "metadata": {},
   "source": [
    "#### class method vs static method in Python"
   ]
  },
  {
   "cell_type": "markdown",
   "metadata": {},
   "source": [
    "A class method is a method which is bound to the class and not the object of the class.\n",
    "\n",
    "They have the access to the state of the class as it takes a class parameter that points to the class and not the object instance.\n",
    "\n",
    "It can modify a class state that would apply across all the instances of the class. For example it can modify a class variable that will be applicable to all the instances.\n",
    "\n",
    "A class method receives the class as implicit first argument, just like an instance method receives the instance"
   ]
  },
  {
   "cell_type": "code",
   "execution_count": null,
   "metadata": {},
   "outputs": [],
   "source": [
    "class C(object):\n",
    "    @classmethod\n",
    "    def fun(cls, arg1, arg2, ...):\n",
    "       ....\n",
    "fun: function that needs to be converted into a class method\n",
    "returns: a class method for function."
   ]
  },
  {
   "cell_type": "markdown",
   "metadata": {},
   "source": [
    "A static method does not receive an implicit first argument.\n",
    "\n",
    "A static method is also a method which is bound to the class and not the object of the class.\n",
    "\n",
    "A static method can’t access or modify class state.\n",
    "\n",
    "It is present in a class because it makes sense for the method to be present in class."
   ]
  },
  {
   "cell_type": "code",
   "execution_count": null,
   "metadata": {},
   "outputs": [],
   "source": [
    "class C(object):\n",
    "    @staticmethod\n",
    "    def fun(arg1, arg2, ...):\n",
    "        ...\n",
    "returns: a static method for function fun."
   ]
  },
  {
   "cell_type": "markdown",
   "metadata": {},
   "source": [
    "##### Class method vs Static Method\n",
    "\n",
    "A class method takes cls as first parameter while a static method needs no specific parameters.\n",
    "\n",
    "A class method can access or modify class state while a static method can’t access or modify it.\n",
    "\n",
    "In general, static methods know nothing about class state. They are utility type methods that take some parameters and work upon those parameters. On the other hand class methods must have class as parameter.\n",
    "\n",
    "We use @classmethod decorator in python to create a class method and we use @staticmethod decorator to create a static method in python."
   ]
  },
  {
   "cell_type": "markdown",
   "metadata": {},
   "source": [
    "#### When to use what?\n",
    "We generally use class method to create factory methods. Factory methods return class object ( similar to a constructor ) for different use cases.\n",
    "\n",
    "We generally use static methods to create utility functions."
   ]
  },
  {
   "cell_type": "code",
   "execution_count": 214,
   "metadata": {},
   "outputs": [
    {
     "name": "stdout",
     "output_type": "stream",
     "text": [
      "21\n",
      "24\n",
      "True\n"
     ]
    }
   ],
   "source": [
    "# Python program to demonstrate \n",
    "# use of class method and static method. \n",
    "from datetime import date \n",
    "\n",
    "class Person: \n",
    "\tdef __init__(self, name, age): \n",
    "\t\tself.name = name \n",
    "\t\tself.age = age \n",
    "\t\n",
    "\t# a class method to create a Person object by birth year. \n",
    "\t@classmethod\n",
    "\tdef fromBirthYear(cls, name, year): \n",
    "\t\treturn cls(name, date.today().year - year) \n",
    "\t\n",
    "\t# a static method to check if a Person is adult or not. \n",
    "\t@staticmethod\n",
    "\tdef isAdult(age): \n",
    "\t\treturn age > 18\n",
    "\n",
    "person1 = Person('mayank', 21) \n",
    "person2 = Person.fromBirthYear('mayank', 1996) \n",
    "\n",
    "print (person1.age )\n",
    "print  ( person2.age )\n",
    "\n",
    "# print the result \n",
    "print (Person.isAdult(22) )\n"
   ]
  },
  {
   "cell_type": "markdown",
   "metadata": {},
   "source": [
    "#### Empty Function"
   ]
  },
  {
   "cell_type": "code",
   "execution_count": null,
   "metadata": {},
   "outputs": [],
   "source": [
    "# Correct way of writing empty function \n",
    "# in Python \n",
    "def fun(): \n",
    "\tpass\n"
   ]
  },
  {
   "cell_type": "markdown",
   "metadata": {},
   "source": [
    "#### Returning Multiple Values in Python"
   ]
  },
  {
   "cell_type": "markdown",
   "metadata": {},
   "source": [
    "#### 1) Using Object:"
   ]
  },
  {
   "cell_type": "code",
   "execution_count": 215,
   "metadata": {},
   "outputs": [
    {
     "name": "stdout",
     "output_type": "stream",
     "text": [
      "geeksforgeeks\n",
      "20\n"
     ]
    }
   ],
   "source": [
    "# A Python program to return multiple \n",
    "# values from a method using class \n",
    "class Test: \n",
    "\tdef __init__(self): \n",
    "\t\tself.str = \"geeksforgeeks\"\n",
    "\t\tself.x = 20\n",
    "\n",
    "# This function returns an object of Test \n",
    "def fun(): \n",
    "\treturn Test() \n",
    "\t\n",
    "# Driver code to test above method \n",
    "t = fun() \n",
    "print(t.str) \n",
    "print(t.x) \n"
   ]
  },
  {
   "cell_type": "markdown",
   "metadata": {},
   "source": [
    "#### 2) Using Tuple: "
   ]
  },
  {
   "cell_type": "code",
   "execution_count": 216,
   "metadata": {},
   "outputs": [
    {
     "name": "stdout",
     "output_type": "stream",
     "text": [
      "geeksforgeeks\n",
      "20\n"
     ]
    }
   ],
   "source": [
    "# A Python program to return multiple \n",
    "# values from a method using tuple \n",
    "\n",
    "# This function returns a tuple \n",
    "def fun(): \n",
    "\tstr = \"geeksforgeeks\"\n",
    "\tx = 20\n",
    "\treturn str, x; # Return tuple, we could also \n",
    "\t\t\t\t\t# write (str, x) \n",
    "\n",
    "# Driver code to test above method \n",
    "str, x = fun() # Assign returned tuple \n",
    "print(str) \n",
    "print(x) \n"
   ]
  },
  {
   "cell_type": "markdown",
   "metadata": {},
   "source": [
    "#### 3) Using a list"
   ]
  },
  {
   "cell_type": "code",
   "execution_count": 217,
   "metadata": {},
   "outputs": [
    {
     "name": "stdout",
     "output_type": "stream",
     "text": [
      "['geeksforgeeks', 20]\n"
     ]
    }
   ],
   "source": [
    "# A Python program to return multiple \n",
    "# values from a method using list \n",
    "\n",
    "# This function returns a list \n",
    "def fun(): \n",
    "\tstr = \"geeksforgeeks\"\n",
    "\tx = 20\n",
    "\treturn [str, x]; \n",
    "\n",
    "# Driver code to test above method \n",
    "list = fun() \n",
    "print(list) \n"
   ]
  },
  {
   "cell_type": "markdown",
   "metadata": {},
   "source": [
    "#### 4) Using a Dictionary: "
   ]
  },
  {
   "cell_type": "code",
   "execution_count": 218,
   "metadata": {},
   "outputs": [
    {
     "name": "stdout",
     "output_type": "stream",
     "text": [
      "{'str': 'GeeksforGeeks', 'x': 20}\n"
     ]
    }
   ],
   "source": [
    "# A Python program to return multiple \n",
    "# values from a method using dictionary \n",
    "\n",
    "# This function returns a dictionary \n",
    "def fun(): \n",
    "\td = dict(); \n",
    "\td['str'] = \"GeeksforGeeks\"\n",
    "\td['x'] = 20\n",
    "\treturn d \n",
    "\n",
    "# Driver code to test above method \n",
    "d = fun() \n",
    "print(d) \n"
   ]
  },
  {
   "cell_type": "markdown",
   "metadata": {},
   "source": [
    "#### Partial Functions in Python"
   ]
  },
  {
   "cell_type": "code",
   "execution_count": 219,
   "metadata": {},
   "outputs": [
    {
     "name": "stdout",
     "output_type": "stream",
     "text": [
      "3145\n"
     ]
    }
   ],
   "source": [
    "from functools import partial \n",
    "\n",
    "# A normal function \n",
    "def f(a, b, c, x): \n",
    "\treturn 1000*a + 100*b + 10*c + x \n",
    "\n",
    "# A partial function that calls f with \n",
    "# a as 3, b as 1 and c as 4. \n",
    "g = partial(f, 3, 1, 4) \n",
    "\n",
    "# Calling g() \n",
    "print(g(5)) \n"
   ]
  },
  {
   "cell_type": "markdown",
   "metadata": {},
   "source": [
    "#### First Class functions in Python"
   ]
  },
  {
   "cell_type": "markdown",
   "metadata": {},
   "source": [
    "First class objects in a language are handled uniformly throughout. They may be stored in data structures, passed as arguments, or used in control structures. A programming language is said to support first-class functions if it treats functions as first-class objects. Python supports the concept of First Class functions.\n",
    "\n",
    "Properties of first class functions:\n",
    "\n",
    "A function is an instance of the Object type.\n",
    "\n",
    "You can store the function in a variable.\n",
    "\n",
    "You can pass the function as a parameter to another function.\n",
    "\n",
    "You can return the function from a function.\n",
    "\n",
    "You can store them in data structures such as hash tables, lists, …"
   ]
  },
  {
   "cell_type": "code",
   "execution_count": 222,
   "metadata": {},
   "outputs": [
    {
     "name": "stdout",
     "output_type": "stream",
     "text": [
      "HELLO\n",
      "HELLO\n"
     ]
    }
   ],
   "source": [
    "# Python program to illustrate functions \n",
    "# can be treated as objects \n",
    "def shout(text): \n",
    "\treturn text.upper() \n",
    "\n",
    "print (shout('Hello') )\n",
    "\n",
    "yell = shout \n",
    "\n",
    "print (yell('Hello') )\n"
   ]
  },
  {
   "cell_type": "code",
   "execution_count": 224,
   "metadata": {},
   "outputs": [
    {
     "name": "stdout",
     "output_type": "stream",
     "text": [
      "HI, I AM CREATED BY A FUNCTION PASSED AS AN ARGUMENT.\n",
      "hi, i am created by a function passed as an argument.\n"
     ]
    }
   ],
   "source": [
    "# Python program to illustrate functions \n",
    "# can be passed as arguments to other functions \n",
    "def shout(text): \n",
    "\treturn text.upper() \n",
    "\n",
    "def whisper(text): \n",
    "\treturn text.lower() \n",
    "\n",
    "def greet(func): \n",
    "\t# storing the function in a variable \n",
    "\tgreeting = func(\"Hi, I am created by a function passed as an argument.\") \n",
    "\tprint (greeting )\n",
    "\n",
    "greet(shout) \n",
    "greet(whisper) \n"
   ]
  },
  {
   "cell_type": "code",
   "execution_count": 226,
   "metadata": {},
   "outputs": [
    {
     "name": "stdout",
     "output_type": "stream",
     "text": [
      "25\n"
     ]
    }
   ],
   "source": [
    "# Python program to illustrate functions \n",
    "# Functions can return another function \n",
    "\n",
    "def create_adder(x): \n",
    "\tdef adder(y): \n",
    "\t\treturn x+y \n",
    "\n",
    "\treturn adder \n",
    "\n",
    "add_15 = create_adder(15) \n",
    "\n",
    "print (add_15(10) )\n"
   ]
  },
  {
   "cell_type": "markdown",
   "metadata": {},
   "source": [
    "#### Precision Handling in Python"
   ]
  },
  {
   "cell_type": "code",
   "execution_count": 227,
   "metadata": {},
   "outputs": [
    {
     "name": "stdout",
     "output_type": "stream",
     "text": [
      "The integral value of number is : 3\n",
      "The smallest integer greater than number is : 4\n",
      "The greatest integer smaller than number is : 3\n"
     ]
    }
   ],
   "source": [
    "# Python code to demonstrate ceil(), trunc() \n",
    "# and floor() \n",
    "\n",
    "# importing \"math\" for precision function \n",
    "import math \n",
    "\n",
    "# initializing value \n",
    "a = 3.4536\n",
    "\n",
    "# using trunc() to print integer after truncating \n",
    "print (\"The integral value of number is : \",end=\"\") \n",
    "print (math.trunc(a)) \n",
    "\n",
    "# using ceil() to print number after ceiling \n",
    "print (\"The smallest integer greater than number is : \",end=\"\") \n",
    "print (math.ceil(a)) \n",
    "\n",
    "# using floor() to print number after flooring \n",
    "print (\"The greatest integer smaller than number is : \",end=\"\") \n",
    "print (math.floor(a)) \n"
   ]
  },
  {
   "cell_type": "code",
   "execution_count": 228,
   "metadata": {},
   "outputs": [
    {
     "name": "stdout",
     "output_type": "stream",
     "text": [
      "The value of number till 2 decimal place(using %) is : 3.45\n",
      "The value of number till 2 decimal place(using format()) is : 3.45\n",
      "The value of number till 2 decimal place(using round()) is : 3.45\n"
     ]
    }
   ],
   "source": [
    "# Python code to demonstrate precision \n",
    "# and round() \n",
    "\n",
    "# initializing value \n",
    "a = 3.4536\n",
    "\n",
    "# using \"%\" to print value till 2 decimal places \n",
    "print (\"The value of number till 2 decimal place(using %) is : \",end=\"\") \n",
    "print ('%.2f'%a) \n",
    "\n",
    "# using format() to print value till 2 decimal places \n",
    "print (\"The value of number till 2 decimal place(using format()) is : \",end=\"\") \n",
    "print (\"{0:.2f}\".format(a)) \n",
    "\n",
    "# using round() to print value till 2 decimal places \n",
    "print (\"The value of number till 2 decimal place(using round()) is : \",end=\"\") \n",
    "print (round(a,2)) \n"
   ]
  },
  {
   "cell_type": "markdown",
   "metadata": {},
   "source": [
    "#### Function Decorators in Python \n",
    "\n",
    "In Python, we can define a function inside another function.\n",
    "\n",
    "In Python, a function can be passed as parameter to another function (a function can also return another function).\n",
    "\n",
    "A decorator is a function that takes a function as its only parameter and returns a function. This is helpful to “wrap” functionality with the same code over and over again. For example, above code can be re-written as following.\n",
    "\n",
    "We use @func_name to specify a decorator to be applied on another function.\n"
   ]
  },
  {
   "cell_type": "code",
   "execution_count": 231,
   "metadata": {},
   "outputs": [
    {
     "name": "stdout",
     "output_type": "stream",
     "text": [
      "Welcome to GeeksforGeeks\n"
     ]
    }
   ],
   "source": [
    "# Adds a welcome message to the string \n",
    "# returned by fun(). Takes fun() as \n",
    "# parameter and returns welcome(). \n",
    "def decorate_message(fun): \n",
    "\n",
    "\t# Nested function \n",
    "\tdef addWelcome(site_name): \n",
    "\t\treturn \"Welcome to \" + fun(site_name) \n",
    "\n",
    "\t# Decorator returns a function \n",
    "\treturn addWelcome \n",
    "\n",
    "@decorate_message\n",
    "def site(site_name): \n",
    "\treturn site_name; \n",
    "\n",
    "# Driver code \n",
    "\n",
    "# This call is equivalent to call to \n",
    "# decorate_message() with function \n",
    "# site(\"GeeksforGeeks\") as parameter \n",
    "print  ( site(\"GeeksforGeeks\") )\n"
   ]
  },
  {
   "cell_type": "code",
   "execution_count": 232,
   "metadata": {},
   "outputs": [
    {
     "name": "stdout",
     "output_type": "stream",
     "text": [
      "5\n",
      "3\n"
     ]
    }
   ],
   "source": [
    "# A Python example to demonstrate that \n",
    "# decorators can be useful attach data \n",
    "\n",
    "# A decorator function to attach \n",
    "# data to func \n",
    "def attach_data(func): \n",
    "\tfunc.data = 3\n",
    "\treturn func \n",
    "\n",
    "@attach_data\n",
    "def add (x, y): \n",
    "\treturn x + y \n",
    "\n",
    "# Driver code \n",
    "\n",
    "# This call is equivalent to attach_data() \n",
    "# with add() as parameter \n",
    "print(add(2, 3)) \n",
    "\n",
    "print(add.data) \n"
   ]
  },
  {
   "cell_type": "code",
   "execution_count": 234,
   "metadata": {},
   "outputs": [
    {
     "name": "stdout",
     "output_type": "stream",
     "text": [
      "<range_iterator object at 0x7f38feef42a0>\n",
      "0 1 2\n"
     ]
    }
   ],
   "source": [
    "# Python program to understand range \n",
    "\n",
    "# creates an iterator \n",
    "demo = iter(range(6)) \n",
    "\n",
    "# print iterator \n",
    "print(demo) \n",
    "\n",
    "# use next \n",
    "print(next(demo),next(demo),next(demo)) \n"
   ]
  },
  {
   "cell_type": "markdown",
   "metadata": {},
   "source": [
    "### Object Oriented Programming in Python | Set 1 (Class, Object and Members)"
   ]
  },
  {
   "cell_type": "code",
   "execution_count": 235,
   "metadata": {},
   "outputs": [
    {
     "name": "stdout",
     "output_type": "stream",
     "text": [
      "Hello\n"
     ]
    }
   ],
   "source": [
    "# A simple example class \n",
    "class Test: \n",
    "\t\n",
    "\t# A sample method \n",
    "\tdef fun(self): \n",
    "\t\tprint(\"Hello\") \n",
    "\n",
    "# Driver code \n",
    "obj = Test() \n",
    "obj.fun() \n"
   ]
  },
  {
   "cell_type": "markdown",
   "metadata": {},
   "source": [
    "#### The self\n",
    "\n",
    "Class methods must have an extra first parameter in method definition.\n",
    "\n",
    "We do not give a value for this parameter when we call the method, Python provides it\n",
    "\n",
    "If we have a method which takes no arguments, then we still have to have one argument – the self. \n",
    "\n",
    "This is similar to this pointer in C++ and this reference in Java.\n",
    "\n",
    "When we call a method of this object as myobject.method(arg1, arg2), this is automatically converted by Python into MyClass.method(myobject, arg1, arg2) – this is all the special self is about.\n",
    "\n"
   ]
  },
  {
   "cell_type": "markdown",
   "metadata": {},
   "source": [
    "#### The __init__ method\n",
    "The __init__ method is similar to constructors in C++ and Java. "
   ]
  },
  {
   "cell_type": "code",
   "execution_count": 236,
   "metadata": {},
   "outputs": [
    {
     "name": "stdout",
     "output_type": "stream",
     "text": [
      "Hello, my name is Shwetanshu\n"
     ]
    }
   ],
   "source": [
    "# A Sample class with init method \n",
    "class Person: \n",
    "\n",
    "\t# init method or constructor \n",
    "\tdef __init__(self, name): \n",
    "\t\tself.name = name \n",
    "\n",
    "\t# Sample Method \n",
    "\tdef say_hi(self): \n",
    "\t\tprint('Hello, my name is', self.name) \n",
    "\n",
    "p = Person('Shwetanshu') \n",
    "p.say_hi() \n"
   ]
  },
  {
   "cell_type": "markdown",
   "metadata": {},
   "source": [
    "#### Class and Instance Variables (Or attributes)\n",
    "\n",
    "instance variables are variables whose value is assigned inside a constructor or method with self.\n",
    "\n",
    "Class variables are variables whose value is assigned in class.\n",
    "\n",
    "\n"
   ]
  },
  {
   "cell_type": "code",
   "execution_count": 237,
   "metadata": {},
   "outputs": [
    {
     "name": "stdout",
     "output_type": "stream",
     "text": [
      "cse\n",
      "cse\n",
      "101\n",
      "cse\n"
     ]
    }
   ],
   "source": [
    "# Python program to show that the variables with a value \n",
    "# assigned in class declaration, are class variables and \n",
    "# variables inside methods and constructors are instance \n",
    "# variables. \n",
    "\n",
    "# Class for Computer Science Student \n",
    "class CSStudent: \n",
    "\n",
    "\t# Class Variable \n",
    "\tstream = 'cse'\t\t\t\n",
    "\n",
    "\t# The init method or constructor \n",
    "\tdef __init__(self, roll): \n",
    "\t\n",
    "\t\t# Instance Variable\t \n",
    "\t\tself.roll = roll\t \n",
    "\n",
    "# Objects of CSStudent class \n",
    "a = CSStudent(101) \n",
    "b = CSStudent(102) \n",
    "\n",
    "print(a.stream) # prints \"cse\" \n",
    "print(b.stream) # prints \"cse\" \n",
    "print(a.roll) # prints 101 \n",
    "\n",
    "# Class variables can be accessed using class \n",
    "# name also \n",
    "print(CSStudent.stream) # prints \"cse\"\t \n"
   ]
  },
  {
   "cell_type": "code",
   "execution_count": 238,
   "metadata": {},
   "outputs": [
    {
     "name": "stdout",
     "output_type": "stream",
     "text": [
      "Noida, UP\n"
     ]
    }
   ],
   "source": [
    "# Python program to show that we can create \n",
    "# instance variables inside methods \n",
    "\n",
    "# Class for Computer Science Student \n",
    "class CSStudent: \n",
    "\t\n",
    "\t# Class Variable \n",
    "\tstream = 'cse'\t\n",
    "\t\n",
    "\t# The init method or constructor \n",
    "\tdef __init__(self, roll): \n",
    "\t\t\n",
    "\t\t# Instance Variable \n",
    "\t\tself.roll = roll\t\t\t \n",
    "\n",
    "\t# Adds an instance variable \n",
    "\tdef setAddress(self, address): \n",
    "\t\tself.address = address \n",
    "\t\n",
    "\t# Retrieves instance variable\t \n",
    "\tdef getAddress(self):\t \n",
    "\t\treturn self.address \n",
    "\n",
    "# Driver Code \n",
    "a = CSStudent(101) \n",
    "a.setAddress(\"Noida, UP\") \n",
    "print(a.getAddress()) \n"
   ]
  },
  {
   "cell_type": "markdown",
   "metadata": {},
   "source": [
    "####  Object Oriented Programming in Python | Set 2 (Data Hiding and Object Printing)"
   ]
  },
  {
   "cell_type": "markdown",
   "metadata": {},
   "source": [
    "#### Data hiding\n",
    "In Python, we use double underscore (Or __) before the attributes name and those attributes will not be directly visible outside."
   ]
  },
  {
   "cell_type": "code",
   "execution_count": 240,
   "metadata": {},
   "outputs": [
    {
     "name": "stdout",
     "output_type": "stream",
     "text": [
      "2\n",
      "7\n"
     ]
    },
    {
     "ename": "AttributeError",
     "evalue": "'MyClass' object has no attribute '__hiddenVariable'",
     "output_type": "error",
     "traceback": [
      "\u001b[0;31m---------------------------------------------------------------------------\u001b[0m",
      "\u001b[0;31mAttributeError\u001b[0m                            Traceback (most recent call last)",
      "\u001b[0;32m<ipython-input-240-5acccf4041e5>\u001b[0m in \u001b[0;36m<module>\u001b[0;34m\u001b[0m\n\u001b[1;32m     16\u001b[0m \u001b[0;34m\u001b[0m\u001b[0m\n\u001b[1;32m     17\u001b[0m \u001b[0;31m# This line causes error\u001b[0m\u001b[0;34m\u001b[0m\u001b[0;34m\u001b[0m\u001b[0;34m\u001b[0m\u001b[0m\n\u001b[0;32m---> 18\u001b[0;31m \u001b[0mprint\u001b[0m \u001b[0;34m(\u001b[0m\u001b[0mmyObject\u001b[0m\u001b[0;34m.\u001b[0m\u001b[0m__hiddenVariable\u001b[0m\u001b[0;34m)\u001b[0m\u001b[0;34m\u001b[0m\u001b[0;34m\u001b[0m\u001b[0m\n\u001b[0m",
      "\u001b[0;31mAttributeError\u001b[0m: 'MyClass' object has no attribute '__hiddenVariable'"
     ]
    }
   ],
   "source": [
    "class MyClass: \n",
    "\n",
    "\t# Hidden member of MyClass \n",
    "\t__hiddenVariable = 0\n",
    "\t\n",
    "\t# A member method that changes \n",
    "\t# __hiddenVariable \n",
    "\tdef add(self, increment): \n",
    "\t\tself.__hiddenVariable += increment \n",
    "\t\tprint (self.__hiddenVariable) \n",
    "\n",
    "# Driver code \n",
    "myObject = MyClass()\t \n",
    "myObject.add(2) \n",
    "myObject.add(5) \n",
    "\n",
    "# This line causes error \n",
    "print (myObject.__hiddenVariable) \n"
   ]
  },
  {
   "cell_type": "markdown",
   "metadata": {},
   "source": [
    "##### Private methods are accessible outside their class, just not easily accessible. Nothing in Python is truly private; internally, the names of private methods and attributes are mangled and unmangled on the fly to make them seem inaccessible by their given names"
   ]
  },
  {
   "cell_type": "markdown",
   "metadata": {},
   "source": [
    "#### Printing Objects"
   ]
  },
  {
   "cell_type": "code",
   "execution_count": 245,
   "metadata": {},
   "outputs": [
    {
     "name": "stdout",
     "output_type": "stream",
     "text": [
      "From str method of Test: a is 1234,b is 5678\n",
      "[Test a:1234 b:5678]\n"
     ]
    }
   ],
   "source": [
    "class Test: \n",
    "\tdef __init__(self, a, b): \n",
    "\t\tself.a = a \n",
    "\t\tself.b = b \n",
    "\n",
    "\tdef __repr__(self): \n",
    "\t\treturn \"Test a:%s b:%s\" % (self.a, self.b) \n",
    "\n",
    "\tdef __str__(self): \n",
    "\t\treturn \"From str method of Test: a is %s,\" \\\n",
    "\t\t\t\"b is %s\" % (self.a, self.b) \n",
    "\n",
    "# Driver Code\t\t \n",
    "t = Test(1234, 5678) \n",
    "print(t) # This calls __str__() \n",
    "print([t]) # This calls __repr__() \n"
   ]
  },
  {
   "cell_type": "markdown",
   "metadata": {},
   "source": [
    "#### (Inheritance, examples of object, issubclass and super)\n",
    "\n"
   ]
  },
  {
   "cell_type": "code",
   "execution_count": 246,
   "metadata": {},
   "outputs": [
    {
     "name": "stdout",
     "output_type": "stream",
     "text": [
      "Geek1 False\n",
      "Geek2 True\n"
     ]
    }
   ],
   "source": [
    "\n",
    "# A Python program to demonstrate inheritance \n",
    "\n",
    "# Base or Super class. Note object in bracket. \n",
    "# (Generally, object is made ancestor of all classes) \n",
    "# In Python 3.x \"class Person\" is \n",
    "# equivalent to \"class Person(object)\" \n",
    "class Person(object): \n",
    "\t\n",
    "\t# Constructor \n",
    "\tdef __init__(self, name): \n",
    "\t\tself.name = name \n",
    "\n",
    "\t# To get name \n",
    "\tdef getName(self): \n",
    "\t\treturn self.name \n",
    "\n",
    "\t# To check if this person is employee \n",
    "\tdef isEmployee(self): \n",
    "\t\treturn False\n",
    "\n",
    "\n",
    "# Inherited or Sub class (Note Person in bracket) \n",
    "class Employee(Person): \n",
    "\n",
    "\t# Here we return true \n",
    "\tdef isEmployee(self): \n",
    "\t\treturn True\n",
    "\n",
    "# Driver code \n",
    "emp = Person(\"Geek1\") # An Object of Person \n",
    "print(emp.getName(), emp.isEmployee()) \n",
    "\n",
    "emp = Employee(\"Geek2\") # An Object of Employee \n",
    "print(emp.getName(), emp.isEmployee()) \n"
   ]
  },
  {
   "cell_type": "markdown",
   "metadata": {},
   "source": [
    "#### How to check if a class is subclass of another?\n",
    "Python provides a function issubclass() that directly tells us if a class is subclass of another class."
   ]
  },
  {
   "cell_type": "code",
   "execution_count": 247,
   "metadata": {},
   "outputs": [
    {
     "name": "stdout",
     "output_type": "stream",
     "text": [
      "True\n",
      "False\n",
      "False\n",
      "True\n"
     ]
    }
   ],
   "source": [
    "# Python example to check if a class is \n",
    "# subclass of another \n",
    "\n",
    "class Base(object): \n",
    "\tpass # Empty Class \n",
    "\n",
    "class Derived(Base): \n",
    "\tpass # Empty Class \n",
    "\n",
    "# Driver Code \n",
    "print(issubclass(Derived, Base)) \n",
    "print(issubclass(Base, Derived)) \n",
    "\n",
    "d = Derived() \n",
    "b = Base() \n",
    "\n",
    "# b is not an instance of Derived \n",
    "print(isinstance(b, Derived)) \n",
    "\n",
    "# But d is an instance of Base \n",
    "print(isinstance(d, Base)) \n"
   ]
  },
  {
   "cell_type": "markdown",
   "metadata": {},
   "source": [
    "#### How to access parent members in a subclass?"
   ]
  },
  {
   "cell_type": "code",
   "execution_count": 256,
   "metadata": {},
   "outputs": [
    {
     "name": "stdout",
     "output_type": "stream",
     "text": [
      "10 20\n"
     ]
    }
   ],
   "source": [
    "# Python example to show that base \n",
    "# class members can be accessed in \n",
    "# derived class using base class name \n",
    "class Base(object): \n",
    "\n",
    "    # Constructor \n",
    "    def __init__(self, x): \n",
    "        self.x = x   \n",
    "\n",
    "class Derived(Base): \n",
    "\n",
    "    # Constructor \n",
    "    def __init__(self, x, y): \n",
    "        Base.x = x \n",
    "        self.y = y \n",
    "\n",
    "    def printXY(self):\n",
    "        # print(self.x, self.y) will also work \n",
    "        print (Base.x, self.y)\n",
    "\n",
    "\n",
    "# Driver Code \n",
    "d = Derived(10, 20) \n",
    "d.printXY() \n"
   ]
  },
  {
   "cell_type": "code",
   "execution_count": 260,
   "metadata": {},
   "outputs": [
    {
     "name": "stdout",
     "output_type": "stream",
     "text": [
      "10 20\n"
     ]
    }
   ],
   "source": [
    "# Python example to show that base \n",
    "# class members can be accessed in \n",
    "# derived class using super() \n",
    "class Base(object): \n",
    "\n",
    "\t# Constructor \n",
    "\tdef __init__(self, x): \n",
    "\t\tself.x = x   \n",
    "\n",
    "class Derived(Base): \n",
    "\n",
    "\t# Constructor \n",
    "\tdef __init__(self, x, y): \n",
    "\t\t\n",
    "\t\t''' In Python 3.x, \"super().__init__(name)\" \n",
    "\t\t\talso works'''\n",
    "\t\tsuper(Derived, self).__init__(x) \n",
    "\t\tself.y = y \n",
    "\n",
    "\tdef printXY(self): \n",
    "\n",
    "\t# Note that Base.x won't work here \n",
    "\t# because super() is used in constructor \n",
    "\t\tprint(self.x, self.y) \n",
    "\n",
    "\n",
    "# Driver Code \n",
    "d = Derived(10, 20) \n",
    "d.printXY() \n"
   ]
  },
  {
   "cell_type": "markdown",
   "metadata": {},
   "source": [
    "### Polymorphism in Python"
   ]
  },
  {
   "cell_type": "code",
   "execution_count": 261,
   "metadata": {},
   "outputs": [
    {
     "name": "stdout",
     "output_type": "stream",
     "text": [
      "5\n",
      "3\n"
     ]
    }
   ],
   "source": [
    "# Python program to demonstrate in-built poly- \n",
    "# morphic functions \n",
    "\n",
    "# len() being used for a string \n",
    "print(len(\"geeks\")) \n",
    "\n",
    "# len() being used for a list \n",
    "print(len([10, 20, 30])) \n"
   ]
  },
  {
   "cell_type": "code",
   "execution_count": 262,
   "metadata": {},
   "outputs": [
    {
     "name": "stdout",
     "output_type": "stream",
     "text": [
      "5\n",
      "9\n"
     ]
    }
   ],
   "source": [
    "# A simple Python function to demonstrate \n",
    "# Polymorphism \n",
    "\n",
    "def add(x, y, z = 0): \n",
    "\treturn x + y+z \n",
    "\n",
    "# Driver code \n",
    "print(add(2, 3)) \n",
    "print(add(2, 3, 4)) \n"
   ]
  },
  {
   "cell_type": "code",
   "execution_count": 263,
   "metadata": {},
   "outputs": [
    {
     "name": "stdout",
     "output_type": "stream",
     "text": [
      "New Delhi is the capital of India.\n",
      "Hindi is the most widely spoken language of India.\n",
      "India is a developing country.\n",
      "Washington, D.C. is the capital of USA.\n",
      "English is the primary language of USA.\n",
      "USA is a developed country.\n"
     ]
    }
   ],
   "source": [
    "class India(): \n",
    "\tdef capital(self): \n",
    "\t\tprint(\"New Delhi is the capital of India.\") \n",
    "\n",
    "\tdef language(self): \n",
    "\t\tprint(\"Hindi is the most widely spoken language of India.\") \n",
    "\n",
    "\tdef type(self): \n",
    "\t\tprint(\"India is a developing country.\") \n",
    "\n",
    "class USA(): \n",
    "\tdef capital(self): \n",
    "\t\tprint(\"Washington, D.C. is the capital of USA.\") \n",
    "\n",
    "\tdef language(self): \n",
    "\t\tprint(\"English is the primary language of USA.\") \n",
    "\n",
    "\tdef type(self): \n",
    "\t\tprint(\"USA is a developed country.\") \n",
    "\n",
    "obj_ind = India() \n",
    "obj_usa = USA() \n",
    "for country in (obj_ind, obj_usa): \n",
    "\tcountry.capital() \n",
    "\tcountry.language() \n",
    "\tcountry.type() \n"
   ]
  },
  {
   "cell_type": "markdown",
   "metadata": {},
   "source": [
    "#### Polymorphism with Inheritance:"
   ]
  },
  {
   "cell_type": "code",
   "execution_count": 267,
   "metadata": {},
   "outputs": [
    {
     "name": "stdout",
     "output_type": "stream",
     "text": [
      "There are many types of birds.\n",
      "Most of the birds can fly but some cannot.\n",
      "There are many types of birds.\n",
      "Sparrows can fly.\n",
      "There are many types of birds.\n",
      "Ostriches cannot fly.\n"
     ]
    }
   ],
   "source": [
    "class Bird: \n",
    "    def intro(self): \n",
    "        print(\"There are many types of birds.\") \n",
    "\t\n",
    "    def flight(self): \n",
    "        print(\"Most of the birds can fly but some cannot.\") \n",
    "\t\n",
    "class sparrow(Bird): \n",
    "    def flight(self): \n",
    "        print(\"Sparrows can fly.\") \n",
    "\t\n",
    "class ostrich(Bird): \n",
    "    def flight(self): \n",
    "        print(\"Ostriches cannot fly.\") \n",
    "\t\n",
    "obj_bird = Bird() \n",
    "obj_spr = sparrow() \n",
    "obj_ost = ostrich() \n",
    "\n",
    "obj_bird.intro() \n",
    "obj_bird.flight() \n",
    "\n",
    "obj_spr.intro() \n",
    "obj_spr.flight() \n",
    "\n",
    "obj_ost.intro() \n",
    "obj_ost.flight() \n"
   ]
  },
  {
   "cell_type": "markdown",
   "metadata": {},
   "source": [
    "#### Implementing Polymorphism with a Function"
   ]
  },
  {
   "cell_type": "code",
   "execution_count": 268,
   "metadata": {},
   "outputs": [
    {
     "name": "stdout",
     "output_type": "stream",
     "text": [
      "New Delhi is the capital of India.\n",
      "Hindi is the most widely spoken language of India.\n",
      "India is a developing country.\n",
      "Washington, D.C. is the capital of USA.\n",
      "English is the primary language of USA.\n",
      "USA is a developed country.\n"
     ]
    }
   ],
   "source": [
    "class India(): \n",
    "\tdef capital(self): \n",
    "\t\tprint(\"New Delhi is the capital of India.\") \n",
    "\n",
    "\tdef language(self): \n",
    "\t\tprint(\"Hindi is the most widely spoken language of India.\") \n",
    "\n",
    "\tdef type(self): \n",
    "\t\tprint(\"India is a developing country.\") \n",
    "\n",
    "class USA(): \n",
    "\tdef capital(self): \n",
    "\t\tprint(\"Washington, D.C. is the capital of USA.\") \n",
    "\n",
    "\tdef language(self): \n",
    "\t\tprint(\"English is the primary language of USA.\") \n",
    "\n",
    "\tdef type(self): \n",
    "\t\tprint(\"USA is a developed country.\") \n",
    "\n",
    "def func(obj): \n",
    "\tobj.capital() \n",
    "\tobj.language() \n",
    "\tobj.type() \n",
    "\n",
    "obj_ind = India() \n",
    "obj_usa = USA() \n",
    "\n",
    "func(obj_ind) \n",
    "func(obj_usa) \n"
   ]
  },
  {
   "cell_type": "markdown",
   "metadata": {},
   "source": [
    "#### Changing Class Members in Python"
   ]
  },
  {
   "cell_type": "markdown",
   "metadata": {},
   "source": [
    "We should be careful when changing value of class variable. If we try to change class variable using object, a new instance (or non-static) variable for that particular object is created and this variable shadows the class variables. Below is Python program to demonstrate the same."
   ]
  },
  {
   "cell_type": "code",
   "execution_count": 271,
   "metadata": {},
   "outputs": [
    {
     "name": "stdout",
     "output_type": "stream",
     "text": [
      "Initially\n",
      "a.stream = cse\n",
      "b.stream = cse\n",
      "\n",
      "After changing a.stream\n",
      "a.stream = ece\n",
      "b.stream = cse\n"
     ]
    }
   ],
   "source": [
    "# Class for Computer Science Student \n",
    "class CSStudent: \n",
    "\tstream = 'cse'\t # Class Variable \n",
    "\tdef __init__(self, name, roll): \n",
    "\t\tself.name = name \n",
    "\t\tself.roll = roll \n",
    "\n",
    "# Driver program to test the functionality \n",
    "# Creating objects of CSStudent class \n",
    "a = CSStudent(\"Geek\", 1) \n",
    "b = CSStudent(\"Nerd\", 2) \n",
    "\n",
    "print (\"Initially\")\n",
    "print (\"a.stream =\", a.stream )\n",
    "print (\"b.stream =\", b.stream )\n",
    "\n",
    "# This thing doesn't change class(static) variable \n",
    "# Instead creates instance variable for the object \n",
    "# 'a' that shadows class member. \n",
    "a.stream = \"ece\"\n",
    "\n",
    "print (\"\\nAfter changing a.stream\")\n",
    "print (\"a.stream =\", a.stream )\n",
    "print (\"b.stream =\", b.stream )\n"
   ]
  },
  {
   "cell_type": "markdown",
   "metadata": {},
   "source": [
    "We should change class variables using class name only."
   ]
  },
  {
   "cell_type": "code",
   "execution_count": null,
   "metadata": {},
   "outputs": [],
   "source": [
    "# Program to show how to make changes to the \n",
    "# class variable in Python \n",
    "\n",
    "# Class for Computer Science Student \n",
    "class CSStudent: \n",
    "\tstream = 'cse'\t # Class Variable \n",
    "\tdef __init__(self, name, roll): \n",
    "\t\tself.name = name \n",
    "\t\tself.roll = roll \n",
    "\n",
    "# New object for further implementation \n",
    "a = CSStudent(\"check\", 3) \n",
    "print (\"a.tream =\", a.stream )\n",
    "\n",
    "# Correct way to change the value of class variable \n",
    "CSStudent.stream = \"mec\"\n",
    "print (\"\\nClass variable changes to mec\")\n",
    "\n",
    "# New object for further implementation \n",
    "b = CSStudent(\"carter\", 4) \n",
    "\n",
    "print (\"\\nValue of variable steam for each object\")\n",
    "print (\"a.stream =\", a.stream )\n",
    "print (\"b.stream =\", b.stream )\n"
   ]
  },
  {
   "cell_type": "markdown",
   "metadata": {},
   "source": [
    "#### Constructors in Python"
   ]
  },
  {
   "cell_type": "code",
   "execution_count": 274,
   "metadata": {},
   "outputs": [
    {
     "name": "stdout",
     "output_type": "stream",
     "text": [
      "GeekforGeeks\n"
     ]
    }
   ],
   "source": [
    "class GeekforGeeks: \n",
    "\n",
    "\t# default constructor \n",
    "\tdef __init__(self): \n",
    "\t\tself.geek = \"GeekforGeeks\"\n",
    "\n",
    "\t# a method for printing data members \n",
    "\tdef print_Geek(self): \n",
    "\t\tprint(self.geek) \n",
    "\n",
    "\n",
    "# creating object of the class \n",
    "obj = GeekforGeeks() \n",
    "\n",
    "# calling the instance method using the object obj \n",
    "obj.print_Geek() \n"
   ]
  },
  {
   "cell_type": "code",
   "execution_count": 276,
   "metadata": {},
   "outputs": [
    {
     "name": "stdout",
     "output_type": "stream",
     "text": [
      "First number = 1000\n",
      "Second number = 2000\n",
      "Addition of two numbers = 3000\n"
     ]
    }
   ],
   "source": [
    "del str\n",
    "\n",
    "class Addition: \n",
    "\tfirst = 0\n",
    "\tsecond = 0\n",
    "\tanswer = 0\n",
    "\t\n",
    "\t# parameterized constructor \n",
    "\tdef __init__(self, f, s): \n",
    "\t\tself.first = f \n",
    "\t\tself.second = s \n",
    "\t\n",
    "\tdef display(self): \n",
    "\t\tprint(\"First number = \" + str(self.first)) \n",
    "\t\tprint(\"Second number = \" + str(self.second)) \n",
    "\t\tprint(\"Addition of two numbers = \" + str(self.answer)) \n",
    "\n",
    "\tdef calculate(self): \n",
    "\t\tself.answer = self.first + self.second \n",
    "\n",
    "# creating object of the class \n",
    "# this will invoke parameterized constructor \n",
    "obj = Addition(1000, 2000) \n",
    "\n",
    "# perform Addition \n",
    "obj.calculate() \n",
    "\n",
    "# display result \n",
    "obj.display() \n"
   ]
  },
  {
   "cell_type": "markdown",
   "metadata": {},
   "source": [
    "#### Destructors in Python"
   ]
  },
  {
   "cell_type": "code",
   "execution_count": 277,
   "metadata": {},
   "outputs": [
    {
     "name": "stdout",
     "output_type": "stream",
     "text": [
      "Employee created.\n",
      "Destructor called, Employee deleted.\n"
     ]
    }
   ],
   "source": [
    "# Python program to illustrate destructor \n",
    "class Employee: \n",
    "\n",
    "\t# Initializing \n",
    "\tdef __init__(self): \n",
    "\t\tprint('Employee created.') \n",
    "\n",
    "\t# Deleting (Calling destructor) \n",
    "\tdef __del__(self): \n",
    "\t\tprint('Destructor called, Employee deleted.') \n",
    "\n",
    "obj = Employee() \n",
    "del obj \n"
   ]
  },
  {
   "cell_type": "markdown",
   "metadata": {},
   "source": [
    "##### if your instances are involved in circular references they will live in memory for as long as the application run."
   ]
  },
  {
   "cell_type": "markdown",
   "metadata": {},
   "source": [
    "## Exception Handling"
   ]
  },
  {
   "cell_type": "code",
   "execution_count": 279,
   "metadata": {},
   "outputs": [
    {
     "name": "stdout",
     "output_type": "stream",
     "text": [
      "Second element = 2\n",
      "An error occurred\n"
     ]
    }
   ],
   "source": [
    "# Python program to handle simple runtime error \n",
    "\n",
    "a = [1, 2, 3] \n",
    "try: \n",
    "\tprint (\"Second element = %d\" %(a[1]) )\n",
    "\n",
    "\t# Throws error since there are only 3 elements in array \n",
    "\tprint (\"Fourth element = %d\" %(a[3]) )\n",
    "\n",
    "except IndexError: \n",
    "\tprint (\"An error occurred\")\n"
   ]
  },
  {
   "cell_type": "code",
   "execution_count": 280,
   "metadata": {},
   "outputs": [
    {
     "name": "stdout",
     "output_type": "stream",
     "text": [
      "\n",
      "Error Occurred and Handled\n"
     ]
    }
   ],
   "source": [
    "# Program to handle multiple errors with one except statement \n",
    "try : \n",
    "\ta = 3\n",
    "\tif a < 4 : \n",
    "\n",
    "\t\t# throws ZeroDivisionError for a = 3 \n",
    "\t\tb = a/(a-3) \n",
    "\t\n",
    "\t# throws NameError if a >= 4 \n",
    "\tprint (\"Value of b = \", b )\n",
    "\n",
    "# note that braces () are necessary here for multiple exceptions \n",
    "except(ZeroDivisionError, NameError): \n",
    "\tprint (\"\\nError Occurred and Handled\")\n"
   ]
  },
  {
   "cell_type": "code",
   "execution_count": 281,
   "metadata": {},
   "outputs": [
    {
     "name": "stdout",
     "output_type": "stream",
     "text": [
      "-5.0\n",
      "a/b result in 0\n"
     ]
    }
   ],
   "source": [
    "# Program to depict else clause with try-except \n",
    "\n",
    "# Function which returns a/b \n",
    "def AbyB(a , b): \n",
    "\ttry: \n",
    "\t\tc = ((a+b) / (a-b)) \n",
    "\texcept ZeroDivisionError: \n",
    "\t\tprint (\"a/b result in 0\")\n",
    "\telse: \n",
    "\t\tprint (c) \n",
    "\n",
    "# Driver program to test above function \n",
    "AbyB(2.0, 3.0) \n",
    "AbyB(3.0, 3.0) \n"
   ]
  },
  {
   "cell_type": "code",
   "execution_count": 284,
   "metadata": {},
   "outputs": [
    {
     "name": "stdout",
     "output_type": "stream",
     "text": [
      "An exception\n"
     ]
    },
    {
     "ename": "NameError",
     "evalue": "Hi there",
     "output_type": "error",
     "traceback": [
      "\u001b[0;31m---------------------------------------------------------------------------\u001b[0m",
      "\u001b[0;31mNameError\u001b[0m                                 Traceback (most recent call last)",
      "\u001b[0;32m<ipython-input-284-8e23937df0e2>\u001b[0m in \u001b[0;36m<module>\u001b[0;34m\u001b[0m\n\u001b[1;32m      2\u001b[0m \u001b[0;34m\u001b[0m\u001b[0m\n\u001b[1;32m      3\u001b[0m \u001b[0;32mtry\u001b[0m\u001b[0;34m:\u001b[0m\u001b[0;34m\u001b[0m\u001b[0;34m\u001b[0m\u001b[0m\n\u001b[0;32m----> 4\u001b[0;31m         \u001b[0;32mraise\u001b[0m \u001b[0mNameError\u001b[0m\u001b[0;34m(\u001b[0m\u001b[0;34m\"Hi there\"\u001b[0m\u001b[0;34m)\u001b[0m \u001b[0;31m# Raise Error\u001b[0m\u001b[0;34m\u001b[0m\u001b[0;34m\u001b[0m\u001b[0m\n\u001b[0m\u001b[1;32m      5\u001b[0m \u001b[0;32mexcept\u001b[0m \u001b[0mNameError\u001b[0m\u001b[0;34m:\u001b[0m\u001b[0;34m\u001b[0m\u001b[0;34m\u001b[0m\u001b[0m\n\u001b[1;32m      6\u001b[0m         \u001b[0mprint\u001b[0m \u001b[0;34m(\u001b[0m\u001b[0;34m\"An exception\"\u001b[0m\u001b[0;34m)\u001b[0m\u001b[0;34m\u001b[0m\u001b[0;34m\u001b[0m\u001b[0m\n",
      "\u001b[0;31mNameError\u001b[0m: Hi there"
     ]
    }
   ],
   "source": [
    "# Program to depict Raising Exception \n",
    "\n",
    "try: \n",
    "\traise NameError(\"Hi there\") # Raise Error \n",
    "except NameError: \n",
    "\tprint (\"An exception\")\n",
    "\traise # To determine whether the exception was raised or not \n"
   ]
  },
  {
   "cell_type": "code",
   "execution_count": 292,
   "metadata": {},
   "outputs": [
    {
     "name": "stdout",
     "output_type": "stream",
     "text": [
      "A New Exception occured:  6\n"
     ]
    }
   ],
   "source": [
    "# A python program to create user-defined exception \n",
    "\n",
    "# class MyError is derived from super class Exception \n",
    "class MyError(Exception): \n",
    "\n",
    "\t# Constructor or Initializer \n",
    "\tdef __init__(self, value): \n",
    "\t\tself.value = value \n",
    "\n",
    "\t# __str__ is to print() the value \n",
    "\tdef __str__(self): \n",
    "\t\treturn(repr(self.value)) \n",
    "\n",
    "try: \n",
    "\traise(MyError(3*2)) \n",
    "\n",
    "# Value of Exception is stored in error \n",
    "except MyError as error: \n",
    "\tprint('A New Exception occured: ',error.value) "
   ]
  },
  {
   "cell_type": "code",
   "execution_count": 293,
   "metadata": {},
   "outputs": [
    {
     "name": "stdout",
     "output_type": "stream",
     "text": [
      "Yeah ! Your answer is : 1\n",
      "I'm finally clause, always raised !! \n"
     ]
    }
   ],
   "source": [
    "# Python code to illustrate \n",
    "# clean up actions \n",
    "def divide(x, y): \n",
    "\ttry: \n",
    "\t\t# Floor Division : Gives only Fractional Part as Answer \n",
    "\t\tresult = x // y \n",
    "\texcept ZeroDivisionError: \n",
    "\t\tprint(\"Sorry ! You are dividing by zero \") \n",
    "\telse: \n",
    "\t\tprint(\"Yeah ! Your answer is :\", result) \n",
    "\tfinally: \n",
    "\t\tprint(\"I'm finally clause, always raised !! \") \n",
    "\n",
    "# Look at parameters and note the working of Program \n",
    "divide(3, 2) \n"
   ]
  },
  {
   "cell_type": "code",
   "execution_count": 294,
   "metadata": {},
   "outputs": [
    {
     "name": "stdout",
     "output_type": "stream",
     "text": [
      "Sorry ! You are dividing by zero \n",
      "I'm finally clause, always raised !! \n"
     ]
    }
   ],
   "source": [
    "# Python code to illustrate \n",
    "# clean up actions \n",
    "def divide(x, y): \n",
    "\ttry: \n",
    "\t\t# Floor Division : Gives only Fractional Part as Answer \n",
    "\t\tresult = x // y \n",
    "\texcept ZeroDivisionError: \n",
    "\t\tprint(\"Sorry ! You are dividing by zero \") \n",
    "\telse: \n",
    "\t\tprint(\"Yeah ! Your answer is :\", result) \n",
    "\tfinally: \n",
    "\t\tprint(\"I'm finally clause, always raised !! \") \n",
    "\n",
    "# Look at parameters and note the working of Program \n",
    "divide(3, 0) \n"
   ]
  },
  {
   "cell_type": "code",
   "execution_count": 295,
   "metadata": {},
   "outputs": [
    {
     "name": "stdout",
     "output_type": "stream",
     "text": [
      "I'm finally clause, always raised !! \n"
     ]
    },
    {
     "ename": "TypeError",
     "evalue": "unsupported operand type(s) for //: 'int' and 'str'",
     "output_type": "error",
     "traceback": [
      "\u001b[0;31m---------------------------------------------------------------------------\u001b[0m",
      "\u001b[0;31mTypeError\u001b[0m                                 Traceback (most recent call last)",
      "\u001b[0;32m<ipython-input-295-895132342566>\u001b[0m in \u001b[0;36m<module>\u001b[0;34m\u001b[0m\n\u001b[1;32m     13\u001b[0m \u001b[0;34m\u001b[0m\u001b[0m\n\u001b[1;32m     14\u001b[0m \u001b[0;31m# Look at parameters and note the working of Program\u001b[0m\u001b[0;34m\u001b[0m\u001b[0;34m\u001b[0m\u001b[0;34m\u001b[0m\u001b[0m\n\u001b[0;32m---> 15\u001b[0;31m \u001b[0mdivide\u001b[0m\u001b[0;34m(\u001b[0m\u001b[0;36m3\u001b[0m\u001b[0;34m,\u001b[0m \u001b[0;34m\"3\"\u001b[0m\u001b[0;34m)\u001b[0m\u001b[0;34m\u001b[0m\u001b[0;34m\u001b[0m\u001b[0m\n\u001b[0m",
      "\u001b[0;32m<ipython-input-295-895132342566>\u001b[0m in \u001b[0;36mdivide\u001b[0;34m(x, y)\u001b[0m\n\u001b[1;32m      4\u001b[0m         \u001b[0;32mtry\u001b[0m\u001b[0;34m:\u001b[0m\u001b[0;34m\u001b[0m\u001b[0;34m\u001b[0m\u001b[0m\n\u001b[1;32m      5\u001b[0m                 \u001b[0;31m# Floor Division : Gives only Fractional Part as Answer\u001b[0m\u001b[0;34m\u001b[0m\u001b[0;34m\u001b[0m\u001b[0;34m\u001b[0m\u001b[0m\n\u001b[0;32m----> 6\u001b[0;31m                 \u001b[0mresult\u001b[0m \u001b[0;34m=\u001b[0m \u001b[0mx\u001b[0m \u001b[0;34m//\u001b[0m \u001b[0my\u001b[0m\u001b[0;34m\u001b[0m\u001b[0;34m\u001b[0m\u001b[0m\n\u001b[0m\u001b[1;32m      7\u001b[0m         \u001b[0;32mexcept\u001b[0m \u001b[0mZeroDivisionError\u001b[0m\u001b[0;34m:\u001b[0m\u001b[0;34m\u001b[0m\u001b[0;34m\u001b[0m\u001b[0m\n\u001b[1;32m      8\u001b[0m                 \u001b[0mprint\u001b[0m\u001b[0;34m(\u001b[0m\u001b[0;34m\"Sorry ! You are dividing by zero \"\u001b[0m\u001b[0;34m)\u001b[0m\u001b[0;34m\u001b[0m\u001b[0;34m\u001b[0m\u001b[0m\n",
      "\u001b[0;31mTypeError\u001b[0m: unsupported operand type(s) for //: 'int' and 'str'"
     ]
    }
   ],
   "source": [
    "# Python code to illustrate \n",
    "# clean up actions \n",
    "def divide(x, y): \n",
    "\ttry: \n",
    "\t\t# Floor Division : Gives only Fractional Part as Answer \n",
    "\t\tresult = x // y \n",
    "\texcept ZeroDivisionError: \n",
    "\t\tprint(\"Sorry ! You are dividing by zero \") \n",
    "\telse: \n",
    "\t\tprint(\"Yeah ! Your answer is :\", result) \n",
    "\tfinally: \n",
    "\t\tprint(\"I'm finally clause, always raised !! \") \n",
    "\n",
    "# Look at parameters and note the working of Program \n",
    "divide(3, \"3\") \n"
   ]
  }
 ],
 "metadata": {
  "kernelspec": {
   "display_name": "Python 3",
   "language": "python",
   "name": "python3"
  },
  "language_info": {
   "codemirror_mode": {
    "name": "ipython",
    "version": 3
   },
   "file_extension": ".py",
   "mimetype": "text/x-python",
   "name": "python",
   "nbconvert_exporter": "python",
   "pygments_lexer": "ipython3",
   "version": "3.7.4"
  }
 },
 "nbformat": 4,
 "nbformat_minor": 2
}
